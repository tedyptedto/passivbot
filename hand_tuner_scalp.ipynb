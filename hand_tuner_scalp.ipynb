{
 "cells": [
  {
   "cell_type": "code",
   "execution_count": null,
   "id": "5d04cc5b-ff14-4d8a-8b01-36d4935897ca",
   "metadata": {},
   "outputs": [],
   "source": [
    "%load_ext autoreload\n",
    "%autoreload 2"
   ]
  },
  {
   "cell_type": "code",
   "execution_count": null,
   "id": "38c240d7-c65b-457b-a10f-7a8f24dccf96",
   "metadata": {
    "tags": []
   },
   "outputs": [],
   "source": [
    "from backtest import backtest\n",
    "from plotting import plot_fills\n",
    "from downloader import Downloader\n",
    "from pure_funcs import denumpyize, numpyize, get_template_live_config_vanilla, candidate_to_live_config, calc_spans, \\\n",
    "    analyze_fills, create_xk, round_dynamic, determine_config_type, round_values\n",
    "from njit_funcs import calc_emas, calc_long_scalp_entry, calc_long_close_grid, round_, calc_bankruptcy_price, calc_diff, \\\n",
    "    calc_new_psize_pprice, qty_to_cost\n",
    "from procedures import dump_live_config, load_live_config, add_argparse_args, prepare_backtest_config, make_get_filepath\n",
    "from time import time\n",
    "import sys\n",
    "import argparse\n",
    "import pprint\n",
    "import matplotlib.pyplot as plt\n",
    "import json\n",
    "import pandas as pd\n",
    "import numpy as np"
   ]
  },
  {
   "cell_type": "code",
   "execution_count": null,
   "id": "c81212aa-6395-46b5-9b57-f6a8d7faa245",
   "metadata": {},
   "outputs": [],
   "source": [
    "plt.rcParams['figure.figsize'] = [29, 18]\n",
    "pd.set_option('precision', 10)"
   ]
  },
  {
   "cell_type": "code",
   "execution_count": null,
   "id": "457aed4f-fa83-4cd9-bd74-d6c89b4e269d",
   "metadata": {
    "tags": []
   },
   "outputs": [],
   "source": [
    "class Args:\n",
    "    def __init__(self):\n",
    "        self.backtest_config_path = 'configs/backtest/default.hjson'\n",
    "        self.exchange = 'binance'\n",
    "        self.symbol = 'XMRUSDT'\n",
    "        self.market_type = 'futures'\n",
    "        self.user = 'user_name'\n",
    "        self.start_date = '2021-04-01'\n",
    "        self.end_date = '2021-08-23'\n",
    "        self.starting_balance = 1000.0\n",
    "        self.starting_configs = ''\n",
    "        self.base_dir = 'backtests'\n",
    "config = await prepare_backtest_config(Args())\n",
    "dl = Downloader(config)\n",
    "sts = time()\n",
    "data = await dl.get_sampled_ticks()\n",
    "timestamps = data[:, 0]\n",
    "qtys = data[:, 1]\n",
    "prices = data[:, 2]\n",
    "config['n_days'] = (timestamps[-1] - timestamps[0]) / (1000 * 60 * 60 * 24)\n",
    "\n",
    "print(f'millis to load {len(prices)} ticks {(time() - sts) * 1000:.0f}ms')"
   ]
  },
  {
   "cell_type": "code",
   "execution_count": null,
   "id": "f38d8fd3-ccf4-4465-837b-24abaa121cee",
   "metadata": {},
   "outputs": [],
   "source": [
    "df = pd.DataFrame({'timestamp': timestamps, 'qty': qtys, 'price': prices}).set_index('timestamp')\n",
    "df.price.iloc[::100].plot()"
   ]
  },
  {
   "cell_type": "code",
   "execution_count": null,
   "id": "7239f8ed-1096-41ba-809b-00bb188ceb97",
   "metadata": {},
   "outputs": [],
   "source": [
    "# choose a slice on which to test\n",
    "wsize_days = 240\n",
    "ts = int(data[-1][0] - 60 * 60 * 24 * 1000 * wsize_days)\n",
    "idx = np.argmax(data[:, 0] >= ts)\n",
    "dataslice = data[idx:]"
   ]
  },
  {
   "cell_type": "code",
   "execution_count": null,
   "id": "4633ba99-c5e7-4c0a-931d-08f61cad94c9",
   "metadata": {},
   "outputs": [],
   "source": [
    "hand_tuned = {\n",
    "    \"config_name\": \"hand_tuned_scalp\",\n",
    "    \"logging_level\": 0,\n",
    "    \"long\": {\"enabled\": True,\n",
    "             \"primary_ddown_factor\": 1.15,\n",
    "             \"primary_grid_spacing\":  0.028,\n",
    "             \"primary_initial_qty_pct\":  0.01,\n",
    "             \"primary_pbr_limit\": 0.5,\n",
    "             \"primary_grid_spacing_pbr_weighting\": [0.045, 0.045],\n",
    "             \"secondary_ddown_factor\": 2.0,\n",
    "             \"secondary_grid_spacing\":  0.18,\n",
    "             \"secondary_pbr_limit_added\":  0.5,\n",
    "             \"min_markup\": 0.001,\n",
    "             \"markup_range\": 0.009,\n",
    "             \"n_close_orders\": 10},\n",
    "    \"shrt\": {\"enabled\": True,\n",
    "             \"primary_ddown_factor\": 1.15,\n",
    "             \"primary_grid_spacing\":  0.028,\n",
    "             \"primary_initial_qty_pct\":  0.01,\n",
    "             \"primary_pbr_limit\": 0.6,\n",
    "             \"primary_grid_spacing_pbr_weighting\": [0.065, 0.065],\n",
    "             \"secondary_ddown_factor\": 2.0,\n",
    "             \"secondary_grid_spacing\":  0.18,\n",
    "             \"secondary_pbr_limit_added\":  0.5,\n",
    "             \"min_markup\": 0.001,\n",
    "             \"markup_range\": 0.009,\n",
    "             \"n_close_orders\": 10}\n",
    "}\n",
    "\n",
    "# round for better human readability\n",
    "hand_tuned = round_values(hand_tuned, 4)\n",
    "config['starting_balance'] = 1000.0\n",
    "config_to_test = {**config, **numpyize(hand_tuned)}\n",
    "dump_live_config(config_to_test, make_get_filepath(f'tmp/hand_tuned_scalp.json'))\n",
    "hand_tuned"
   ]
  },
  {
   "cell_type": "code",
   "execution_count": null,
   "id": "70102f1a-0324-4920-ac0f-253c4b4ecd5d",
   "metadata": {},
   "outputs": [],
   "source": [
    "sts = time()\n",
    "fills, info, stats = backtest(config_to_test, dataslice)\n",
    "elapsed = time() - sts\n",
    "print(f'seconds elapsed {elapsed:.4f}')\n",
    "print(f'did finish {info[0]}, lowest eqbal ratio {info[1]:.4f}, closest bkr {info[2]:.4f}')\n",
    "result = {**config_to_test, **{'lowest_eqbal_ratio': info[1], 'closest_bkr': info[2]}}\n",
    "sample_size_ms = dataslice[1][0] - dataslice[0][0]\n",
    "fdf, analysis = analyze_fills(fills, result, dataslice[0][0], dataslice[-1][0])\n",
    "pprint.pprint(analysis)\n",
    "fdf"
   ]
  },
  {
   "cell_type": "code",
   "execution_count": null,
   "id": "32b2dc74-24e4-487b-bdcb-d30281e3cf12",
   "metadata": {},
   "outputs": [],
   "source": [
    "plot_fills(df, fdf)"
   ]
  },
  {
   "cell_type": "code",
   "execution_count": null,
   "id": "a89d5923-d2fd-4383-b3bc-d06293c253a8",
   "metadata": {},
   "outputs": [],
   "source": [
    "fdf.tail(60)"
   ]
  },
  {
   "cell_type": "code",
   "execution_count": null,
   "id": "c7c9c3fd-9722-4c09-abb7-aa2eace8b8b9",
   "metadata": {},
   "outputs": [],
   "source": [
    "fdf.balance.plot()\n",
    "fdf.equity.plot()"
   ]
  },
  {
   "cell_type": "code",
   "execution_count": null,
   "id": "4aa9d609-ccd2-4ae5-862e-0d8758ee4953",
   "metadata": {},
   "outputs": [],
   "source": [
    "fdf.psize.plot()"
   ]
  },
  {
   "cell_type": "code",
   "execution_count": null,
   "id": "141dce52-5abb-44c8-91e8-18565d13c89d",
   "metadata": {},
   "outputs": [],
   "source": [
    "periodic_gain_n_days = 5\n",
    "groups = fdf.groupby(fdf.timestamp // (1000 * 60 * 60 * 24 * periodic_gain_n_days))\n",
    "pgs = groups.pnl.sum() / groups.balance.first()\n",
    "pgs = pgs.reindex(np.arange(pgs.index[0], pgs.index[-1])).fillna(0.0)\n",
    "pg_mean = pgs.mean()\n",
    "pg_std = pgs.std()\n",
    "sharpe_ratio = pg_mean / pg_std if pg_std != 0.0 else -20.0\n",
    "pgs.plot()\n",
    "plt.plot([pgs.index[0], pgs.index[-1]], [pg_mean, pg_mean])\n",
    "print(f'mean {pg_mean:.4f} std {pg_std:.4} sharpe ratio {sharpe_ratio:.4f}')\n",
    "pgs"
   ]
  },
  {
   "cell_type": "code",
   "execution_count": null,
   "id": "f6c375c9-cccf-4bb7-95e4-f7e4bba5de5f",
   "metadata": {},
   "outputs": [],
   "source": [
    "# view grid\n",
    "# long only"
   ]
  },
  {
   "cell_type": "code",
   "execution_count": null,
   "id": "e218ed78-659b-4d5f-bb21-6650ce5e311d",
   "metadata": {},
   "outputs": [],
   "source": [
    "xk = create_xk(config_to_test)\n",
    "spot = xk['spot']\n",
    "inverse = xk['inverse']\n",
    "qty_step = xk['qty_step']\n",
    "price_step = xk['price_step']\n",
    "min_qty = xk['min_qty']\n",
    "min_cost = xk['min_cost']\n",
    "c_mult = xk['c_mult']\n",
    "primary_initial_qty_pct = xk['primary_initial_qty_pct'][0]\n",
    "primary_ddown_factor = xk['primary_ddown_factor'][0]\n",
    "primary_grid_spacing = xk['primary_grid_spacing'][0]\n",
    "primary_grid_spacing_pbr_weighting = xk['primary_grid_spacing_pbr_weighting'][0]\n",
    "primary_pbr_limit = xk['primary_pbr_limit'][0]\n",
    "secondary_ddown_factor = xk['secondary_ddown_factor'][0]\n",
    "secondary_grid_spacing = xk['secondary_grid_spacing'][0]\n",
    "secondary_pbr_limit_added = xk['secondary_pbr_limit_added'][0]\n",
    "min_markup = xk['min_markup'][0]\n",
    "markup_range = xk['markup_range'][0]\n",
    "n_close_orders = xk['n_close_orders'][0]\n",
    "\n",
    "balance = 1000.0\n",
    "long_psize = 0.0\n",
    "long_pprice = 0.0\n",
    "highest_bid = prices[-1]\n",
    "lowest_ask = prices[-1]\n",
    "long_pfills = ((0.0, 0.0),)\n",
    "do_long = True\n",
    "max_leverage = 20\n",
    "\n",
    "orders = []\n",
    "\n",
    "print(\"qty          price          psize         pprice        pprice / price ratio    pbr        bkr diff   type\")\n",
    "for k in range(10):\n",
    "    long_entry = calc_long_scalp_entry(\n",
    "        balance, long_psize, long_pprice, long_pfills, highest_bid,\n",
    "        spot, inverse, do_long, qty_step, price_step, min_qty, min_cost,\n",
    "        c_mult, max_leverage, primary_initial_qty_pct, primary_ddown_factor,\n",
    "        primary_grid_spacing, primary_grid_spacing_pbr_weighting, primary_pbr_limit,\n",
    "        secondary_ddown_factor, secondary_grid_spacing, secondary_pbr_limit_added\n",
    "\n",
    "    )\n",
    "    long_psize, long_pprice = calc_new_psize_pprice(long_psize, long_pprice, long_entry[0], long_entry[1], qty_step)\n",
    "    long_pcost = qty_to_cost(long_psize, long_pprice, inverse, c_mult)\n",
    "    bkr_price = calc_bankruptcy_price(balance,\n",
    "                          long_psize,\n",
    "                          long_pprice,\n",
    "                          0.0,\n",
    "                          0.0,\n",
    "                          inverse, c_mult)\n",
    "    pbr = long_pcost / balance\n",
    "    if long_entry[0] == 0.0:\n",
    "        break\n",
    "    bkr_diff = calc_diff(bkr_price, long_entry[1]) if long_entry[1] != 0.0 else 1.0\n",
    "    print(f\"{long_entry[0]: <12} {long_entry[1]: <14} {round_(long_psize, qty_step): <12}  {round_(long_pprice, price_step): <14}\"\n",
    "          f\"{round(long_pprice / long_entry[1], 4): <23} {round(pbr, 4): <10} {round(bkr_diff, 6): <10} {long_entry[2]}\")\n",
    "    orders.append(long_entry)\n",
    "print()\n",
    "orders = denumpyize(orders)\n",
    "primary_orders = [o for o in orders if 'primary' in o[2] or 'ientry' in o[2]]\n",
    "secondary_orders = [o for o in orders if 'secondary' in o[2]]\n",
    "\n",
    "print(f'primary grid span {(primary_orders[0][1] / primary_orders[-1][1] - 1) * 100:.4f}%')\n",
    "print(f'primary + secondary grid span {(orders[0][1] / orders[-1][1] - 1) * 100:.4f}%')\n",
    "#print('dist between grid entries', entry_prices[:-1] / entry_prices[1:])"
   ]
  },
  {
   "cell_type": "code",
   "execution_count": null,
   "id": "bac82031-0281-49d9-ae54-f039c5c9698d",
   "metadata": {},
   "outputs": [],
   "source": [
    "n_days_ = 14\n",
    "nticks = n_days_ * 24 * 60 * 60\n",
    "print('n ticks', nticks)\n",
    "dfc = df.iloc[-nticks:]\n",
    "primarydf = pd.DataFrame({p: [p, p] for p in [o[1] for o in primary_orders]}, index=[dfc.index[0], df.index[-1]])\n",
    "plt.plot(dfc.index.values, dfc.price.values)\n",
    "plt.plot(primarydf.index.values, primarydf.values, 'b-')\n",
    "if secondary_orders:\n",
    "    secondarydf = pd.DataFrame({p: [p, p] for p in [o[1] for o in secondary_orders]}, index=[dfc.index[0], df.index[-1]])\n",
    "    plt.plot(secondarydf.index.values, secondarydf.values, 'r-')\n"
   ]
  },
  {
   "cell_type": "code",
   "execution_count": null,
   "id": "83b0671a-54b7-4e4f-80c4-d9acb45e8322",
   "metadata": {},
   "outputs": [],
   "source": []
  },
  {
   "cell_type": "code",
   "execution_count": null,
   "id": "faaa432c-2e14-4839-a048-3ab22192b3a9",
   "metadata": {},
   "outputs": [],
   "source": []
  },
  {
   "cell_type": "code",
   "execution_count": null,
   "id": "d650aa24-d160-4508-9810-0743bd9254f1",
   "metadata": {},
   "outputs": [],
   "source": []
  },
  {
   "cell_type": "code",
   "execution_count": null,
   "id": "c8de1324-f9da-490f-8093-7f8237e40b19",
   "metadata": {},
   "outputs": [],
   "source": []
  }
 ],
 "metadata": {
  "kernelspec": {
   "display_name": "Python 3",
   "language": "python",
   "name": "python3"
  },
  "language_info": {
   "codemirror_mode": {
    "name": "ipython",
    "version": 3
   },
   "file_extension": ".py",
   "mimetype": "text/x-python",
   "name": "python",
   "nbconvert_exporter": "python",
   "pygments_lexer": "ipython3",
   "version": "3.8.3"
  }
 },
 "nbformat": 4,
 "nbformat_minor": 5
}
