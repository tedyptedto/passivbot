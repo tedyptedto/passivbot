{
 "cells": [
  {
   "cell_type": "code",
   "execution_count": null,
   "metadata": {},
   "outputs": [],
   "source": [
    "%load_ext autoreload\n",
    "%autoreload 2"
   ]
  },
  {
   "cell_type": "code",
   "execution_count": null,
   "metadata": {},
   "outputs": [],
   "source": [
    "from backtest import *\n",
    "import matplotlib.pyplot as plt\n",
    "import pandas as pd\n",
    "import numpy as np\n",
    "import pprint\n",
    "from pprint import PrettyPrinter"
   ]
  },
  {
   "cell_type": "code",
   "execution_count": null,
   "metadata": {},
   "outputs": [],
   "source": [
    "plt.rcParams['figure.figsize'] = [29, 18]\n",
    "pd.set_option('precision', 10)\n",
    "pp = PrettyPrinter()"
   ]
  },
  {
   "cell_type": "code",
   "execution_count": null,
   "metadata": {},
   "outputs": [],
   "source": [
    "# plotting method\n",
    "\n",
    "def plot_tdf_(df_, tdf_, side_: int = 0, liq_thr=0.1):\n",
    "    plt.clf()\n",
    "    df_.loc[tdf_.index[0]:tdf_.index[-1]].price.plot(style='y-')\n",
    "    if side_ >= 0:\n",
    "        longs = tdf_[tdf_.side == 'long']\n",
    "        le = longs[longs.type == 'entry']\n",
    "        lc = longs[longs.type == 'close']\n",
    "        ls = longs[longs.type.str.startswith('stop_loss')]\n",
    "        ls.price.plot(style='gx')\n",
    "        le.price.plot(style='b.')\n",
    "        longs.pos_price.plot(style='b--')\n",
    "        if 'close_price' in longs.columns:\n",
    "            longs.close_price.plot(style='r--')\n",
    "        lc.price.plot(style='r.')\n",
    "    if side_ <= 0:\n",
    "        shrts = tdf_[tdf_.side == 'shrt']\n",
    "        se = shrts[shrts.type == 'entry']\n",
    "        sc = shrts[shrts.type == 'close']\n",
    "        ss = shrts[shrts.type.str.startswith('stop_loss')]\n",
    "        ss.price.plot(style='gx')\n",
    "        se.price.plot(style='r.')\n",
    "        shrts.pos_price.plot(style='r--')\n",
    "        if 'close_price' in shrts.columns:\n",
    "            shrts.close_price.plot(style='b--')\n",
    "        sc.price.plot(style='b.')\n",
    "    if 'liq_price' in tdf_.columns:\n",
    "        tdf_.liq_price.where((tdf_.price - tdf_.liq_price).abs() / tdf_.price < liq_thr, np.nan).plot(style='k--')\n",
    "    return plt\n"
   ]
  },
  {
   "cell_type": "code",
   "execution_count": null,
   "metadata": {},
   "outputs": [],
   "source": [
    "backtest_config_name = 'eosbybit'\n",
    "backtest_config = await prep_backtest_config(backtest_config_name)\n",
    "session_dirpath = backtest_config['session_dirpath']\n",
    "session_dirpath"
   ]
  },
  {
   "cell_type": "code",
   "execution_count": null,
   "metadata": {},
   "outputs": [],
   "source": [
    "backtest_config"
   ]
  },
  {
   "cell_type": "code",
   "execution_count": null,
   "metadata": {},
   "outputs": [],
   "source": [
    "ticks = await load_ticks(backtest_config)\n",
    "df = pd.DataFrame(ticks)"
   ]
  },
  {
   "cell_type": "code",
   "execution_count": null,
   "metadata": {},
   "outputs": [],
   "source": [
    "results = pd.DataFrame(load_results(session_dirpath + 'results.txt')).T.set_index('index').sort_values('gain_ratio', ascending=False)\n",
    "print('n completed iterations', len(results))\n",
    "results.drop([k for k in backtest_config['ranges']], axis=1).head(40)\n",
    "#results.head(40)"
   ]
  },
  {
   "cell_type": "code",
   "execution_count": null,
   "metadata": {},
   "outputs": [],
   "source": [
    "key = results.key.iloc[0]\n",
    "#key = '306f245f93a9d3f264f4e24c81c77a7332308783d3ea397aa1f7a05822b07f31'\n",
    "print(key)"
   ]
  },
  {
   "cell_type": "code",
   "execution_count": null,
   "metadata": {},
   "outputs": [],
   "source": [
    "result = results.loc[results.key == key].iloc[0]\n",
    "backtest_config.update(result)\n",
    "result.drop('key')"
   ]
  },
  {
   "cell_type": "code",
   "execution_count": null,
   "metadata": {},
   "outputs": [],
   "source": [
    "tdf = pd.read_csv(f\"{session_dirpath}backtest_trades/{key}.csv\").set_index('trade_id')\n",
    "print('price with bid ask entry thresholds')\n",
    "ema = df.price.ewm(span=result['ema_span'], adjust=False).mean()\n",
    "bids_ = ema * (1 - result['ema_spread'])\n",
    "asks_ = ema * (1 + result['ema_spread'])\n",
    "\n",
    "plt.clf()\n",
    "df.price.iloc[::100].plot()\n",
    "bids_.iloc[::100].plot()\n",
    "asks_.iloc[::100].plot()\n",
    "plt.savefig(f'{session_dirpath}ema_spread_plot.png')"
   ]
  },
  {
   "cell_type": "code",
   "execution_count": null,
   "metadata": {},
   "outputs": [],
   "source": [
    "plot_tdf_(df, tdf)"
   ]
  },
  {
   "cell_type": "code",
   "execution_count": null,
   "metadata": {},
   "outputs": [],
   "source": [
    "tdf.head(60)"
   ]
  },
  {
   "cell_type": "code",
   "execution_count": null,
   "metadata": {},
   "outputs": [],
   "source": [
    "# analyze results\n",
    "longs = tdf[tdf.side == 'long']\n",
    "shrts = tdf[tdf.side == 'shrt']\n",
    "le = longs[longs.type == 'entry']\n",
    "lc = longs[longs.type == 'close']\n",
    "se = shrts[shrts.type == 'entry']\n",
    "sc = shrts[shrts.type == 'close']\n",
    "\n",
    "def gain_ratio_conv(x):\n",
    "    return x * 100 - 100\n",
    "\n",
    "biggest_pos_size = tdf.pos_size.abs().max()\n",
    "net_pnl = tdf.net_pnl_plus_fees.iloc[-1]\n",
    "loss_sum = tdf.loss_sum.iloc[-1]\n",
    "profit_sum = tdf.profit_sum.iloc[-1]\n",
    "fee_sum = tdf.fee_paid.sum()\n",
    "gain_ratio = (backtest_config['starting_balance'] + net_pnl) / backtest_config['starting_balance']\n",
    "closest_liq = tdf.closest_liq.min()\n",
    "n_stop_loss = len(tdf[tdf.type == 'stop_loss'])\n",
    "n_days = backtest_config['n_days']\n",
    "daily_gain_ratio = gain_ratio ** (1 / n_days) if gain_ratio > 0.0 else 0.0\n",
    "closes = tdf[tdf.type == 'close']\n",
    "lines = []\n",
    "lines.append(f'net pnl {net_pnl:.6f}')\n",
    "lines.append(f'profit sum {profit_sum:.6f}')\n",
    "lines.append(f'loss sum {loss_sum:.6f}')\n",
    "lines.append(f'fee sum {fee_sum:.6f}')\n",
    "lines.append(f'gain_ratio {gain_ratio * 100 - 100:.2f}%')\n",
    "lines.append(f'n_days {n_days}')\n",
    "lines.append(f'average daily gain {(daily_gain_ratio - 1) * 100:.2f}%')\n",
    "lines.append(f'n trades {len(tdf)}')\n",
    "lines.append(f'n closes {len(closes)}')\n",
    "lines.append(f'n stop loss closes {n_stop_loss}')\n",
    "lines.append(f'biggest_pos_size {round(biggest_pos_size, 10)}')\n",
    "lines.append(f'closest liq {closest_liq * 100:.4f}%')\n",
    "lines.append(f\"starting balance {backtest_config['starting_balance']}\")\n",
    "lines.append(f\"long: {backtest_config['do_long']}, short: {backtest_config['do_shrt']}\")\n",
    "\n",
    "with open(f'{session_dirpath}backtest_result.txt', 'w') as f:\n",
    "    for line in lines:\n",
    "        print(line)\n",
    "        f.write(line + '\\n')\n"
   ]
  },
  {
   "cell_type": "code",
   "execution_count": null,
   "metadata": {},
   "outputs": [],
   "source": [
    "# plots are saved in backtesting_results/{exchange}/{symbol}/{session_name}/\n",
    "n_parts = 7\n",
    "for z in range(n_parts):\n",
    "    start_ = z / n_parts\n",
    "    end_ = (z + 1) / n_parts\n",
    "    print(start_, end_)\n",
    "    fig = plot_tdf_(df, tdf.iloc[int(len(tdf) * start_):int(len(tdf) * end_)], liq_thr=0.1)\n",
    "    fig.savefig(f'{session_dirpath}backtest_{z + 1}of{n_parts}.png')\n",
    "fig = plot_tdf_(df, tdf, liq_thr=0.1)\n",
    "fig.savefig(f'{session_dirpath}whole_backtest.png')\n"
   ]
  },
  {
   "cell_type": "code",
   "execution_count": null,
   "metadata": {},
   "outputs": [],
   "source": [
    "counter = 0\n",
    "idxs = []\n",
    "for row in tdf.itertuples():\n",
    "    if row.type == 'stop_loss':\n",
    "        counter += 1\n",
    "    else:\n",
    "        if counter > 0:\n",
    "            idxs.append(row.Index)\n",
    "        counter = 0\n",
    "plt.clf()\n",
    "tdf.net_pnl_plus_fees.plot()\n",
    "if idxs:\n",
    "    tdf.net_pnl_plus_fees.loc[idxs].plot(style='ro')\n",
    "plt.savefig(f'{session_dirpath}pnlcumsum_plot.png')"
   ]
  },
  {
   "cell_type": "code",
   "execution_count": null,
   "metadata": {},
   "outputs": [],
   "source": [
    "plt.clf()\n",
    "tdf.pos_size.plot()\n",
    "plt.savefig(f'{session_dirpath}pos_sizes_plot.png')"
   ]
  },
  {
   "cell_type": "code",
   "execution_count": null,
   "metadata": {},
   "outputs": [],
   "source": [
    "dgr_ = tdf.daily_gain_ratio\n",
    "print('min max', dgr_.min(), dgr_.max())\n",
    "dgr_.index = tdf.progress\n",
    "plt.clf()\n",
    "dgr_.iloc[int(len(tdf) * 0.1):].plot()\n",
    "plt.savefig(f'{session_dirpath}daily_gain_ratio_plot.png')"
   ]
  },
  {
   "cell_type": "code",
   "execution_count": null,
   "metadata": {},
   "outputs": [],
   "source": [
    "# visualize behavior\n",
    "# execute below cell repeatedly (up arrow, shift enter) to see backtest chunk by chunk\n",
    "# adjust step to set zoom level\n",
    "step = 120\n",
    "i = -step"
   ]
  },
  {
   "cell_type": "code",
   "execution_count": null,
   "metadata": {},
   "outputs": [],
   "source": [
    "i += step\n",
    "tdfc = tdf.iloc[i:i+step]\n",
    "plot_tdf_(df, tdf.iloc[i:i+step], liq_thr=0.01)"
   ]
  },
  {
   "cell_type": "code",
   "execution_count": null,
   "metadata": {},
   "outputs": [],
   "source": [
    "tdfc.head(60)#.timestamp.diff().values"
   ]
  },
  {
   "cell_type": "code",
   "execution_count": null,
   "metadata": {},
   "outputs": [],
   "source": [
    "tdfc.tail(60)"
   ]
  },
  {
   "cell_type": "code",
   "execution_count": null,
   "metadata": {},
   "outputs": [],
   "source": [
    "closest_liqs = tdf[['closest_long_liq', 'closest_shrt_liq']].min(axis=1).sort_values()\n",
    "closest_liqs.head()"
   ]
  },
  {
   "cell_type": "code",
   "execution_count": null,
   "metadata": {},
   "outputs": [],
   "source": [
    "i = 0\n",
    "iloc_ = tdf.index.get_loc(closest_liqs.index[i])\n",
    "iminus = 10\n",
    "iplus = 10\n",
    "tdfc = tdf.iloc[max(0, iloc_-iminus):min(iloc_+iplus, len(tdf) - 1)]\n",
    "plot_tdf_(df, tdfc, liq_thr=0.1)"
   ]
  },
  {
   "cell_type": "code",
   "execution_count": null,
   "metadata": {},
   "outputs": [],
   "source": [
    "tdfc.head(60)"
   ]
  },
  {
   "cell_type": "code",
   "execution_count": null,
   "metadata": {},
   "outputs": [],
   "source": [
    "1.8751715063 * 1.05"
   ]
  },
  {
   "cell_type": "code",
   "execution_count": null,
   "metadata": {},
   "outputs": [],
   "source": [
    "tdf[tdf.type.str.startswith('stop')]"
   ]
  },
  {
   "cell_type": "code",
   "execution_count": null,
   "metadata": {},
   "outputs": [],
   "source": [
    "tdfzz = tdf[(tdf.type == 'close') | (tdf.type == 'entry')]\n",
    "tdfzz[tdfzz.type == tdfzz.type.shift(1)]"
   ]
  },
  {
   "cell_type": "code",
   "execution_count": null,
   "metadata": {},
   "outputs": [],
   "source": [
    "tdf.timestamp.diff().sort_values()"
   ]
  },
  {
   "cell_type": "code",
   "execution_count": null,
   "metadata": {},
   "outputs": [],
   "source": [
    "tdf.millis_since_prev_trade.sort_values().tail() / (1000 * 60 * 60)"
   ]
  },
  {
   "cell_type": "code",
   "execution_count": null,
   "metadata": {},
   "outputs": [],
   "source": []
  },
  {
   "cell_type": "code",
   "execution_count": null,
   "metadata": {},
   "outputs": [],
   "source": []
  }
 ],
 "metadata": {
  "kernelspec": {
   "display_name": "Python 3",
   "language": "python",
   "name": "python3"
  },
  "language_info": {
   "codemirror_mode": {
    "name": "ipython",
    "version": 3
   },
   "file_extension": ".py",
   "mimetype": "text/x-python",
   "name": "python",
   "nbconvert_exporter": "python",
   "pygments_lexer": "ipython3",
   "version": "3.8.2"
  }
 },
 "nbformat": 4,
 "nbformat_minor": 4
}
