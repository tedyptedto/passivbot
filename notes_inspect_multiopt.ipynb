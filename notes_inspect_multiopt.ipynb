{
 "cells": [
  {
   "cell_type": "code",
   "execution_count": null,
   "id": "1c365acb-7182-4e0f-a0e0-16121c2b1fb5",
   "metadata": {},
   "outputs": [],
   "source": [
    "%load_ext autoreload\n",
    "%autoreload 2"
   ]
  },
  {
   "cell_type": "code",
   "execution_count": null,
   "id": "b8dd91b2-f134-440b-a80b-47449a1bdaa4",
   "metadata": {},
   "outputs": [],
   "source": [
    "import os\n",
    "import json\n",
    "import pandas as pd\n",
    "import numpy as np\n",
    "import pprint\n",
    "from procedures import dump_live_config, utc_ms, make_get_filepath\n",
    "from pure_funcs import (\n",
    "    numpyize,\n",
    "    denumpyize,\n",
    "    live_config_dict_to_list_recursive_grid,\n",
    "    sort_dict_keys,\n",
    "    config_pretty_str,\n",
    "    candidate_to_live_config,\n",
    "    flatten_dict,\n",
    "    ts_to_date_utc,\n",
    ")\n",
    "import matplotlib.pyplot as plt\n",
    "from collections import OrderedDict"
   ]
  },
  {
   "cell_type": "code",
   "execution_count": null,
   "id": "66cb2f77-b479-4b56-b771-a6804d3ff32f",
   "metadata": {},
   "outputs": [],
   "source": [
    "plt.rcParams[\"figure.figsize\"] = [24, 13.5]\n",
    "plt.rcParams[\"figure.facecolor\"] = \"w\"\n",
    "pd.set_option(\"display.precision\", 10)"
   ]
  },
  {
   "cell_type": "code",
   "execution_count": null,
   "id": "423111f8-847a-47db-9099-e2b5c56a9c8e",
   "metadata": {},
   "outputs": [],
   "source": [
    "def calc_dist(p0, p1):\n",
    "    return ((p0[0] - p1[0]) ** 2 + (p0[1] - p1[1]) ** 2) ** 0.5\n",
    "\n",
    "\n",
    "def dominates_d(x, y, higher_is_better):\n",
    "    \"\"\"Check if point x dominates point y.\"\"\"\n",
    "    better_in_one = False\n",
    "    for xi, yi, hib in zip(x, y, higher_is_better):\n",
    "        if hib:\n",
    "            if xi > yi:\n",
    "                better_in_one = True\n",
    "            elif xi < yi:\n",
    "                return False\n",
    "        else:\n",
    "            if xi < yi:\n",
    "                better_in_one = True\n",
    "            elif xi > yi:\n",
    "                return False\n",
    "    return better_in_one\n",
    "\n",
    "\n",
    "def calc_pareto_front_d(objectives: dict, higher_is_better: [bool]):\n",
    "    sorted_keys = sorted(\n",
    "        objectives,\n",
    "        key=lambda k: [\n",
    "            -objectives[k][i] if higher_is_better[i] else objectives[k][i]\n",
    "            for i in range(len(higher_is_better))\n",
    "        ],\n",
    "    )\n",
    "    pareto_front = []\n",
    "\n",
    "    for kcandidate in sorted_keys:\n",
    "        # Assume candidate is not dominated initially\n",
    "        is_dominated = False\n",
    "        for kmember in pareto_front:\n",
    "            if dominates_d(objectives[kmember], objectives[kcandidate], higher_is_better):\n",
    "                is_dominated = True\n",
    "                break\n",
    "        if not is_dominated:\n",
    "            # Remove any members of the pareto_front that are dominated by the candidate\n",
    "            pareto_front = [\n",
    "                kmember\n",
    "                for kmember in pareto_front\n",
    "                if not dominates_d(objectives[kcandidate], objectives[kmember], higher_is_better)\n",
    "            ]\n",
    "            pareto_front.append(kcandidate)\n",
    "    return pareto_front"
   ]
  },
  {
   "cell_type": "code",
   "execution_count": null,
   "id": "6c4f8c9a-04d3-4a1e-9ad7-0d8c1303a679",
   "metadata": {},
   "outputs": [],
   "source": [
    "# location of 'all_results.txt' file from multisymbol opt\n",
    "with open(\"results_multi/2024-03-14T20_32_13_all_results.txt\") as f:\n",
    "    lines = [x.strip() for x in f.readlines()]\n",
    "print(f\"n backtests: {len(lines)}\")"
   ]
  },
  {
   "cell_type": "code",
   "execution_count": null,
   "id": "002b5631-5586-4571-9546-41956a7e03a8",
   "metadata": {},
   "outputs": [],
   "source": [
    "xs = [json.loads(x) for x in lines if x]\n",
    "res = pd.DataFrame([flatten_dict(x) for x in xs])\n",
    "\n",
    "worst_drawdown_lower_bound = res.iloc[0].args_worst_drawdown_lower_bound\n",
    "print(\"worst_drawdown_lower_bound\", worst_drawdown_lower_bound)\n",
    "\n",
    "# choose two metrics for pareto front.\n",
    "# choices:\n",
    "# [w_adg_weighted, w_drawdowns_daily_mean, w_loss_profit_ratio, w_price_action_distance_mean, w_sharpe_ratio]\n",
    "# for all \"w_\" metrics, lower is better.\n",
    "# w_metric = max(worst_drawdown_lower_bound, worst_drawdown) - worst_drawdown_lower_bound) * 10 {+/-} metric\n",
    "keys, higher_is_better = [\"w_adg_weighted\", \"w_sharpe_ratio\"], [False, False]\n",
    "keys = [\"analysis_\" + key for key in keys]\n",
    "candidates = res[res.analysis_worst_drawdown <= worst_drawdown_lower_bound][keys]\n",
    "print(\"n candidates\", len(candidates))\n",
    "pareto = candidates.loc[\n",
    "    calc_pareto_front_d({i: x for i, x in zip(candidates.index, candidates.values)}, higher_is_better)\n",
    "]\n",
    "\n",
    "# normalize and find distances to ideal point\n",
    "cands_norm = (candidates - candidates.min()) / (candidates.max() - candidates.min())\n",
    "pareto_norm = (pareto - candidates.min()) / (candidates.max() - candidates.min())\n",
    "dists = [calc_dist(p, [float(x) for x in higher_is_better]) for p in pareto_norm.values]\n",
    "pareto_w_dists = pareto_norm.join(pd.Series(dists, name=\"dists\", index=pareto_norm.index))\n",
    "closest_to_ideal = pareto_w_dists.sort_values(\"dists\")\n",
    "best = closest_to_ideal.dists.idxmin()\n",
    "print(\"best\")\n",
    "print(candidates.loc[best])\n",
    "print(\"pareto front:\")\n",
    "pareto.loc[closest_to_ideal.index]"
   ]
  },
  {
   "cell_type": "code",
   "execution_count": null,
   "id": "2f4d4df1-329a-4468-ae74-0fecc13a3e58",
   "metadata": {},
   "outputs": [],
   "source": [
    "# scatterplot all candidates in blue, pareto front in orange, ideal target in green, closest to ideal in red\n",
    "plt.scatter(*candidates.values.T)\n",
    "plt.scatter(*pareto.values.T)\n",
    "plt.scatter(*pareto.min().values.T)\n",
    "plt.scatter(*pareto.loc[best].T)"
   ]
  },
  {
   "cell_type": "code",
   "execution_count": null,
   "id": "53c10855-37e5-4c47-ae6b-1ea7ae00e698",
   "metadata": {},
   "outputs": [],
   "source": [
    "ts_to_date_utc(utc_ms())[:19].replace(\":\", \"_\")"
   ]
  },
  {
   "cell_type": "code",
   "execution_count": null,
   "id": "fd7b9b8f-30e7-4698-962b-d345cdd74fdc",
   "metadata": {},
   "outputs": [],
   "source": [
    "# config from best result\n",
    "best_d = xs[best]\n",
    "\n",
    "# cfg = best_d['position']\n",
    "cfg = best_d[\"live_config\"]\n",
    "cfg[\"long\"][\"wallet_exposure_limit\"] = cfg[\"global\"][\"TWE_long\"] / len(best_d[\"args\"][\"symbols\"])\n",
    "cfg[\"short\"][\"wallet_exposure_limit\"] = cfg[\"global\"][\"TWE_short\"] / len(best_d[\"args\"][\"symbols\"])\n",
    "cfg[\"long\"][\"enabled\"] = best_d[\"args\"][\"long_enabled\"]\n",
    "cfg[\"short\"][\"enabled\"] = best_d[\"args\"][\"short_enabled\"]\n",
    "fjson = json.dumps(best_d, indent=4, sort_keys=True)\n",
    "print(fjson)\n",
    "# best_d['args']['worst_drawdown_lower_bound'] = 0.25\n",
    "coins = \"\".join([s.replace(\"USDT\", \"\") for s in best_d[\"args\"][\"symbols\"]])\n",
    "coins = [s.replace(\"USDT\", \"\") for s in best_d[\"args\"][\"symbols\"]]\n",
    "fname = ts_to_date_utc(utc_ms())[:19].replace(\":\", \"_\")\n",
    "fname += \"_\" + (\"_\".join(coins) if len(coins) <= 5 else f\"{len(coins)}_coins\") + \".json\"\n",
    "full_path = make_get_filepath(os.path.join(\"results_multi_analysis\", fname))\n",
    "json.dump(best_d, open(full_path, \"w\"), indent=4, sort_keys=True)"
   ]
  },
  {
   "cell_type": "code",
   "execution_count": null,
   "id": "1d1342e0-33f9-4cea-b6dc-f05d7c9c68c1",
   "metadata": {},
   "outputs": [],
   "source": []
  },
  {
   "cell_type": "code",
   "execution_count": null,
   "id": "701195d9-d76e-4085-86ad-099bf1371f2a",
   "metadata": {},
   "outputs": [],
   "source": []
  },
  {
   "cell_type": "code",
   "execution_count": null,
   "id": "83700827-4e3a-4509-b164-dcc3e06ef29d",
   "metadata": {},
   "outputs": [],
   "source": []
  }
 ],
 "metadata": {
  "kernelspec": {
   "display_name": "Python 3 (ipykernel)",
   "language": "python",
   "name": "python3"
  },
  "language_info": {
   "codemirror_mode": {
    "name": "ipython",
    "version": 3
   },
   "file_extension": ".py",
   "mimetype": "text/x-python",
   "name": "python",
   "nbconvert_exporter": "python",
   "pygments_lexer": "ipython3",
   "version": "3.9.16"
  }
 },
 "nbformat": 4,
 "nbformat_minor": 5
}
