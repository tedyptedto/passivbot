{
 "cells": [
  {
   "cell_type": "code",
   "execution_count": null,
   "id": "1c365acb-7182-4e0f-a0e0-16121c2b1fb5",
   "metadata": {},
   "outputs": [],
   "source": [
    "%load_ext autoreload\n",
    "%autoreload 2"
   ]
  },
  {
   "cell_type": "code",
   "execution_count": null,
   "id": "b8dd91b2-f134-440b-a80b-47449a1bdaa4",
   "metadata": {},
   "outputs": [],
   "source": [
    "import json\n",
    "import pandas as pd\n",
    "import numpy as np\n",
    "from procedures import dump_live_config\n",
    "from pure_funcs import (\n",
    "    numpyize,\n",
    "    denumpyize,\n",
    "    live_config_dict_to_list_recursive_grid,\n",
    "    sort_dict_keys,\n",
    "    config_pretty_str,\n",
    "    candidate_to_live_config,\n",
    ")\n",
    "import matplotlib.pyplot as plt\n",
    "from collections import OrderedDict"
   ]
  },
  {
   "cell_type": "code",
   "execution_count": null,
   "id": "66cb2f77-b479-4b56-b771-a6804d3ff32f",
   "metadata": {},
   "outputs": [],
   "source": [
    "plt.rcParams[\"figure.figsize\"] = [24, 13.5]\n",
    "plt.rcParams[\"figure.facecolor\"] = \"w\"\n",
    "pd.set_option(\"display.precision\", 10)"
   ]
  },
  {
   "cell_type": "code",
   "execution_count": null,
   "id": "423111f8-847a-47db-9099-e2b5c56a9c8e",
   "metadata": {},
   "outputs": [],
   "source": [
    "def compute_pareto_front_mask(objectives, weights):\n",
    "    \"\"\"Compute a mask indicating whether each item in objectives is part of the Pareto front.\"\"\"\n",
    "    pareto_mask = [True] * len(objectives)  # Initialize all as True\n",
    "\n",
    "    for i, individual_a in enumerate(objectives):\n",
    "        for j, individual_b in enumerate(objectives):\n",
    "            if i != j and dominates(individual_b, individual_a, weights):\n",
    "                pareto_mask[i] = False\n",
    "                break  # No need to check other individuals\n",
    "\n",
    "    return pareto_mask\n",
    "\n",
    "\n",
    "# Helper function to check domination\n",
    "def dominates(individual_a, individual_b, weights):\n",
    "    \"\"\"Check if individual_a dominates individual_b.\"\"\"\n",
    "    better_in_any = False\n",
    "    for a, b, w in zip(individual_a, individual_b, weights):\n",
    "        if (w < 0 and a > b) or (\n",
    "            w > 0 and a < b\n",
    "        ):  # Minimize if weight is negative, maximize if positive\n",
    "            return False\n",
    "        elif a != b:\n",
    "            better_in_any = True\n",
    "    return better_in_any\n",
    "\n",
    "\n",
    "def calc_dist(p0, p1):\n",
    "    return ((p0[0] - p1[0]) ** 2 + (p0[1] - p1[1]) ** 2) ** 0.5"
   ]
  },
  {
   "cell_type": "code",
   "execution_count": null,
   "id": "6c4f8c9a-04d3-4a1e-9ad7-0d8c1303a679",
   "metadata": {},
   "outputs": [],
   "source": [
    "# location of 'all_results.txt' file from multisymbol opt\n",
    "with open(\"results_multi/2024-01-26T05_55_28_all_results.txt\") as f:\n",
    "    lines = [x.strip() for x in f.readlines()]\n",
    "print(f\"n backtests: {len(lines)}\")"
   ]
  },
  {
   "cell_type": "code",
   "execution_count": null,
   "id": "c6d03991-5b8d-4764-bdef-ae56728d7ba4",
   "metadata": {},
   "outputs": [],
   "source": [
    "xs = [json.loads(x) for x in lines if x]\n",
    "res = pd.DataFrame(xs)\n",
    "keys, weights = [\"adg\", \"sharpe_ratio\"], [1.0, 1.0]\n",
    "worst_drawdown_threshold = 0.5\n",
    "candidates = res[res.worst_drawdown <= worst_drawdown_threshold][keys]\n",
    "pareto = candidates[compute_pareto_front_mask(candidates.values, weights)]\n",
    "\n",
    "cands_norm = (candidates - candidates.min()) / (candidates.max() - candidates.min())\n",
    "pareto_norm = cands_norm[compute_pareto_front_mask(cands_norm.values, weights)]\n",
    "dists = [calc_dist(p, [1.0, 1.0]) for p in pareto_norm.values]\n",
    "pareto_w_dists = pareto_norm.join(pd.Series(dists, name=\"dists\", index=pareto_norm.index))\n",
    "closest_to_ideal = pareto_w_dists.sort_values(\"dists\")\n",
    "best = closest_to_ideal.dists.idxmin()\n",
    "print(\"best\")\n",
    "print(candidates.loc[best])\n",
    "pareto.loc[closest_to_ideal.index]"
   ]
  },
  {
   "cell_type": "code",
   "execution_count": null,
   "id": "2f4d4df1-329a-4468-ae74-0fecc13a3e58",
   "metadata": {},
   "outputs": [],
   "source": [
    "# scatterplot all candidates in blue, pareto front in orange, ideal target in green\n",
    "plt.scatter(*candidates.values.T)\n",
    "plt.scatter(*pareto.values.T)\n",
    "plt.scatter(*pareto.max().values.T)\n",
    "plt.scatter(*pareto.loc[best].T)"
   ]
  },
  {
   "cell_type": "code",
   "execution_count": null,
   "id": "fd7b9b8f-30e7-4698-962b-d345cdd74fdc",
   "metadata": {},
   "outputs": [],
   "source": [
    "# config from best result\n",
    "res_sel = res.loc[best]\n",
    "print(res_sel)\n",
    "lc = res_sel.live_config\n",
    "cfg = {\"long\": lc[\"long\"], \"short\": lc[\"short\"], \"global\": lc[\"global\"]}\n",
    "cfg[\"long\"][\"wallet_exposure_limit\"] = lc[\"global\"][\"TWE_long\"] / len(res_sel.symbols)\n",
    "cfg[\"short\"][\"wallet_exposure_limit\"] = lc[\"global\"][\"TWE_short\"] / len(res_sel.symbols)\n",
    "cfg[\"long\"][\"enabled\"] = res_sel.long_enabled\n",
    "cfg[\"short\"][\"enabled\"] = res_sel.short_enabled\n",
    "print(\n",
    "    \"cfg = \",\n",
    "    json.dumps(denumpyize(cfg), indent=4, sort_keys=True).replace(\"true\", \"True\").replace(\"false\", \"False\"),\n",
    ")\n",
    "print(\"starting_balance =\", res_sel.starting_balance)\n",
    "print(\"symbols =\", res.iloc[0].symbols)\n"
   ]
  },
  {
   "cell_type": "code",
   "execution_count": null,
   "id": "634d60c3-9930-42bf-b188-942487542017",
   "metadata": {},
   "outputs": [],
   "source": []
  },
  {
   "cell_type": "code",
   "execution_count": null,
   "id": "8014a71d-9a9d-428d-b26b-53cd6d8e79e8",
   "metadata": {},
   "outputs": [],
   "source": []
  }
 ],
 "metadata": {
  "kernelspec": {
   "display_name": "Python 3 (ipykernel)",
   "language": "python",
   "name": "python3"
  },
  "language_info": {
   "codemirror_mode": {
    "name": "ipython",
    "version": 3
   },
   "file_extension": ".py",
   "mimetype": "text/x-python",
   "name": "python",
   "nbconvert_exporter": "python",
   "pygments_lexer": "ipython3",
   "version": "3.9.16"
  }
 },
 "nbformat": 4,
 "nbformat_minor": 5
}
