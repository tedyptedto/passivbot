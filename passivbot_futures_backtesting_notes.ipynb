{
 "cells": [
  {
   "cell_type": "code",
   "execution_count": null,
   "metadata": {},
   "outputs": [],
   "source": [
    "%load_ext autoreload\n",
    "%autoreload 2"
   ]
  },
  {
   "cell_type": "code",
   "execution_count": null,
   "metadata": {},
   "outputs": [],
   "source": [
    "from passivbot_futures import *\n",
    "import matplotlib.pyplot as plt\n",
    "import pandas as pd\n",
    "import numpy as np\n",
    "from pprint import PrettyPrinter"
   ]
  },
  {
   "cell_type": "code",
   "execution_count": null,
   "metadata": {},
   "outputs": [],
   "source": [
    "plt.rcParams['figure.figsize'] = [21, 13]\n",
    "pd.set_option('precision', 10)\n",
    "pp = PrettyPrinter()"
   ]
  },
  {
   "cell_type": "code",
   "execution_count": null,
   "metadata": {},
   "outputs": [],
   "source": [
    "user = 'your_user_name'\n",
    "settings = load_settings(user)\n",
    "s = settings['symbol']\n",
    "settings"
   ]
  },
  {
   "cell_type": "code",
   "execution_count": null,
   "metadata": {},
   "outputs": [],
   "source": [
    "try:\n",
    "    await bot.cc.close()\n",
    "except:\n",
    "    pass\n",
    "bot = await create_bot(user, settings)\n",
    "cc = bot.cc"
   ]
  },
  {
   "cell_type": "code",
   "execution_count": null,
   "metadata": {},
   "outputs": [],
   "source": [
    "n_days_load = 2\n",
    "adf = await bot.load_trades(s, n_days_load)"
   ]
  },
  {
   "cell_type": "code",
   "execution_count": null,
   "metadata": {},
   "outputs": [],
   "source": [
    "adf.price.iloc[::100].plot()"
   ]
  },
  {
   "cell_type": "code",
   "execution_count": null,
   "metadata": {},
   "outputs": [],
   "source": [
    "# modify settings\n",
    "settings['entry_amount'] = 0.001\n",
    "settings['leverage'] = 100\n",
    "settings['markup'] = 0.0015\n",
    "settings['flashcrash_factor'] = 0.001\n",
    "settings['ema_span'] = 1000\n",
    "settings['enter_long'] = True\n",
    "settings['enter_shrt'] = True\n",
    "settings"
   ]
  },
  {
   "cell_type": "code",
   "execution_count": null,
   "metadata": {},
   "outputs": [],
   "source": [
    "logs, trades, adf = backtest(adf, settings)\n",
    "\n",
    "tdf = pd.DataFrame(trades).set_index('agg_id')\n",
    "adf.price.plot()\n",
    "bdf = tdf[tdf.side == 'buy']\n",
    "sdf = tdf[tdf.side == 'sel']\n",
    "bdf.price.plot(style='bo')\n",
    "sdf.price.plot(style='ro')\n",
    "tdf"
   ]
  },
  {
   "cell_type": "code",
   "execution_count": null,
   "metadata": {},
   "outputs": [],
   "source": [
    "ldf = pd.DataFrame(logs)\n",
    "realized_pnl_sum = ldf.realized_pnl_sum.max()\n",
    "print('realized pnl sum', realized_pnl_sum)\n",
    "ldf"
   ]
  },
  {
   "cell_type": "code",
   "execution_count": null,
   "metadata": {},
   "outputs": [],
   "source": [
    "print('highest n double downs')\n",
    "ldf.n_double_downs.sort_values().tail(20)"
   ]
  },
  {
   "cell_type": "code",
   "execution_count": null,
   "metadata": {},
   "outputs": [],
   "source": [
    "max_needed_margin = ldf.initial_margin_max.max()\n",
    "print('max_needed_margin', max_needed_margin)\n",
    "print('ldf.pos_amount.min()', ldf.pos_amount.min())\n",
    "print('ldf.pos_amount.max()', ldf.pos_amount.max())\n",
    "print('ldf.n_double_downs.max()', ldf.n_double_downs.max())"
   ]
  },
  {
   "cell_type": "code",
   "execution_count": null,
   "metadata": {},
   "outputs": [],
   "source": [
    "ldf.realized_pnl_sum.plot()"
   ]
  },
  {
   "cell_type": "code",
   "execution_count": null,
   "metadata": {},
   "outputs": [],
   "source": [
    "ldf.pos_amount.plot()"
   ]
  },
  {
   "cell_type": "code",
   "execution_count": null,
   "metadata": {},
   "outputs": [],
   "source": [
    "gain = (realized_pnl_sum + max_needed_margin) / max_needed_margin\n",
    "n_days = (tdf.timestamp.max() - tdf.timestamp.min()) / 1000 / 60 / 60 / 24\n",
    "adg = gain ** (1 / n_days)\n",
    "average_daily_abs_profit = realized_pnl_sum / n_days\n",
    "print('max_needed_margin', max_needed_margin)\n",
    "print('realized_pnl_sum', realized_pnl_sum)\n",
    "print('gain', gain)\n",
    "print('n_days', n_days)\n",
    "print('average daily gain', adg)\n",
    "print('average_daily_abs_profit', average_daily_abs_profit)"
   ]
  },
  {
   "cell_type": "code",
   "execution_count": null,
   "metadata": {},
   "outputs": [],
   "source": [
    "# plot last day's trades\n",
    "age_limit = (time() - 60 * 60 * 24) * 1000\n",
    "adfc = adf[adf.timestamp > age_limit]\n",
    "tdfc = tdf[tdf.timestamp > age_limit]\n",
    "\n",
    "adfc.price.plot()\n",
    "bdfc = tdfc[tdfc.side == 'buy']\n",
    "sdfc = tdfc[tdfc.side == 'sel']\n",
    "bdfc.price.plot(style='bo')\n",
    "sdfc.price.plot(style='ro')"
   ]
  },
  {
   "cell_type": "code",
   "execution_count": null,
   "metadata": {},
   "outputs": [],
   "source": []
  }
 ],
 "metadata": {
  "kernelspec": {
   "display_name": "Python 3",
   "language": "python",
   "name": "python3"
  },
  "language_info": {
   "codemirror_mode": {
    "name": "ipython",
    "version": 3
   },
   "file_extension": ".py",
   "mimetype": "text/x-python",
   "name": "python",
   "nbconvert_exporter": "python",
   "pygments_lexer": "ipython3",
   "version": "3.8.2"
  }
 },
 "nbformat": 4,
 "nbformat_minor": 4
}
