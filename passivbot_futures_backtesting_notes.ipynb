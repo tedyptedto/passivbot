{
 "cells": [
  {
   "cell_type": "code",
   "execution_count": null,
   "metadata": {},
   "outputs": [],
   "source": [
    "%load_ext autoreload\n",
    "%autoreload 2"
   ]
  },
  {
   "cell_type": "code",
   "execution_count": null,
   "metadata": {},
   "outputs": [],
   "source": [
    "from passivbot_futures import *\n",
    "import matplotlib.pyplot as plt\n",
    "import pandas as pd\n",
    "import numpy as np\n",
    "from pprint import PrettyPrinter"
   ]
  },
  {
   "cell_type": "code",
   "execution_count": null,
   "metadata": {},
   "outputs": [],
   "source": [
    "plt.rcParams['figure.figsize'] = [21, 13]\n",
    "pd.set_option('precision', 10)\n",
    "pp = PrettyPrinter()"
   ]
  },
  {
   "cell_type": "code",
   "execution_count": null,
   "metadata": {},
   "outputs": [],
   "source": [
    "user = 'your_user_name'\n",
    "settings = load_settings(user)\n",
    "s = settings['symbol']\n",
    "settings"
   ]
  },
  {
   "cell_type": "code",
   "execution_count": null,
   "metadata": {},
   "outputs": [],
   "source": [
    "try:\n",
    "    await bot.cc.close()\n",
    "except:\n",
    "    pass\n",
    "bot = await create_bot(user, settings)\n",
    "cc = bot.cc"
   ]
  },
  {
   "cell_type": "code",
   "execution_count": null,
   "metadata": {},
   "outputs": [],
   "source": [
    "n_days_load = 7\n",
    "agg_trades = await bot.load_trades(s, n_days_load)\n",
    "adf = agg_trades"
   ]
  },
  {
   "cell_type": "code",
   "execution_count": null,
   "metadata": {},
   "outputs": [],
   "source": [
    "adf = agg_trades"
   ]
  },
  {
   "cell_type": "code",
   "execution_count": null,
   "metadata": {},
   "outputs": [],
   "source": [
    "adf.price.iloc[::100].plot()"
   ]
  },
  {
   "cell_type": "code",
   "execution_count": null,
   "metadata": {},
   "outputs": [],
   "source": [
    "# modify settings\n",
    "settings['entry_amount'] = 0.001\n",
    "settings['leverage'] = 100\n",
    "settings['markup'] = 0.00155\n",
    "settings['flashcrash_factor'] = 0.001\n",
    "settings['ema_span'] = 1000\n",
    "settings['enter_long'] = True\n",
    "settings['enter_shrt'] = True\n",
    "settings"
   ]
  },
  {
   "cell_type": "code",
   "execution_count": null,
   "metadata": {},
   "outputs": [],
   "source": [
    "trades, adf = backtest(adf, settings)\n",
    "\n",
    "tdf = pd.DataFrame(trades).set_index('agg_id')\n",
    "bdf = tdf[tdf.side == 'buy']\n",
    "sdf = tdf[tdf.side == 'sel']\n",
    "tdf"
   ]
  },
  {
   "cell_type": "code",
   "execution_count": null,
   "metadata": {},
   "outputs": [],
   "source": [
    "realized_pnl_sum = tdf.realized_pnl.sum()\n",
    "fee_sum = tdf.fee.sum()\n",
    "print('realized pnl sum', realized_pnl_sum)\n",
    "print('fee sum', fee_sum)\n",
    "print('pnl - fee', realized_pnl_sum - fee_sum)\n",
    "print('pct fees paid', fee_sum / realized_pnl_sum)"
   ]
  },
  {
   "cell_type": "code",
   "execution_count": null,
   "metadata": {},
   "outputs": [],
   "source": [
    "print('pos amount counts')\n",
    "tdf.amount.value_counts()"
   ]
  },
  {
   "cell_type": "code",
   "execution_count": null,
   "metadata": {},
   "outputs": [],
   "source": [
    "min_needed_margin = tdf.margin_cost.max()\n",
    "print('min needed margin', min_needed_margin)"
   ]
  },
  {
   "cell_type": "code",
   "execution_count": null,
   "metadata": {},
   "outputs": [],
   "source": [
    "(tdf.realized_pnl - tdf.fee).cumsum().plot()"
   ]
  },
  {
   "cell_type": "code",
   "execution_count": null,
   "metadata": {},
   "outputs": [],
   "source": [
    "tdf.amount.plot()"
   ]
  },
  {
   "cell_type": "code",
   "execution_count": null,
   "metadata": {},
   "outputs": [],
   "source": [
    "gain = (realized_pnl_sum - fee_sum + min_needed_margin) / min_needed_margin\n",
    "n_days = (tdf.timestamp.max() - tdf.timestamp.min()) / 1000 / 60 / 60 / 24\n",
    "adg = gain ** (1 / n_days)\n",
    "average_daily_abs_profit = realized_pnl_sum / n_days\n",
    "print('min_needed_margin', min_needed_margin)\n",
    "print('realized_pnl_sum', realized_pnl_sum)\n",
    "print('gain', gain)\n",
    "print('n_days', n_days)\n",
    "print('average daily gain', adg)\n",
    "print('average_daily_abs_profit', average_daily_abs_profit)"
   ]
  },
  {
   "cell_type": "code",
   "execution_count": null,
   "metadata": {},
   "outputs": [],
   "source": [
    "# find location of biggest position size\n",
    "idx = tdf.amount.abs().idxmax()\n",
    "idxloc = tdf.index.get_loc(idx)\n",
    "tdf.iloc[idxloc - 15:idxloc + 2].index[0]"
   ]
  },
  {
   "cell_type": "code",
   "execution_count": null,
   "metadata": {},
   "outputs": [],
   "source": [
    "# plot\n",
    "istart = tdf.iloc[idxloc - 15:idxloc + 2].index[0]\n",
    "iend = istart + 300000\n",
    "bid_name = f\"entry_bid_{settings['ema_span']}_{settings['flashcrash_factor'] * 1000}\".replace('.', '_')\n",
    "ask_name = f\"entry_ask_{settings['ema_span']}_{settings['flashcrash_factor'] * 1000}\".replace('.', '_')\n",
    "adf.loc[istart:iend][['price', bid_name, ask_name]].plot()\n",
    "bdfc = bdf[(bdf.index >= istart) & (bdf.index < iend)]\n",
    "sdfc = sdf[(sdf.index >= istart) & (sdf.index < iend)]\n",
    "\n",
    "bdfc.price.plot(style='bo')\n",
    "sdfc.price.plot(style='ro')"
   ]
  },
  {
   "cell_type": "code",
   "execution_count": null,
   "metadata": {},
   "outputs": [],
   "source": [
    "bdfc"
   ]
  },
  {
   "cell_type": "code",
   "execution_count": null,
   "metadata": {},
   "outputs": [],
   "source": []
  },
  {
   "cell_type": "code",
   "execution_count": null,
   "metadata": {},
   "outputs": [],
   "source": []
  },
  {
   "cell_type": "code",
   "execution_count": null,
   "metadata": {},
   "outputs": [],
   "source": []
  },
  {
   "cell_type": "code",
   "execution_count": null,
   "metadata": {},
   "outputs": [],
   "source": []
  },
  {
   "cell_type": "code",
   "execution_count": null,
   "metadata": {},
   "outputs": [],
   "source": [
    "# for testing multiple settings"
   ]
  },
  {
   "cell_type": "code",
   "execution_count": null,
   "metadata": {},
   "outputs": [],
   "source": [
    "rs = {}"
   ]
  },
  {
   "cell_type": "code",
   "execution_count": null,
   "metadata": {},
   "outputs": [],
   "source": [
    "vs = [(300, 100000, 0),   # min max precision ema_span\n",
    "      (0.0001, 0.004, 5), # min max precision flashcrash_factor\n",
    "      (0.0009, 0.006, 5), # min max precision markup\n",
    "      (40, 125, 0)]       # min max precision leverage\n",
    "\n",
    "best = tuple([round((v[0] + v[1]) / 2, v[2]) for v in vs])\n",
    "\n",
    "\n",
    "# mutate settings randomly\n",
    "def get_candidate(best, m=0.2):\n",
    "    new_candidate = []\n",
    "    for i, v in enumerate(vs):\n",
    "        new_val = best[i] + (np.random.random() - 0.5) * (v[1] - v[0]) * max(0.0001, m)\n",
    "        new_candidate.append(round(max(min(new_val, v[1]), v[0]), v[2]))\n",
    "    return tuple(new_candidate)\n",
    "best"
   ]
  },
  {
   "cell_type": "code",
   "execution_count": null,
   "metadata": {},
   "outputs": [],
   "source": [
    "best_gain = 0\n",
    "key = best\n",
    "ks = 100\n",
    "k = 0\n",
    "margin_cost_limit = 250"
   ]
  },
  {
   "cell_type": "code",
   "execution_count": null,
   "metadata": {},
   "outputs": [],
   "source": [
    "conditions = [\n",
    "    lambda r: r['n_trades'] > 5000\n",
    "]"
   ]
  },
  {
   "cell_type": "code",
   "execution_count": null,
   "metadata": {},
   "outputs": [],
   "source": [
    "while k <= ks:\n",
    "    k += 1\n",
    "    adf = agg_trades\n",
    "    settings['ema_span'] = key[0]\n",
    "    settings['flashcrash_factor'] = key[1]\n",
    "    settings['markup'] = key[2]\n",
    "    settings['leverage'] = key[3]\n",
    "    if key in rs:\n",
    "        print('skipping', key)\n",
    "        key = get_candidate(best)\n",
    "        continue\n",
    "    print(k, best, key)\n",
    "    trades, adf = backtest(adf, settings, margin_cost_limit=margin_cost_limit)\n",
    "    tdf = pd.DataFrame(trades).set_index('agg_id')\n",
    "    result = {'net_pnl': tdf.realized_pnl.sum() - tdf.fee.sum()}\n",
    "    result['amount_max'] = tdf.amount.max()\n",
    "    result['amount_min'] = tdf.amount.min()\n",
    "    result['amount_abs_max'] = tdf.amount.abs().max()\n",
    "    result['amount_abs_sum'] = tdf.amount.abs().sum()\n",
    "    result['n_trades'] = len(trades)\n",
    "    result['margin_cost_max'] = tdf.margin_cost.max()\n",
    "    result['gain'] = (result['net_pnl'] + result['margin_cost_max']) / result['margin_cost_max']\n",
    "    print('\\n', key, list(map(lambda x: round(x, 6), result.values())))\n",
    "    rs[key] = result\n",
    "    if result['gain'] > best_gain:\n",
    "        if all([condition(result) for condition in conditions]):\n",
    "            best = key\n",
    "            best_gain = result['gain']\n",
    "            print('new best', best)\n",
    "    key = get_candidate(best, m=(1 - k / ks))\n",
    "    "
   ]
  },
  {
   "cell_type": "code",
   "execution_count": null,
   "metadata": {},
   "outputs": [],
   "source": [
    "rdf = pd.DataFrame(rs).T\n",
    "rdfs = rdf.sort_values('gain', ascending=[False])\n",
    "rdfs.head(30)"
   ]
  },
  {
   "cell_type": "code",
   "execution_count": null,
   "metadata": {},
   "outputs": [],
   "source": []
  },
  {
   "cell_type": "code",
   "execution_count": null,
   "metadata": {},
   "outputs": [],
   "source": []
  },
  {
   "cell_type": "code",
   "execution_count": null,
   "metadata": {},
   "outputs": [],
   "source": []
  },
  {
   "cell_type": "code",
   "execution_count": null,
   "metadata": {},
   "outputs": [],
   "source": []
  }
 ],
 "metadata": {
  "kernelspec": {
   "display_name": "Python 3",
   "language": "python",
   "name": "python3"
  },
  "language_info": {
   "codemirror_mode": {
    "name": "ipython",
    "version": 3
   },
   "file_extension": ".py",
   "mimetype": "text/x-python",
   "name": "python",
   "nbconvert_exporter": "python",
   "pygments_lexer": "ipython3",
   "version": "3.8.2"
  }
 },
 "nbformat": 4,
 "nbformat_minor": 4
}
