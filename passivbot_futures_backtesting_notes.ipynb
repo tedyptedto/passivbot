{
 "cells": [
  {
   "cell_type": "code",
   "execution_count": null,
   "metadata": {},
   "outputs": [],
   "source": [
    "%load_ext autoreload\n",
    "%autoreload 2"
   ]
  },
  {
   "cell_type": "code",
   "execution_count": null,
   "metadata": {},
   "outputs": [],
   "source": [
    "from passivbot_futures import *\n",
    "import matplotlib.pyplot as plt\n",
    "import pandas as pd\n",
    "import numpy as np\n",
    "from pprint import PrettyPrinter"
   ]
  },
  {
   "cell_type": "code",
   "execution_count": null,
   "metadata": {},
   "outputs": [],
   "source": [
    "plt.rcParams['figure.figsize'] = [21, 13]\n",
    "pd.set_option('precision', 10)\n",
    "pp = PrettyPrinter()"
   ]
  },
  {
   "cell_type": "code",
   "execution_count": null,
   "metadata": {},
   "outputs": [],
   "source": [
    "user = 'your_user_name'\n",
    "settings = load_settings(user)\n",
    "s = settings['symbol']\n",
    "settings"
   ]
  },
  {
   "cell_type": "code",
   "execution_count": null,
   "metadata": {},
   "outputs": [],
   "source": [
    "try:\n",
    "    await bot.cc.close()\n",
    "except:\n",
    "    pass\n",
    "bot = await create_bot(user, settings)\n",
    "cc = bot.cc"
   ]
  },
  {
   "cell_type": "code",
   "execution_count": null,
   "metadata": {},
   "outputs": [],
   "source": [
    "n_days_load = 7\n",
    "agg_trades = await bot.load_trades(s, n_days_load)\n",
    "adf = agg_trades"
   ]
  },
  {
   "cell_type": "code",
   "execution_count": null,
   "metadata": {},
   "outputs": [],
   "source": [
    "adf.price.iloc[::100].plot()"
   ]
  },
  {
   "cell_type": "code",
   "execution_count": null,
   "metadata": {},
   "outputs": [],
   "source": [
    "# modify settings\n",
    "settings['entry_amount'] = 0.001\n",
    "settings['leverage'] = 100\n",
    "settings['markup'] = 0.0015\n",
    "settings['flashcrash_factor'] = 0.0001\n",
    "settings['ema_span'] = 1000\n",
    "settings['enter_long'] = True\n",
    "settings['enter_shrt'] = True\n",
    "settings"
   ]
  },
  {
   "cell_type": "code",
   "execution_count": null,
   "metadata": {},
   "outputs": [],
   "source": [
    "trades, adf = backtest(adf, settings)\n",
    "\n",
    "tdf = pd.DataFrame(trades).set_index('agg_id')\n",
    "adf.price.plot()\n",
    "bdf = tdf[tdf.side == 'buy']\n",
    "sdf = tdf[tdf.side == 'sel']\n",
    "bdf.price.plot(style='bo')\n",
    "sdf.price.plot(style='ro')\n",
    "tdf"
   ]
  },
  {
   "cell_type": "code",
   "execution_count": null,
   "metadata": {},
   "outputs": [],
   "source": [
    "realized_pnl_sum = tdf.realized_pnl.sum()\n",
    "fee_sum = tdf.fee.sum()\n",
    "print('realized pnl sum', realized_pnl_sum)\n",
    "print('fee sum', fee_sum)\n",
    "print('pnl - fee', realized_pnl_sum - fee_sum)\n",
    "print('pct fees paid', fee_sum / realized_pnl_sum)"
   ]
  },
  {
   "cell_type": "code",
   "execution_count": null,
   "metadata": {},
   "outputs": [],
   "source": [
    "print('pos amount counts')\n",
    "tdf.amount.value_counts()"
   ]
  },
  {
   "cell_type": "code",
   "execution_count": null,
   "metadata": {},
   "outputs": [],
   "source": [
    "min_needed_margin = tdf.margin_cost.max()\n",
    "print('min needed margin', min_needed_margin)"
   ]
  },
  {
   "cell_type": "code",
   "execution_count": null,
   "metadata": {},
   "outputs": [],
   "source": [
    "(tdf.realized_pnl - tdf.fee).cumsum().plot()"
   ]
  },
  {
   "cell_type": "code",
   "execution_count": null,
   "metadata": {},
   "outputs": [],
   "source": [
    "tdf.amount.plot()"
   ]
  },
  {
   "cell_type": "code",
   "execution_count": null,
   "metadata": {},
   "outputs": [],
   "source": [
    "gain = (realized_pnl_sum - fee_sum + min_needed_margin) / min_needed_margin\n",
    "n_days = (tdf.timestamp.max() - tdf.timestamp.min()) / 1000 / 60 / 60 / 24\n",
    "adg = gain ** (1 / n_days)\n",
    "average_daily_abs_profit = realized_pnl_sum / n_days\n",
    "print('min_needed_margin', min_needed_margin)\n",
    "print('realized_pnl_sum', realized_pnl_sum)\n",
    "print('gain', gain)\n",
    "print('n_days', n_days)\n",
    "print('average daily gain', adg)\n",
    "print('average_daily_abs_profit', average_daily_abs_profit)"
   ]
  },
  {
   "cell_type": "code",
   "execution_count": null,
   "metadata": {},
   "outputs": [],
   "source": []
  },
  {
   "cell_type": "code",
   "execution_count": null,
   "metadata": {},
   "outputs": [],
   "source": []
  },
  {
   "cell_type": "code",
   "execution_count": null,
   "metadata": {},
   "outputs": [],
   "source": [
    "# for testing multiple settings"
   ]
  },
  {
   "cell_type": "code",
   "execution_count": null,
   "metadata": {},
   "outputs": [],
   "source": [
    "rs = {}"
   ]
  },
  {
   "cell_type": "code",
   "execution_count": null,
   "metadata": {},
   "outputs": [],
   "source": [
    "v0s = np.linspace(900, 1100, 3).astype(int)   # ema_spans\n",
    "v1s = np.linspace(0.0009, 0.0011, 3).round(6) # flashcrash_factors\n",
    "v2s = np.linspace(0.00145, 0.00155, 1).round(5) # markups\n",
    "v3s = np.linspace(99, 101, 3).astype(int)     # leverages\n",
    "v4s = [2]                               # long, shrt or both\n",
    "print(v0s)\n",
    "print(v1s)\n",
    "print(v2s)\n",
    "print(v3s)\n",
    "print(v4s)"
   ]
  },
  {
   "cell_type": "code",
   "execution_count": null,
   "metadata": {},
   "outputs": [],
   "source": [
    "\n",
    "for v0 in v0s:\n",
    "    settings['ema_span'] = v0\n",
    "    for v1 in v1s:\n",
    "        settings['flashcrash_factor'] = v1\n",
    "        for v2 in v2s:\n",
    "            settings['markup'] = v2\n",
    "            for v3 in v3s:\n",
    "                settings['leverage'] = v3\n",
    "                for v4 in v4s:\n",
    "                    if v4 == 0:\n",
    "                        settings['enter_long'] = True\n",
    "                        settings['enter_shrt'] = False\n",
    "                    elif v4 == 1:\n",
    "                        settings['enter_long'] = False\n",
    "                        settings['enter_shrt'] = True\n",
    "                    else:\n",
    "                        settings['enter_long'] = True\n",
    "                        settings['enter_shrt'] = True\n",
    "                    key = (v0, v1, v2, v3, v4)\n",
    "                    if key in rs:\n",
    "                        print('skipping', key)\n",
    "                        continue\n",
    "                    trades, adf = backtest(adf, settings)\n",
    "                    tdf = pd.DataFrame(trades).set_index('agg_id')\n",
    "                    result = {'net_pnl': tdf.realized_pnl.sum() - tdf.fee.sum()}\n",
    "                    result['amount_max'] = tdf.amount.max()\n",
    "                    result['amount_min'] = tdf.amount.min()\n",
    "                    result['amount_abs_max'] = tdf.amount.abs().max()\n",
    "                    result['amount_abs_sum'] = tdf.amount.abs().sum()\n",
    "                    result['n_trades'] = len(trades)\n",
    "                    result['margin_cost_max'] = tdf.margin_cost.max()\n",
    "                    print('\\n', key, list(map(lambda x: round(x, 6), result.values())))\n",
    "                    \n",
    "                    rs[key] = result                    \n",
    "                "
   ]
  },
  {
   "cell_type": "code",
   "execution_count": null,
   "metadata": {},
   "outputs": [],
   "source": [
    "rdf = pd.DataFrame(rs).T\n",
    "rdf = rdf.join(pd.Series((rdf.net_pnl + rdf.margin_cost_max) / rdf.margin_cost_max, name='gain'))\n",
    "rdfs = rdf.sort_values(['amount_abs_sum', 'gain'], ascending=[True, False])\n",
    "rdfs.head(30)"
   ]
  }
 ],
 "metadata": {
  "kernelspec": {
   "display_name": "Python 3",
   "language": "python",
   "name": "python3"
  },
  "language_info": {
   "codemirror_mode": {
    "name": "ipython",
    "version": 3
   },
   "file_extension": ".py",
   "mimetype": "text/x-python",
   "name": "python",
   "nbconvert_exporter": "python",
   "pygments_lexer": "ipython3",
   "version": "3.8.2"
  }
 },
 "nbformat": 4,
 "nbformat_minor": 4
}
