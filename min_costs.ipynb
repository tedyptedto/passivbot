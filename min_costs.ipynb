{
 "cells": [
  {
   "cell_type": "code",
   "execution_count": null,
   "id": "2c755c1d-2774-4ecd-80fd-b9200b147bf1",
   "metadata": {},
   "outputs": [],
   "source": [
    "import ccxt.async_support as ccxt\n",
    "import json\n",
    "import pprint\n",
    "import numpy as np\n",
    "import pandas as pd\n",
    "from forager import get_min_costs_and_contract_multipliers"
   ]
  },
  {
   "cell_type": "code",
   "execution_count": null,
   "id": "92399db7-bc05-4a75-ac16-0d659632fcef",
   "metadata": {},
   "outputs": [],
   "source": [
    "# choices: okx, binanceusdm, bitget, bybit, kucoinfutures, bingx\n",
    "exchange = \"bingx\"\n",
    "try:\n",
    "    await cc.close()\n",
    "except:\n",
    "    pass\n",
    "cc = getattr(ccxt, exchange)()"
   ]
  },
  {
   "cell_type": "code",
   "execution_count": null,
   "id": "b03e4b7e-128b-4594-a3d9-36081d023f71",
   "metadata": {},
   "outputs": [],
   "source": [
    "res = await get_min_costs_and_contract_multipliers(cc)\n",
    "min_costs, c_mults = res"
   ]
  },
  {
   "cell_type": "code",
   "execution_count": null,
   "id": "6beb0b0c-1c8a-4f47-a704-1606237367cc",
   "metadata": {},
   "outputs": [],
   "source": [
    "sorted(min_costs.items(), key=lambda x: x[1], reverse=True)"
   ]
  },
  {
   "cell_type": "code",
   "execution_count": null,
   "id": "043c5902-b270-41b9-9727-1671804534eb",
   "metadata": {},
   "outputs": [],
   "source": []
  }
 ],
 "metadata": {
  "kernelspec": {
   "display_name": "Python 3 (ipykernel)",
   "language": "python",
   "name": "python3"
  },
  "language_info": {
   "codemirror_mode": {
    "name": "ipython",
    "version": 3
   },
   "file_extension": ".py",
   "mimetype": "text/x-python",
   "name": "python",
   "nbconvert_exporter": "python",
   "pygments_lexer": "ipython3",
   "version": "3.9.16"
  }
 },
 "nbformat": 4,
 "nbformat_minor": 5
}
