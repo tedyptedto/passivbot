{
 "cells": [
  {
   "cell_type": "code",
   "execution_count": null,
   "id": "2c755c1d-2774-4ecd-80fd-b9200b147bf1",
   "metadata": {},
   "outputs": [],
   "source": [
    "import ccxt\n",
    "import json\n",
    "import pprint\n",
    "import numpy as np\n",
    "import pandas as pd"
   ]
  },
  {
   "cell_type": "code",
   "execution_count": null,
   "id": "92399db7-bc05-4a75-ac16-0d659632fcef",
   "metadata": {},
   "outputs": [],
   "source": [
    "# choices: okx, binanceusdm, bitget, bybit, kucoinfutures\n",
    "exchange = \"kucoinfutures\"\n",
    "cc = getattr(ccxt, exchange)()"
   ]
  },
  {
   "cell_type": "code",
   "execution_count": null,
   "id": "9319c779-48df-4785-9fea-b000e13fb571",
   "metadata": {},
   "outputs": [],
   "source": [
    "info = cc.fetch_markets()"
   ]
  },
  {
   "cell_type": "code",
   "execution_count": null,
   "id": "0d5f1156-dc96-4d2e-9b96-c210c6313e34",
   "metadata": {},
   "outputs": [],
   "source": [
    "tickers = cc.fetch_tickers()"
   ]
  },
  {
   "cell_type": "code",
   "execution_count": null,
   "id": "87a49ba5-3956-4ac5-886a-d4a9ca8bac03",
   "metadata": {},
   "outputs": [],
   "source": [
    "min_costs = {}\n",
    "for x in info:\n",
    "    symbol = x[\"symbol\"]\n",
    "    if symbol.endswith(\"USDT\"):\n",
    "        if x[\"type\"] != \"spot\":\n",
    "            if exchange in [\"okx\", \"bitget\", \"kucoinfutures\"]:\n",
    "                ticker_symbol = symbol.replace(\":USDT\", \"\")\n",
    "            else:\n",
    "                ticker_symbol = symbol\n",
    "            if ticker_symbol in tickers:\n",
    "                if exchange == \"bitget\":\n",
    "                    min_cost = 5.0\n",
    "                    c_mult = 1.0\n",
    "                    min_qty = float(x[\"info\"][\"minTradeNum\"])\n",
    "                else:\n",
    "                    min_cost = (\n",
    "                        0.0 if x[\"limits\"][\"cost\"][\"min\"] is None else x[\"limits\"][\"cost\"][\"min\"]\n",
    "                    )\n",
    "                    c_mult = 1.0 if x[\"contractSize\"] is None else x[\"contractSize\"]\n",
    "                    min_qty = (\n",
    "                        0.0 if x[\"limits\"][\"amount\"][\"min\"] is None else x[\"limits\"][\"amount\"][\"min\"]\n",
    "                    )\n",
    "                if exchange == \"kucoinfutures\":\n",
    "                    last_price = float(tickers[ticker_symbol][\"info\"][\"last\"])\n",
    "                    min_qty = float(x[\"info\"][\"multiplier\"])\n",
    "                    c_mult = 1.0\n",
    "                else:\n",
    "                    last_price = tickers[ticker_symbol][\"last\"]\n",
    "                min_costs[ticker_symbol] = max(min_cost, min_qty * c_mult * last_price)"
   ]
  },
  {
   "cell_type": "code",
   "execution_count": null,
   "id": "6beb0b0c-1c8a-4f47-a704-1606237367cc",
   "metadata": {},
   "outputs": [],
   "source": [
    "sorted(min_costs.items(), key=lambda x: x[1], reverse=True)"
   ]
  },
  {
   "cell_type": "code",
   "execution_count": null,
   "id": "4b5dd8cf-b2a1-45c1-9e12-6a5a5de8654a",
   "metadata": {},
   "outputs": [],
   "source": []
  }
 ],
 "metadata": {
  "kernelspec": {
   "display_name": "Python 3 (ipykernel)",
   "language": "python",
   "name": "python3"
  },
  "language_info": {
   "codemirror_mode": {
    "name": "ipython",
    "version": 3
   },
   "file_extension": ".py",
   "mimetype": "text/x-python",
   "name": "python",
   "nbconvert_exporter": "python",
   "pygments_lexer": "ipython3",
   "version": "3.10.6"
  }
 },
 "nbformat": 4,
 "nbformat_minor": 5
}
