{
 "cells": [
  {
   "cell_type": "code",
   "execution_count": null,
   "id": "5d04cc5b-ff14-4d8a-8b01-36d4935897ca",
   "metadata": {},
   "outputs": [],
   "source": [
    "%load_ext autoreload\n",
    "%autoreload 2"
   ]
  },
  {
   "cell_type": "code",
   "execution_count": null,
   "id": "38c240d7-c65b-457b-a10f-7a8f24dccf96",
   "metadata": {},
   "outputs": [],
   "source": [
    "from backtest import backtest\n",
    "from plotting import plot_fills\n",
    "from downloader import Downloader, prep_config\n",
    "from pure_funcs import denumpyize, numpyize, get_template_live_config, candidate_to_live_config\n",
    "from procedures import make_get_ticks_cache, dump_live_config, load_live_config\n",
    "from time import time\n",
    "from passivbot import add_argparse_args\n",
    "from analyze import analyze_fills\n",
    "from njit_funcs import calc_bid_ask_thresholds\n",
    "import sys\n",
    "import argparse\n",
    "import matplotlib.pyplot as plt\n",
    "import json\n",
    "import pandas as pd\n",
    "import numpy as np"
   ]
  },
  {
   "cell_type": "code",
   "execution_count": null,
   "id": "c81212aa-6395-46b5-9b57-f6a8d7faa245",
   "metadata": {},
   "outputs": [],
   "source": [
    "plt.rcParams['figure.figsize'] = [29, 18]\n",
    "pd.set_option('precision', 10)"
   ]
  },
  {
   "cell_type": "code",
   "execution_count": null,
   "id": "457aed4f-fa83-4cd9-bd74-d6c89b4e269d",
   "metadata": {
    "scrolled": true,
    "tags": []
   },
   "outputs": [],
   "source": [
    "class Args:\n",
    "    def __init__(self):\n",
    "        self.backtest_config_path = 'configs/backtest/default.hjson'\n",
    "        self.optimize_config_path = 'configs/optimize/default.hjson'\n",
    "        self.symbol = 'XMRUSDT'\n",
    "        self.user = 'your_user_name'\n",
    "        self.start_date = '2020-12-01'\n",
    "        self.end_date = '2021-06-01'\n",
    "optimize_config = await prep_config(Args())\n",
    "live_config = get_template_live_config()\n",
    "config = {**optimize_config, **live_config}\n",
    "dl = Downloader(config)\n",
    "sts = time()\n",
    "ticks = await dl.get_ticks(True)\n",
    "prices, buyer_maker, timestamps, emas, ratios = make_get_ticks_cache(optimize_config, ticks)\n",
    "data = (prices, buyer_maker, timestamps, emas, ratios)\n",
    "print(f'millis to load {len(ticks)} ticks {(time() - sts) * 1000:.0f}ms')"
   ]
  },
  {
   "cell_type": "code",
   "execution_count": null,
   "id": "ca17952f-31b1-4b6c-adfd-e3aa32e03fcc",
   "metadata": {},
   "outputs": [],
   "source": [
    "df = pd.DataFrame({**{'price': data[0], 'buyer_maker': data[1], 'timestamp': data[2], 'ema': data[3]},\n",
    "                   **{f'ratio_{i}': data[4][:,i] for i in range(len(data[4][0]))}})\n",
    "df"
   ]
  },
  {
   "cell_type": "code",
   "execution_count": null,
   "id": "c4565d4f-0763-470b-9aec-9cca687c9d7c",
   "metadata": {},
   "outputs": [],
   "source": [
    "bytes_per_mb = 1000000\n",
    "millis_per_day = 1000 * 60 * 60 * 24\n",
    "sizebytes = 0\n",
    "for d in data:\n",
    "    print(d.dtype)\n",
    "    sizebytes += sys.getsizeof(d)\n",
    "bytes_per_tick = sizebytes / len(prices)\n",
    "print('bytes_per_tick', bytes_per_tick, 'data size in mb', sizebytes  / bytes_per_mb)\n",
    "\n",
    "n_days = (timestamps[-1] - timestamps[0]) / millis_per_day\n",
    "ticks_per_day = len(prices) / n_days\n",
    "bytes_per_day = bytes_per_tick * ticks_per_day\n",
    "millis_per_tick = n_days / len(prices) * millis_per_day\n",
    "print('n_days', n_days, 'millis_per_tick', millis_per_tick)"
   ]
  },
  {
   "cell_type": "code",
   "execution_count": null,
   "id": "fcdc5171-fa6c-49c8-aba1-b44a58e269b0",
   "metadata": {},
   "outputs": [],
   "source": [
    "config"
   ]
  },
  {
   "cell_type": "code",
   "execution_count": null,
   "id": "25588909-a762-4ce1-a9c5-7af3be59b6ed",
   "metadata": {},
   "outputs": [],
   "source": [
    "config['starting_balance'] = 100.0\n",
    "config['latency_simulation_ms'] = 750\n",
    "config['maker_fee'] = 0.00018"
   ]
  },
  {
   "cell_type": "code",
   "execution_count": null,
   "id": "f4986b5e-4f11-4781-a73d-667a93449e80",
   "metadata": {},
   "outputs": [],
   "source": [
    "tweaked = {\n",
    "    'long': {\n",
    "        'enabled': True,\n",
    "        'stop_psize_pct': 0.1,\n",
    "        'leverage': 3.0,\n",
    "        'iqty_const': 0.01,\n",
    "        'iprc_const': 0.985,\n",
    "        'rqty_const': 0.5,\n",
    "        'rprc_const': 0.98,\n",
    "        'markup_const': 1.005,\n",
    "        'iqty_MAr_coeffs': [\n",
    "            [0.0, -0.0],\n",
    "            [0.0, -0.0],\n",
    "            [-0.0, -0.0]\n",
    "        ],\n",
    "        'iprc_MAr_coeffs': [\n",
    "            [-0.0, -0.0],\n",
    "            [0.0, -0.0],\n",
    "            [0.0, 0.0]\n",
    "        ],\n",
    "        'rqty_MAr_coeffs': [\n",
    "            [-0.0, 0.0],\n",
    "            [-0.0, -0.0],\n",
    "            [-0.0, 0.0]\n",
    "        ],\n",
    "        'rprc_MAr_coeffs': [\n",
    "            [0.0, -0.0],\n",
    "            [-0.0, 0.0],\n",
    "            [0.0, 0.0]\n",
    "        ],\n",
    "        'rprc_PBr_coeffs': [\n",
    "            [-0.0, 0.0]\n",
    "        ],\n",
    "        'markup_MAr_coeffs': [\n",
    "            [0.0, -0.0],\n",
    "            [-0.0, 0.0],\n",
    "            [-0.0, 0.0]\n",
    "        ]\n",
    "    },\n",
    "    'shrt': {\n",
    "        'enabled': True,\n",
    "        'stop_psize_pct': 0.1,\n",
    "        'leverage': 3.0,\n",
    "        'iqty_const': 0.01,\n",
    "        'iprc_const': 1.015,\n",
    "        'rqty_const': 0.5,\n",
    "        'rprc_const': 1.02,\n",
    "        'markup_const': 0.995,\n",
    "        'iqty_MAr_coeffs': [\n",
    "            [0.0, -0.0],\n",
    "            [0.0, -0.0],\n",
    "            [-0.0, -0.0]\n",
    "        ],\n",
    "        'iprc_MAr_coeffs': [\n",
    "            [-0.0, -0.0],\n",
    "            [0.0, -0.0],\n",
    "            [0.0, 0.0]\n",
    "        ],\n",
    "        'rqty_MAr_coeffs': [\n",
    "            [-0.0, 0.0],\n",
    "            [-0.0, -0.0],\n",
    "            [-0.0, 0.0]\n",
    "        ],\n",
    "        'rprc_MAr_coeffs': [\n",
    "            [0.0, -0.0],\n",
    "            [-0.0, 0.0],\n",
    "            [0.0, 0.0]\n",
    "        ],\n",
    "        'rprc_PBr_coeffs': [\n",
    "            [-0.0, 0.0]\n",
    "        ],\n",
    "        'markup_MAr_coeffs': [\n",
    "            [0.0, -0.0],\n",
    "            [-0.0, 0.0],\n",
    "            [-0.0, 0.0]\n",
    "        ]\n",
    "    }\n",
    "}"
   ]
  },
  {
   "cell_type": "code",
   "execution_count": null,
   "id": "30f4e0e4-0483-4882-8f72-9d1d30478b9e",
   "metadata": {},
   "outputs": [],
   "source": [
    "config_to_test = {**config, **numpyize(tweaked)}\n",
    "# dump_live_config(config_to_test, 'hand_tuned.json')"
   ]
  },
  {
   "cell_type": "code",
   "execution_count": null,
   "id": "92b1c78b-fe0a-4add-b8b5-53f03cfde29d",
   "metadata": {},
   "outputs": [],
   "source": [
    "sts = time()\n",
    "fills, info = backtest(config_to_test, data)\n",
    "print(f'seconds elapsed {time() - sts:.4f}')\n",
    "print(f'did finish {info[0]}, lowest eqbal ratio {info[1]:.4f}, closest bkr {info[2]:.4f}')"
   ]
  },
  {
   "cell_type": "code",
   "execution_count": null,
   "id": "1ffbff85-5eda-46ae-a6d8-b9b54fb59590",
   "metadata": {},
   "outputs": [],
   "source": [
    "result = {**config_to_test, **{'lowest_eqbal_ratio': info[1], 'closest_bkr': info[2]}}\n",
    "fdf, analysis = analyze_fills(fills, result, timestamps[0], timestamps[-1])\n",
    "fdf"
   ]
  },
  {
   "cell_type": "code",
   "execution_count": null,
   "id": "bf34a7eb-7197-4c01-ad53-846a1f36ab7a",
   "metadata": {},
   "outputs": [],
   "source": [
    "analysis"
   ]
  },
  {
   "cell_type": "code",
   "execution_count": null,
   "id": "2f2dd9bb-1df5-48a9-bc6d-57472e3dc861",
   "metadata": {},
   "outputs": [],
   "source": [
    "plot_fills(df, fdf)"
   ]
  },
  {
   "cell_type": "code",
   "execution_count": null,
   "id": "713e0aa1-1ef2-4699-9440-f6566b881de5",
   "metadata": {},
   "outputs": [],
   "source": [
    "fdf.balance.plot()\n",
    "fdf.equity.plot()"
   ]
  },
  {
   "cell_type": "code",
   "execution_count": null,
   "id": "6f6bfbf9-691d-4f57-8766-5bdc4691365c",
   "metadata": {},
   "outputs": [],
   "source": []
  },
  {
   "cell_type": "code",
   "execution_count": null,
   "id": "ecf01ed6-bfec-4efa-bdeb-e00a8019a762",
   "metadata": {},
   "outputs": [],
   "source": []
  },
  {
   "cell_type": "code",
   "execution_count": null,
   "id": "19aaa1f0-7ebd-4d68-a0de-d1014707dc37",
   "metadata": {},
   "outputs": [],
   "source": []
  },
  {
   "cell_type": "code",
   "execution_count": null,
   "id": "34c44ec4-5a77-4b11-9415-fb657266744a",
   "metadata": {},
   "outputs": [],
   "source": []
  },
  {
   "cell_type": "code",
   "execution_count": null,
   "id": "265ccaf7-08d7-4c92-a988-3368418d7c6c",
   "metadata": {},
   "outputs": [],
   "source": []
  },
  {
   "cell_type": "code",
   "execution_count": null,
   "id": "73930838-38db-4d37-b7e8-ff4a17530b82",
   "metadata": {},
   "outputs": [],
   "source": []
  },
  {
   "cell_type": "code",
   "execution_count": null,
   "id": "d4e8f5e4-27ff-4619-bc85-fb805b283976",
   "metadata": {},
   "outputs": [],
   "source": []
  },
  {
   "cell_type": "code",
   "execution_count": null,
   "id": "795472b6-5bc0-4adf-a163-0a866ea00ef5",
   "metadata": {},
   "outputs": [],
   "source": [
    "bids, asks = calc_bid_ask_thresholds(prices, emas, ratios, (config['long']['iprc_const'], config['shrt']['iprc_const']),\n",
    "                                     (config['long']['iprc_MAr_coeffs'], config['shrt']['iprc_MAr_coeffs']))"
   ]
  },
  {
   "cell_type": "code",
   "execution_count": null,
   "id": "371d54fe-97fd-4cad-aba1-c7f556ad2848",
   "metadata": {},
   "outputs": [],
   "source": [
    "bidask = pd.DataFrame({'bid': bids, 'ask': asks})\n",
    "bidask"
   ]
  },
  {
   "cell_type": "code",
   "execution_count": null,
   "id": "356a1fd2-2fea-4341-8044-62d96af57676",
   "metadata": {},
   "outputs": [],
   "source": [
    "dfba = df[['price']].join(bidask)"
   ]
  },
  {
   "cell_type": "code",
   "execution_count": null,
   "id": "c9d64632-fa9f-4079-a3a2-ff2f6831a28e",
   "metadata": {},
   "outputs": [],
   "source": [
    "dfba.iloc[:3000000:100].plot()"
   ]
  },
  {
   "cell_type": "code",
   "execution_count": null,
   "id": "8a4d4e35-226e-4d20-894c-404e086158cf",
   "metadata": {},
   "outputs": [],
   "source": []
  }
 ],
 "metadata": {
  "kernelspec": {
   "display_name": "Python 3",
   "language": "python",
   "name": "python3"
  },
  "language_info": {
   "codemirror_mode": {
    "name": "ipython",
    "version": 3
   },
   "file_extension": ".py",
   "mimetype": "text/x-python",
   "name": "python",
   "nbconvert_exporter": "python",
   "pygments_lexer": "ipython3",
   "version": "3.8.3"
  }
 },
 "nbformat": 4,
 "nbformat_minor": 5
}
