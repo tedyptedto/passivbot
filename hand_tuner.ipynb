{
 "cells": [
  {
   "cell_type": "code",
   "execution_count": null,
   "id": "5d04cc5b-ff14-4d8a-8b01-36d4935897ca",
   "metadata": {},
   "outputs": [],
   "source": [
    "%load_ext autoreload\n",
    "%autoreload 2"
   ]
  },
  {
   "cell_type": "code",
   "execution_count": null,
   "id": "38c240d7-c65b-457b-a10f-7a8f24dccf96",
   "metadata": {},
   "outputs": [],
   "source": [
    "from backtest import backtest\n",
    "from plotting import plot_fills\n",
    "from downloader import Downloader, prep_config\n",
    "from pure_funcs import denumpyize, numpyize, get_template_live_config, candidate_to_live_config, calc_spans, get_template_live_config\n",
    "from procedures import make_get_ticks_cache, dump_live_config, load_live_config\n",
    "from time import time\n",
    "from passivbot import add_argparse_args\n",
    "from analyze import analyze_fills\n",
    "import sys\n",
    "import argparse\n",
    "import pprint\n",
    "import matplotlib.pyplot as plt\n",
    "import json\n",
    "import pandas as pd\n",
    "import numpy as np"
   ]
  },
  {
   "cell_type": "code",
   "execution_count": null,
   "id": "c81212aa-6395-46b5-9b57-f6a8d7faa245",
   "metadata": {},
   "outputs": [],
   "source": [
    "plt.rcParams['figure.figsize'] = [29, 18]\n",
    "pd.set_option('precision', 10)"
   ]
  },
  {
   "cell_type": "code",
   "execution_count": null,
   "id": "34efa6a6-84bf-4252-8d60-9f4a79ade3e7",
   "metadata": {},
   "outputs": [],
   "source": [
    "# if spans change, new data cache must be made\n",
    "min_span = 9000\n",
    "max_span = 160000\n",
    "n_spans = 3\n",
    "spans = calc_spans(min_span, max_span, n_spans)\n",
    "spans"
   ]
  },
  {
   "cell_type": "code",
   "execution_count": null,
   "id": "457aed4f-fa83-4cd9-bd74-d6c89b4e269d",
   "metadata": {
    "scrolled": true,
    "tags": []
   },
   "outputs": [],
   "source": [
    "class Args:\n",
    "    def __init__(self):\n",
    "        self.backtest_config_path = 'configs/backtest/default.hjson'\n",
    "        self.optimize_config_path = 'configs/optimize/default.hjson'\n",
    "        self.symbol = 'BTSUSDT'\n",
    "        self.user = 'your_user_name'\n",
    "        self.start_date = '2020-12-09'\n",
    "        self.end_date = '2021-06-10'\n",
    "config = await prep_config(Args())\n",
    "config['min_span'] = min_span\n",
    "config['max_span'] = max_span\n",
    "config['n_spans'] = n_spans\n",
    "config['spans'] = spans\n",
    "dl = Downloader(config)\n",
    "sts = time()\n",
    "ticks = await dl.get_ticks(True)\n",
    "prices, buyer_maker, timestamps, emas = make_get_ticks_cache(config, ticks)\n",
    "data = (prices, buyer_maker, timestamps, emas)\n",
    "print(f'millis to load {len(ticks)} ticks {(time() - sts) * 1000:.0f}ms')"
   ]
  },
  {
   "cell_type": "code",
   "execution_count": null,
   "id": "ca17952f-31b1-4b6c-adfd-e3aa32e03fcc",
   "metadata": {},
   "outputs": [],
   "source": [
    "ratios = np.c_[prices, emas[:,:-1]] / emas\n",
    "df = pd.DataFrame({**{'price': data[0], 'buyer_maker': data[1], 'timestamp': data[2]},\n",
    "                   **{f'MA_{i}': data[3][:,i] for i in range(len(data[3][0]))},\n",
    "                   **{f'ratio_{i}': ratios[:,i] for i in range(len(data[3][0]))},\n",
    "                      'MA_band_lower': data[3].min(axis=1), 'MA_band_upper': data[3].max(axis=1)})\n",
    "df"
   ]
  },
  {
   "cell_type": "code",
   "execution_count": null,
   "id": "dfcc00a9-434d-483b-83fe-1bab9e52cc59",
   "metadata": {},
   "outputs": [],
   "source": [
    "df[['MA_band_lower', 'MA_band_upper']].iloc[::100].plot()"
   ]
  },
  {
   "cell_type": "code",
   "execution_count": null,
   "id": "c3a1a01d-c78f-4ebe-834d-b5d1856bedb7",
   "metadata": {},
   "outputs": [],
   "source": [
    "# long stop loss price and shrt ientry price are never lower than upper stop band\n",
    "# shrt stop loss price and long ientry price are never higher than lower stop band"
   ]
  },
  {
   "cell_type": "code",
   "execution_count": null,
   "id": "c96eec42-9746-42e7-b02b-1359d78b38ac",
   "metadata": {},
   "outputs": [],
   "source": [
    "# max n days between consecutive occurrences of price crossing lower MA band\n",
    "df[df.price <= df.MA_band_lower].timestamp.diff().max() / 1000 / 60 / 60 / 24"
   ]
  },
  {
   "cell_type": "code",
   "execution_count": null,
   "id": "e2bf2dfa-e21f-4aa8-9287-e6eab80b5301",
   "metadata": {},
   "outputs": [],
   "source": [
    "# max n days between consecutive occurrences of price crossing upper MA band\n",
    "df[df.price >= df.MA_band_upper].timestamp.diff().max() / 1000 / 60 / 60 / 24"
   ]
  },
  {
   "cell_type": "code",
   "execution_count": null,
   "id": "6bf1bad9-16d0-4d56-a617-f7589b06286e",
   "metadata": {},
   "outputs": [],
   "source": [
    "bytes_per_mb = 1000000\n",
    "millis_per_day = 1000 * 60 * 60 * 24\n",
    "sizebytes = 0\n",
    "for d in data:\n",
    "    print(d.dtype)\n",
    "    sizebytes += sys.getsizeof(d)\n",
    "bytes_per_tick = sizebytes / len(prices)\n",
    "print('bytes_per_tick', bytes_per_tick, 'data size in mb', sizebytes  / bytes_per_mb)\n",
    "\n",
    "n_days = (timestamps[-1] - timestamps[0]) / millis_per_day\n",
    "ticks_per_day = len(prices) / n_days\n",
    "bytes_per_day = bytes_per_tick * ticks_per_day\n",
    "millis_per_tick = n_days / len(prices) * millis_per_day\n",
    "print('n_days', n_days, 'millis_per_tick', millis_per_tick)"
   ]
  },
  {
   "cell_type": "code",
   "execution_count": null,
   "id": "25588909-a762-4ce1-a9c5-7af3be59b6ed",
   "metadata": {},
   "outputs": [],
   "source": [
    "config['starting_balance'] = 100.0\n",
    "config['latency_simulation_ms'] = 750\n",
    "config['maker_fee'] = 0.00018"
   ]
  },
  {
   "cell_type": "code",
   "execution_count": null,
   "id": "f80fcda9-8f7b-4d09-a62d-b97d8407f759",
   "metadata": {},
   "outputs": [],
   "source": [
    "template = get_template_live_config(min_span=min_span,\n",
    "                                    max_span=max_span,\n",
    "                                    n_spans=n_spans)\n",
    "template"
   ]
  },
  {
   "cell_type": "code",
   "execution_count": null,
   "id": "4e3fb767-6167-461c-b601-8b0f45b0d8ab",
   "metadata": {},
   "outputs": [],
   "source": [
    "# tune it...\n",
    "\n",
    "#template['shrt']['iprc_const'] = 1.0085\n",
    "#template['long']['rprc_MAr_coeffs'][0][0] = -0.005\n",
    "\n",
    "template['long']['rprc_PBr_coeffs'][0][1] = -0.1\n",
    "template['shrt']['rprc_PBr_coeffs'][0][1] = 0.1\n",
    "template['long']['rqty_const'] = 0.1\n",
    "template['shrt']['rqty_const'] = 0.1\n",
    "\n",
    "\n",
    "# etc"
   ]
  },
  {
   "cell_type": "code",
   "execution_count": null,
   "id": "30f4e0e4-0483-4882-8f72-9d1d30478b9e",
   "metadata": {},
   "outputs": [],
   "source": [
    "config_to_test = {**config, **numpyize(template)}\n",
    "#dump_live_config(config_to_test, 'hand_tuned.json')"
   ]
  },
  {
   "cell_type": "code",
   "execution_count": null,
   "id": "92b1c78b-fe0a-4add-b8b5-53f03cfde29d",
   "metadata": {},
   "outputs": [],
   "source": [
    "sts = time()\n",
    "fills, info = backtest(config_to_test, data)\n",
    "print(f'seconds elapsed {time() - sts:.4f}')\n",
    "print(f'did finish {info[0]}, lowest eqbal ratio {info[1]:.4f}, closest bkr {info[2]:.4f}')\n",
    "result = {**config_to_test, **{'lowest_eqbal_ratio': info[1], 'closest_bkr': info[2]}}\n",
    "fdf, analysis = analyze_fills(fills, result, timestamps[0], timestamps[-1])\n",
    "pprint.pprint(analysis)\n",
    "fdf"
   ]
  },
  {
   "cell_type": "code",
   "execution_count": null,
   "id": "2f2dd9bb-1df5-48a9-bc6d-57472e3dc861",
   "metadata": {},
   "outputs": [],
   "source": [
    "plot_fills(df, fdf)"
   ]
  },
  {
   "cell_type": "code",
   "execution_count": null,
   "id": "713e0aa1-1ef2-4699-9440-f6566b881de5",
   "metadata": {},
   "outputs": [],
   "source": [
    "fdf.balance.plot()\n",
    "fdf.equity.plot()"
   ]
  },
  {
   "cell_type": "code",
   "execution_count": null,
   "id": "5dfa174a-645d-4a80-bbf0-900ccd590c94",
   "metadata": {},
   "outputs": [],
   "source": []
  },
  {
   "cell_type": "code",
   "execution_count": null,
   "id": "982b3c55-eec3-48dc-b641-8420a6253a6d",
   "metadata": {},
   "outputs": [],
   "source": []
  },
  {
   "cell_type": "code",
   "execution_count": null,
   "id": "634de0d5-df1f-4e53-bd9e-362b5fc39f04",
   "metadata": {},
   "outputs": [],
   "source": []
  },
  {
   "cell_type": "code",
   "execution_count": null,
   "id": "d34a7e55-273d-460d-8ca2-ae5f4b3462e0",
   "metadata": {},
   "outputs": [],
   "source": []
  },
  {
   "cell_type": "code",
   "execution_count": null,
   "id": "17853327-6043-4258-afe1-87e7973be435",
   "metadata": {},
   "outputs": [],
   "source": [
    "# load external fills to inspect\n",
    "\n",
    "fdf = pd.read_csv('backtests/binance/BTSUSDT/plots/2021-06-12T114030/fills.csv').set_index('trade_id')"
   ]
  },
  {
   "cell_type": "code",
   "execution_count": null,
   "id": "dfb05d81-3e38-416a-93bd-0cc1c6af1c16",
   "metadata": {},
   "outputs": [],
   "source": [
    "longs = fdf[fdf.type.str.contains('long')]\n",
    "shrts = fdf[fdf.type.str.contains('shrt')]"
   ]
  },
  {
   "cell_type": "code",
   "execution_count": null,
   "id": "60d450b1-cb1c-47c6-8263-5f4770592ac2",
   "metadata": {},
   "outputs": [],
   "source": [
    "longs"
   ]
  },
  {
   "cell_type": "code",
   "execution_count": null,
   "id": "6efb0912-5ddf-49d2-b94d-5cdbc7037ab4",
   "metadata": {},
   "outputs": [],
   "source": []
  },
  {
   "cell_type": "code",
   "execution_count": null,
   "id": "e5acae26-67ff-46a3-9382-187e22dea8f6",
   "metadata": {},
   "outputs": [],
   "source": [
    "longs.tail(60)"
   ]
  },
  {
   "cell_type": "code",
   "execution_count": null,
   "id": "66b38c53-cc0b-4aef-81af-6a230b775c81",
   "metadata": {},
   "outputs": [],
   "source": [
    "plot_fills(df, fdf)"
   ]
  },
  {
   "cell_type": "code",
   "execution_count": null,
   "id": "95f4974c-3d0e-4043-8b58-61b1d810aefe",
   "metadata": {},
   "outputs": [],
   "source": [
    "fdf.balance.plot()\n",
    "fdf.equity.plot()"
   ]
  },
  {
   "cell_type": "code",
   "execution_count": null,
   "id": "2e9d8220-34ca-4b96-beb5-0124f75b4de0",
   "metadata": {},
   "outputs": [],
   "source": []
  },
  {
   "cell_type": "code",
   "execution_count": null,
   "id": "64f578fb-4dab-4a1d-a964-3c03e7b501b9",
   "metadata": {},
   "outputs": [],
   "source": []
  },
  {
   "cell_type": "code",
   "execution_count": null,
   "id": "06deac29-0297-4e52-86e8-925768b54863",
   "metadata": {},
   "outputs": [],
   "source": []
  },
  {
   "cell_type": "code",
   "execution_count": null,
   "id": "8a4d4e35-226e-4d20-894c-404e086158cf",
   "metadata": {},
   "outputs": [],
   "source": []
  }
 ],
 "metadata": {
  "kernelspec": {
   "display_name": "Python 3",
   "language": "python",
   "name": "python3"
  },
  "language_info": {
   "codemirror_mode": {
    "name": "ipython",
    "version": 3
   },
   "file_extension": ".py",
   "mimetype": "text/x-python",
   "name": "python",
   "nbconvert_exporter": "python",
   "pygments_lexer": "ipython3",
   "version": "3.8.3"
  }
 },
 "nbformat": 4,
 "nbformat_minor": 5
}
