{
 "cells": [
  {
   "cell_type": "code",
   "execution_count": null,
   "id": "5d04cc5b-ff14-4d8a-8b01-36d4935897ca",
   "metadata": {},
   "outputs": [],
   "source": [
    "%load_ext autoreload\n",
    "%autoreload 2"
   ]
  },
  {
   "cell_type": "code",
   "execution_count": null,
   "id": "38c240d7-c65b-457b-a10f-7a8f24dccf96",
   "metadata": {},
   "outputs": [],
   "source": [
    "from backtest import backtest\n",
    "from plotting import plot_fills\n",
    "from downloader import Downloader, prep_config\n",
    "from pure_funcs import denumpyize, numpyize, get_template_live_config, candidate_to_live_config, calc_spans, get_template_live_config, analyze_fills\n",
    "from procedures import dump_live_config, load_live_config, add_argparse_args\n",
    "from njit_funcs import calc_emas\n",
    "from time import time\n",
    "import sys\n",
    "import argparse\n",
    "import pprint\n",
    "import matplotlib.pyplot as plt\n",
    "import json\n",
    "import pandas as pd\n",
    "import numpy as np"
   ]
  },
  {
   "cell_type": "code",
   "execution_count": null,
   "id": "c81212aa-6395-46b5-9b57-f6a8d7faa245",
   "metadata": {},
   "outputs": [],
   "source": [
    "plt.rcParams['figure.figsize'] = [29, 18]\n",
    "pd.set_option('precision', 10)"
   ]
  },
  {
   "cell_type": "code",
   "execution_count": null,
   "id": "457aed4f-fa83-4cd9-bd74-d6c89b4e269d",
   "metadata": {
    "scrolled": true,
    "tags": []
   },
   "outputs": [],
   "source": [
    "class Args:\n",
    "    def __init__(self):\n",
    "        self.backtest_config_path = 'configs/backtest/default.hjson'\n",
    "        self.optimize_config_path = 'configs/optimize/default.hjson'\n",
    "        self.symbol = 'XMRUSDT'\n",
    "        self.user = 'your_user_name'\n",
    "        self.start_date = '2020-12-09'\n",
    "        self.end_date = '2021-06-10'\n",
    "config = await prep_config(Args())\n",
    "dl = Downloader(config)\n",
    "sts = time()\n",
    "data = await dl.get_data()\n",
    "prices, buyer_maker, timestamps = data\n",
    "print(f'millis to load {len(prices)} ticks {(time() - sts) * 1000:.0f}ms')"
   ]
  },
  {
   "cell_type": "code",
   "execution_count": null,
   "id": "25588909-a762-4ce1-a9c5-7af3be59b6ed",
   "metadata": {},
   "outputs": [],
   "source": [
    "config['starting_balance'] = 100.0\n",
    "config['latency_simulation_ms'] = 750\n",
    "config['maker_fee'] = 0.00018"
   ]
  },
  {
   "cell_type": "code",
   "execution_count": null,
   "id": "f80fcda9-8f7b-4d09-a62d-b97d8407f759",
   "metadata": {},
   "outputs": [],
   "source": [
    "template = get_template_live_config(n_spans=config['n_spans'])\n",
    "#template = load_live_config('configs/live/binance_btsusdt.json')\n",
    "template"
   ]
  },
  {
   "cell_type": "code",
   "execution_count": null,
   "id": "f38d8fd3-ccf4-4465-837b-24abaa121cee",
   "metadata": {},
   "outputs": [],
   "source": [
    "spans = calc_spans(template['min_span'], template['max_span'], template['n_spans'])\n",
    "print(spans)\n",
    "emas = calc_emas(prices, spans)\n",
    "ratios = np.c_[prices, emas[:,:-1]] / emas\n",
    "df = pd.DataFrame({**{'price': prices, 'buyer_maker': buyer_maker, 'timestamp': timestamps},\n",
    "                   **{f'MA_{i}': emas[:,i] for i in range(len(emas[0]))},\n",
    "                   **{f'ratio_{i}': ratios[:,i] for i in range(len(emas[0]))},\n",
    "                      'MA_band_lower': emas.min(axis=1), 'MA_band_upper': emas.max(axis=1)})\n",
    "df"
   ]
  },
  {
   "cell_type": "code",
   "execution_count": null,
   "id": "4ffcbeb6-c07e-442d-8f4b-577d6d14082f",
   "metadata": {},
   "outputs": [],
   "source": [
    "df[['MA_band_lower', 'MA_band_upper']].iloc[::100].plot()"
   ]
  },
  {
   "cell_type": "code",
   "execution_count": null,
   "id": "4e3fb767-6167-461c-b601-8b0f45b0d8ab",
   "metadata": {},
   "outputs": [],
   "source": [
    "# tune it...\n",
    "\n",
    "#template['shrt']['iprc_const'] = 1.0085\n",
    "#template['long']['rprc_MAr_coeffs'][0][0] = -0.005\n",
    "\n",
    "template['long']['rprc_PBr_coeffs'][0][1] = -0.14\n",
    "template['shrt']['rprc_PBr_coeffs'][0][1] = 0.14\n",
    "template['long']['rqty_const'] = 0.2\n",
    "template['shrt']['rqty_const'] = 0.2\n",
    "\n",
    "template['long']['iprc_const'] = 1.0\n",
    "template['shrt']['iprc_const'] = 1.0\n",
    "template['long']['iqty_const'] = 0.1\n",
    "template['shrt']['iqty_const'] = 0.1\n",
    "template['long']['leverage'] = 40.0\n",
    "template['shrt']['leverage'] = 40.0\n",
    "template['long']['rprc_const'] = 0.98\n",
    "template['shrt']['rprc_const'] = 1.02\n",
    "template['min_span'] = 9000.0\n",
    "template['max_span'] = 360000.0\n",
    "template['long']['markup_const'] = 1.012\n",
    "template['shrt']['markup_const'] = 0.988\n",
    "template['long']['rprc_MAr_coeffs'][2][1] = 0.0\n",
    "template['shrt']['rprc_MAr_coeffs'][2][1] = 0.0\n",
    "template['long']['rprc_MAr_coeffs'][2][0] = 0.0\n",
    "template['shrt']['rprc_MAr_coeffs'][2][0] = -0.0\n",
    "\n",
    "\n",
    "\n",
    "\n",
    "\n",
    "\n",
    "\n",
    "\n",
    "# etc"
   ]
  },
  {
   "cell_type": "code",
   "execution_count": null,
   "id": "30f4e0e4-0483-4882-8f72-9d1d30478b9e",
   "metadata": {},
   "outputs": [],
   "source": [
    "config_to_test = {**config, **numpyize(template)}\n",
    "dump_live_config(config_to_test, 'tmp/hand_tuned.json')"
   ]
  },
  {
   "cell_type": "code",
   "execution_count": null,
   "id": "a43eb064-61f4-4b21-96a6-ace5b61ae94a",
   "metadata": {},
   "outputs": [],
   "source": [
    "sts = time()\n",
    "fills, info = backtest(config_to_test, data)\n",
    "elapsed = time() - sts\n",
    "print(f'seconds elapsed {elapsed:.4f}')\n",
    "print(f'did finish {info[0]}, lowest eqbal ratio {info[1]:.4f}, closest bkr {info[2]:.4f}')\n",
    "result = {**config_to_test, **{'lowest_eqbal_ratio': info[1], 'closest_bkr': info[2]}}\n",
    "fdf, analysis = analyze_fills(fills, result, timestamps[0], timestamps[-1])\n",
    "pprint.pprint(analysis)\n",
    "fdf"
   ]
  },
  {
   "cell_type": "code",
   "execution_count": null,
   "id": "9df468b9-7da3-48f8-9f71-b056c59b8b1d",
   "metadata": {},
   "outputs": [],
   "source": [
    "pprint.pprint(analysis)\n",
    "pprint.pprint(template)"
   ]
  },
  {
   "cell_type": "code",
   "execution_count": null,
   "id": "37e31e3e-1267-4b9b-90dc-b0c4ca1a5ab8",
   "metadata": {},
   "outputs": [],
   "source": [
    "plot_fills(df, fdf)"
   ]
  },
  {
   "cell_type": "code",
   "execution_count": null,
   "id": "fbf19f2f-a9bd-4e5b-b490-5de09fe50fa6",
   "metadata": {},
   "outputs": [],
   "source": [
    "fdf.balance.plot()\n",
    "fdf.equity.plot()"
   ]
  },
  {
   "cell_type": "code",
   "execution_count": null,
   "id": "4c4c7093-5bd2-4079-8fe2-a3308a0ac311",
   "metadata": {},
   "outputs": [],
   "source": [
    "fdf.head(60)"
   ]
  },
  {
   "cell_type": "code",
   "execution_count": null,
   "id": "92646c75-569e-425b-9f4e-27414ce93a8d",
   "metadata": {},
   "outputs": [],
   "source": [
    "fdf[fdf.type.str.contains('long')].timestamp.diff().max() / (1000 * 60 * 60)"
   ]
  },
  {
   "cell_type": "code",
   "execution_count": null,
   "id": "2d0010c2-a221-4861-bdfe-220fa22257a8",
   "metadata": {},
   "outputs": [],
   "source": [
    "fdf.timestamp.diff().sort_values() / (1000 * 60 * 60)"
   ]
  },
  {
   "cell_type": "code",
   "execution_count": null,
   "id": "fb4a4a3f-9774-454a-b0e1-78c39c30de87",
   "metadata": {},
   "outputs": [],
   "source": [
    "plot_fills(df, fdf.loc[10410307:10410307+100000])"
   ]
  },
  {
   "cell_type": "code",
   "execution_count": null,
   "id": "18f2dc66-3e41-46c8-aba8-7d1706d31196",
   "metadata": {},
   "outputs": [],
   "source": []
  },
  {
   "cell_type": "code",
   "execution_count": null,
   "id": "1950a9c0-8f32-4b1b-a39d-b66374439f95",
   "metadata": {},
   "outputs": [],
   "source": []
  },
  {
   "cell_type": "code",
   "execution_count": null,
   "id": "77efcf57-b017-4741-abbb-382f4712c416",
   "metadata": {},
   "outputs": [],
   "source": []
  },
  {
   "cell_type": "code",
   "execution_count": null,
   "id": "92b1c78b-fe0a-4add-b8b5-53f03cfde29d",
   "metadata": {},
   "outputs": [],
   "source": [
    "sts = time()\n",
    "fills, info = backtest(config_to_test, data)\n",
    "elapsed = time() - sts\n",
    "print(f'seconds elapsed {elapsed:.4f}')\n",
    "print(f'did finish {info[0]}, lowest eqbal ratio {info[1]:.4f}, closest bkr {info[2]:.4f}')\n",
    "result = {**config_to_test, **{'lowest_eqbal_ratio': info[1], 'closest_bkr': info[2]}}\n",
    "fdf, analysis = analyze_fills(fills, result, timestamps[0], timestamps[-1])\n",
    "pprint.pprint(analysis)\n",
    "fdf"
   ]
  },
  {
   "cell_type": "code",
   "execution_count": null,
   "id": "2f2dd9bb-1df5-48a9-bc6d-57472e3dc861",
   "metadata": {},
   "outputs": [],
   "source": [
    "plot_fills(df, fdf)"
   ]
  },
  {
   "cell_type": "code",
   "execution_count": null,
   "id": "713e0aa1-1ef2-4699-9440-f6566b881de5",
   "metadata": {},
   "outputs": [],
   "source": [
    "fdf.balance.plot()\n",
    "fdf.equity.plot()"
   ]
  },
  {
   "cell_type": "code",
   "execution_count": null,
   "id": "5dfa174a-645d-4a80-bbf0-900ccd590c94",
   "metadata": {},
   "outputs": [],
   "source": []
  },
  {
   "cell_type": "code",
   "execution_count": null,
   "id": "982b3c55-eec3-48dc-b641-8420a6253a6d",
   "metadata": {},
   "outputs": [],
   "source": []
  },
  {
   "cell_type": "code",
   "execution_count": null,
   "id": "634de0d5-df1f-4e53-bd9e-362b5fc39f04",
   "metadata": {},
   "outputs": [],
   "source": []
  },
  {
   "cell_type": "code",
   "execution_count": null,
   "id": "d34a7e55-273d-460d-8ca2-ae5f4b3462e0",
   "metadata": {},
   "outputs": [],
   "source": []
  },
  {
   "cell_type": "code",
   "execution_count": null,
   "id": "17853327-6043-4258-afe1-87e7973be435",
   "metadata": {},
   "outputs": [],
   "source": [
    "# load external fills to inspect\n",
    "\n",
    "fdf = pd.read_csv('backtests/binance/BTSUSDT/plots/2021-06-12T114030/fills.csv').set_index('trade_id')"
   ]
  },
  {
   "cell_type": "code",
   "execution_count": null,
   "id": "dfb05d81-3e38-416a-93bd-0cc1c6af1c16",
   "metadata": {},
   "outputs": [],
   "source": [
    "longs = fdf[fdf.type.str.contains('long')]\n",
    "shrts = fdf[fdf.type.str.contains('shrt')]"
   ]
  },
  {
   "cell_type": "code",
   "execution_count": null,
   "id": "60d450b1-cb1c-47c6-8263-5f4770592ac2",
   "metadata": {},
   "outputs": [],
   "source": [
    "longs"
   ]
  },
  {
   "cell_type": "code",
   "execution_count": null,
   "id": "6efb0912-5ddf-49d2-b94d-5cdbc7037ab4",
   "metadata": {},
   "outputs": [],
   "source": []
  },
  {
   "cell_type": "code",
   "execution_count": null,
   "id": "e5acae26-67ff-46a3-9382-187e22dea8f6",
   "metadata": {},
   "outputs": [],
   "source": [
    "longs.tail(60)"
   ]
  },
  {
   "cell_type": "code",
   "execution_count": null,
   "id": "66b38c53-cc0b-4aef-81af-6a230b775c81",
   "metadata": {},
   "outputs": [],
   "source": [
    "plot_fills(df, fdf)"
   ]
  },
  {
   "cell_type": "code",
   "execution_count": null,
   "id": "95f4974c-3d0e-4043-8b58-61b1d810aefe",
   "metadata": {},
   "outputs": [],
   "source": [
    "fdf.balance.plot()\n",
    "fdf.equity.plot()"
   ]
  },
  {
   "cell_type": "code",
   "execution_count": null,
   "id": "2e9d8220-34ca-4b96-beb5-0124f75b4de0",
   "metadata": {},
   "outputs": [],
   "source": []
  },
  {
   "cell_type": "code",
   "execution_count": null,
   "id": "64f578fb-4dab-4a1d-a964-3c03e7b501b9",
   "metadata": {},
   "outputs": [],
   "source": []
  },
  {
   "cell_type": "code",
   "execution_count": null,
   "id": "06deac29-0297-4e52-86e8-925768b54863",
   "metadata": {},
   "outputs": [],
   "source": []
  },
  {
   "cell_type": "code",
   "execution_count": null,
   "id": "8a4d4e35-226e-4d20-894c-404e086158cf",
   "metadata": {},
   "outputs": [],
   "source": []
  }
 ],
 "metadata": {
  "kernelspec": {
   "display_name": "Python 3",
   "language": "python",
   "name": "python3"
  },
  "language_info": {
   "codemirror_mode": {
    "name": "ipython",
    "version": 3
   },
   "file_extension": ".py",
   "mimetype": "text/x-python",
   "name": "python",
   "nbconvert_exporter": "python",
   "pygments_lexer": "ipython3",
   "version": "3.8.3"
  }
 },
 "nbformat": 4,
 "nbformat_minor": 5
}
