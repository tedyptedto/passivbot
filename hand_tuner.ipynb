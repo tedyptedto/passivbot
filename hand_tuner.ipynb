{
 "cells": [
  {
   "cell_type": "code",
   "execution_count": null,
   "id": "5d04cc5b-ff14-4d8a-8b01-36d4935897ca",
   "metadata": {},
   "outputs": [],
   "source": [
    "#%load_ext autoreload\n",
    "#%autoreload 2"
   ]
  },
  {
   "cell_type": "code",
   "execution_count": null,
   "id": "38c240d7-c65b-457b-a10f-7a8f24dccf96",
   "metadata": {
    "tags": []
   },
   "outputs": [],
   "source": [
    "from backtest import backtest\n",
    "from plotting import plot_fills\n",
    "from downloader import Downloader\n",
    "from pure_funcs import denumpyize, numpyize, get_template_live_config_vanilla, candidate_to_live_config, calc_spans, \\\n",
    "    analyze_fills, create_xk, round_dynamic, determine_config_type, round_values\n",
    "from njit_funcs import *\n",
    "from procedures import dump_live_config, load_live_config, add_argparse_args, prepare_backtest_config, make_get_filepath\n",
    "from time import time\n",
    "import sys\n",
    "import argparse\n",
    "import pprint\n",
    "import matplotlib.pyplot as plt\n",
    "import json\n",
    "import pandas as pd\n",
    "import numpy as np"
   ]
  },
  {
   "cell_type": "code",
   "execution_count": null,
   "id": "c81212aa-6395-46b5-9b57-f6a8d7faa245",
   "metadata": {},
   "outputs": [],
   "source": [
    "plt.rcParams['figure.figsize'] = [29, 18]\n",
    "pd.set_option('precision', 10)"
   ]
  },
  {
   "cell_type": "code",
   "execution_count": null,
   "id": "457aed4f-fa83-4cd9-bd74-d6c89b4e269d",
   "metadata": {
    "tags": []
   },
   "outputs": [],
   "source": [
    "class Args:\n",
    "    def __init__(self):\n",
    "        self.backtest_config_path = 'configs/backtest/default.hjson'\n",
    "        self.exchange = 'binance'\n",
    "        self.symbol = 'XMRUSDT'\n",
    "        self.market_type = 'futures'\n",
    "        self.user = 'user_name'\n",
    "        self.start_date = '2021-04-01'\n",
    "        self.end_date = '2021-08-23'\n",
    "        self.starting_balance = 1000.0\n",
    "        self.starting_configs = ''\n",
    "        self.base_dir = 'backtests'\n",
    "config = await prepare_backtest_config(Args())\n",
    "dl = Downloader(config)\n",
    "sts = time()\n",
    "data = await dl.get_sampled_ticks()\n",
    "timestamps = data[:, 0]\n",
    "qtys = data[:, 1]\n",
    "prices = data[:, 2]\n",
    "config['n_days'] = (timestamps[-1] - timestamps[0]) / (1000 * 60 * 60 * 24)\n",
    "\n",
    "print(f'millis to load {len(prices)} ticks {(time() - sts) * 1000:.0f}ms')"
   ]
  },
  {
   "cell_type": "code",
   "execution_count": null,
   "id": "f38d8fd3-ccf4-4465-837b-24abaa121cee",
   "metadata": {},
   "outputs": [],
   "source": [
    "df = pd.DataFrame({'timestamp': timestamps, 'qty': qtys, 'price': prices}).set_index('timestamp')\n",
    "df.price.iloc[::100].plot()"
   ]
  },
  {
   "cell_type": "code",
   "execution_count": null,
   "id": "7239f8ed-1096-41ba-809b-00bb188ceb97",
   "metadata": {},
   "outputs": [],
   "source": [
    "# choose a slice on which to test\n",
    "wsize_days = 240\n",
    "ts = int(data[-1][0] - 60 * 60 * 24 * 1000 * wsize_days)\n",
    "idx = np.argmax(data[:, 0] >= ts)\n",
    "dataslice = data[idx:]"
   ]
  },
  {
   "cell_type": "code",
   "execution_count": null,
   "id": "93168599-63a4-40d0-b9df-bd15a62657ac",
   "metadata": {},
   "outputs": [],
   "source": [
    "hand_tuned = {\n",
    "    \"config_name\": \"hand_tuned\",\n",
    "    \"logging_level\": 0,\n",
    "    \"long\": {\"enabled\": True,\n",
    "             \"grid_span\": 0.16,\n",
    "             \"pbr_limit\": 1.6,\n",
    "             \"max_n_entry_orders\":  10,\n",
    "             \"initial_qty_pct\":  0.01,\n",
    "             \"eprice_pprice_diff\": 0.0025,\n",
    "             \"secondary_pbr_allocation\": 0.5,\n",
    "             \"secondary_grid_spacing\": 0.35,\n",
    "             \"eprice_exp_base\": 1.618034,\n",
    "             \"min_markup\": 0.0045,\n",
    "             \"markup_range\":  0.0075,\n",
    "             \"n_close_orders\": 7},\n",
    "    \"shrt\": {\"enabled\": False,\n",
    "             \"grid_span\": 0.1,\n",
    "             \"pbr_limit\": 1.0,\n",
    "             \"max_n_entry_orders\":  10,\n",
    "             \"initial_qty_pct\":  0.01,\n",
    "             \"eprice_pprice_diff\": 0.0025,\n",
    "             \"secondary_pbr_allocation\": 0.5,\n",
    "             \"secondary_grid_spacing\": 0.35,\n",
    "             \"eprice_exp_base\": 1.618034,\n",
    "             \"min_markup\": 0.0025,\n",
    "             \"markup_range\":  0.0075,\n",
    "             \"n_close_orders\": 7},\n",
    "}\n",
    "# round for better human readability\n",
    "hand_tuned = round_values(hand_tuned, 4)\n",
    "config['starting_balance'] = 1000.0\n",
    "config_to_test = {**config, **numpyize(hand_tuned)}\n",
    "dump_live_config(config_to_test, make_get_filepath(f'tmp/hand_tuned.json'))\n",
    "hand_tuned"
   ]
  },
  {
   "cell_type": "code",
   "execution_count": null,
   "id": "ae548255-251f-42cc-a7d9-e7d7b8460a16",
   "metadata": {
    "tags": []
   },
   "outputs": [],
   "source": [
    "sts = time()\n",
    "fills, info, stats = backtest(config_to_test, dataslice)\n",
    "elapsed = time() - sts\n",
    "print(f'seconds elapsed {elapsed:.4f}')\n",
    "print(f'did finish {info[0]}, lowest eqbal ratio {info[1]:.4f}, closest bkr {info[2]:.4f}')\n",
    "result = {**config_to_test, **{'lowest_eqbal_ratio': info[1], 'closest_bkr': info[2]}}\n",
    "sample_size_ms = dataslice[1][0] - dataslice[0][0]\n",
    "fdf, analysis = analyze_fills(fills, result, dataslice[0][0], dataslice[-1][0])\n",
    "pprint.pprint(analysis)\n",
    "fdf"
   ]
  },
  {
   "cell_type": "code",
   "execution_count": null,
   "id": "c9d89e7e-8d14-4722-b5ad-4346dc120b6a",
   "metadata": {},
   "outputs": [],
   "source": [
    "sdf = pd.DataFrame(stats, columns=['timestamp', 'balance', 'equity', 'bkr_price', 'long_psize',\n",
    "                                   'long_pprice', 'shrt_psize', 'shrt_pprice', 'price'])\n",
    "print('closest bkr', ((sdf.bkr_price - sdf.price).abs() / sdf.price).min())\n",
    "sdf.loc[:, 'long_pbr'] = sdf.long_psize * sdf.long_pprice / sdf.balance\n",
    "sdf"
   ]
  },
  {
   "cell_type": "code",
   "execution_count": null,
   "id": "5c9bfdcd-4bf2-4b23-a741-a64a361a4b9a",
   "metadata": {},
   "outputs": [],
   "source": [
    "sdf.balance.plot()\n",
    "sdf.equity.plot()"
   ]
  },
  {
   "cell_type": "code",
   "execution_count": null,
   "id": "32b2dc74-24e4-487b-bdcb-d30281e3cf12",
   "metadata": {},
   "outputs": [],
   "source": [
    "plot_fills(df, fdf, plot_whole_df=True)"
   ]
  },
  {
   "cell_type": "code",
   "execution_count": null,
   "id": "a89d5923-d2fd-4383-b3bc-d06293c253a8",
   "metadata": {},
   "outputs": [],
   "source": [
    "fdf.pbr.max()"
   ]
  },
  {
   "cell_type": "code",
   "execution_count": null,
   "id": "4aa9d609-ccd2-4ae5-862e-0d8758ee4953",
   "metadata": {},
   "outputs": [],
   "source": [
    "fdf.psize.plot()"
   ]
  },
  {
   "cell_type": "code",
   "execution_count": null,
   "id": "141dce52-5abb-44c8-91e8-18565d13c89d",
   "metadata": {},
   "outputs": [],
   "source": [
    "periodic_gain_n_days = 5\n",
    "groups = fdf.groupby(fdf.timestamp // (1000 * 60 * 60 * 24 * periodic_gain_n_days))\n",
    "pgs = groups.pnl.sum() / groups.balance.first()\n",
    "pgs = pgs.reindex(np.arange(pgs.index[0], pgs.index[-1])).fillna(0.0)\n",
    "pg_mean = pgs.mean()\n",
    "pg_std = pgs.std()\n",
    "sharpe_ratio = pg_mean / pg_std if pg_std != 0.0 else -20.0\n",
    "pgs.plot()\n",
    "plt.plot([pgs.index[0], pgs.index[-1]], [pg_mean, pg_mean])\n",
    "print(f'mean {pg_mean:.4f} std {pg_std:.4} sharpe ratio {sharpe_ratio:.4f}')\n",
    "pgs"
   ]
  },
  {
   "cell_type": "code",
   "execution_count": null,
   "id": "f6c375c9-cccf-4bb7-95e4-f7e4bba5de5f",
   "metadata": {},
   "outputs": [],
   "source": [
    "# view grid\n",
    "# long only"
   ]
  },
  {
   "cell_type": "code",
   "execution_count": null,
   "id": "83b0671a-54b7-4e4f-80c4-d9acb45e8322",
   "metadata": {},
   "outputs": [],
   "source": []
  },
  {
   "cell_type": "code",
   "execution_count": null,
   "id": "faaa432c-2e14-4839-a048-3ab22192b3a9",
   "metadata": {},
   "outputs": [],
   "source": []
  },
  {
   "cell_type": "code",
   "execution_count": null,
   "id": "d650aa24-d160-4508-9810-0743bd9254f1",
   "metadata": {},
   "outputs": [],
   "source": []
  },
  {
   "cell_type": "code",
   "execution_count": null,
   "id": "c8de1324-f9da-490f-8093-7f8237e40b19",
   "metadata": {},
   "outputs": [],
   "source": []
  }
 ],
 "metadata": {
  "kernelspec": {
   "display_name": "Python 3 (ipykernel)",
   "language": "python",
   "name": "python3"
  },
  "language_info": {
   "codemirror_mode": {
    "name": "ipython",
    "version": 3
   },
   "file_extension": ".py",
   "mimetype": "text/x-python",
   "name": "python",
   "nbconvert_exporter": "python",
   "pygments_lexer": "ipython3",
   "version": "3.9.7"
  }
 },
 "nbformat": 4,
 "nbformat_minor": 5
}
