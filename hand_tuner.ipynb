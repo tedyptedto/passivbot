{
 "cells": [
  {
   "cell_type": "code",
   "execution_count": null,
   "id": "5d04cc5b-ff14-4d8a-8b01-36d4935897ca",
   "metadata": {},
   "outputs": [],
   "source": [
    "%load_ext autoreload\n",
    "%autoreload 2"
   ]
  },
  {
   "cell_type": "code",
   "execution_count": null,
   "id": "38c240d7-c65b-457b-a10f-7a8f24dccf96",
   "metadata": {
    "tags": []
   },
   "outputs": [],
   "source": [
    "from backtest import backtest\n",
    "from plotting import plot_fills\n",
    "from downloader import Downloader\n",
    "from pure_funcs import denumpyize, numpyize, candidate_to_live_config, calc_spans, \\\n",
    "    analyze_fills, create_xk, round_dynamic, round_values\n",
    "from njit_funcs import *\n",
    "from procedures import dump_live_config, load_live_config, add_argparse_args, prepare_backtest_config, make_get_filepath\n",
    "from time import time\n",
    "import sys\n",
    "import argparse\n",
    "import pprint\n",
    "import matplotlib.pyplot as plt\n",
    "import json\n",
    "import pandas as pd\n",
    "import numpy as np"
   ]
  },
  {
   "cell_type": "code",
   "execution_count": null,
   "id": "c81212aa-6395-46b5-9b57-f6a8d7faa245",
   "metadata": {},
   "outputs": [],
   "source": [
    "plt.rcParams['figure.figsize'] = [29, 18]\n",
    "pd.set_option('precision', 10)"
   ]
  },
  {
   "cell_type": "code",
   "execution_count": null,
   "id": "457aed4f-fa83-4cd9-bd74-d6c89b4e269d",
   "metadata": {
    "tags": []
   },
   "outputs": [],
   "source": [
    "class Args:\n",
    "    def __init__(self):\n",
    "        self.backtest_config_path = 'configs/backtest/default.hjson'\n",
    "        self.exchange = 'binance'\n",
    "        self.symbol = 'XMRUSDT'\n",
    "        self.market_type = 'futures'\n",
    "        self.user = 'user_name'\n",
    "        self.start_date = '2021-04-01'\n",
    "        self.end_date = '2021-08-23'\n",
    "        self.starting_balance = 1000.0\n",
    "        self.starting_configs = ''\n",
    "        self.base_dir = 'backtests'\n",
    "config = await prepare_backtest_config(Args())\n",
    "dl = Downloader(config)\n",
    "sts = time()\n",
    "data = await dl.get_sampled_ticks()\n",
    "timestamps = data[:, 0]\n",
    "qtys = data[:, 1]\n",
    "prices = data[:, 2]\n",
    "config['n_days'] = (timestamps[-1] - timestamps[0]) / (1000 * 60 * 60 * 24)\n",
    "\n",
    "print(f'millis to load {len(prices)} ticks {(time() - sts) * 1000:.0f}ms')"
   ]
  },
  {
   "cell_type": "code",
   "execution_count": null,
   "id": "f38d8fd3-ccf4-4465-837b-24abaa121cee",
   "metadata": {},
   "outputs": [],
   "source": [
    "df = pd.DataFrame({'timestamp': timestamps, 'qty': qtys, 'price': prices}).set_index('timestamp')\n",
    "df.price.iloc[::100].plot()"
   ]
  },
  {
   "cell_type": "code",
   "execution_count": null,
   "id": "7239f8ed-1096-41ba-809b-00bb188ceb97",
   "metadata": {},
   "outputs": [],
   "source": [
    "# choose a slice on which to test\n",
    "wsize_days = 240\n",
    "ts = int(data[-1][0] - 60 * 60 * 24 * 1000 * wsize_days)\n",
    "idx = np.argmax(data[:, 0] >= ts)\n",
    "dataslice = data[idx:]"
   ]
  },
  {
   "cell_type": "code",
   "execution_count": null,
   "id": "93168599-63a4-40d0-b9df-bd15a62657ac",
   "metadata": {},
   "outputs": [],
   "source": [
    "hand_tuned = {\n",
    "    \"config_name\": \"hand_tuned\",\n",
    "    \"logging_level\": 0,\n",
    "    \"long\": {\"enabled\": True,\n",
    "             \"grid_span\": 0.17,\n",
    "             \"pbr_limit\": 1.7,\n",
    "             \"max_n_entry_orders\":  10,\n",
    "             \"initial_qty_pct\":  0.01,\n",
    "             \"eprice_pprice_diff\": 0.0025,\n",
    "             \"secondary_pbr_allocation\": 0.5,\n",
    "             \"secondary_pprice_diff\": 0.35,\n",
    "             \"eprice_exp_base\": 1.618034,\n",
    "             \"min_markup\": 0.0045,\n",
    "             \"markup_range\":  0.0075,\n",
    "             \"n_close_orders\": 7},\n",
    "    \"shrt\": {\"enabled\": False,\n",
    "             \"grid_span\": 0.1,\n",
    "             \"pbr_limit\": 1.0,\n",
    "             \"max_n_entry_orders\":  10,\n",
    "             \"initial_qty_pct\":  0.01,\n",
    "             \"eprice_pprice_diff\": 0.0025,\n",
    "             \"secondary_pbr_allocation\": 0.5,\n",
    "             \"secondary_pprice_diff\": 0.35,\n",
    "             \"eprice_exp_base\": 1.618034,\n",
    "             \"min_markup\": 0.0025,\n",
    "             \"markup_range\":  0.0075,\n",
    "             \"n_close_orders\": 7},\n",
    "}\n",
    "\n",
    "# round for better human readability\n",
    "hand_tuned = round_values(hand_tuned, 4)\n",
    "config['starting_balance'] = 1000.0\n",
    "config_to_test = {**config, **numpyize(hand_tuned)}\n",
    "dump_live_config(config_to_test, make_get_filepath(f'tmp/hand_tuned.json'))\n",
    "hand_tuned"
   ]
  },
  {
   "cell_type": "code",
   "execution_count": null,
   "id": "ae548255-251f-42cc-a7d9-e7d7b8460a16",
   "metadata": {
    "tags": []
   },
   "outputs": [],
   "source": [
    "sts = time()\n",
    "fills, stats = backtest(config_to_test, dataslice)\n",
    "elapsed = time() - sts\n",
    "print(f'seconds elapsed {elapsed:.4f}')\n",
    "fdf, sdf, analysis = analyze_fills(fills, stats, config_to_test)\n",
    "pprint.pprint(analysis)\n",
    "fdf"
   ]
  },
  {
   "cell_type": "code",
   "execution_count": null,
   "id": "1c2d6679-1ee7-4016-8c25-9c1163870bf7",
   "metadata": {},
   "outputs": [],
   "source": [
    "sdf"
   ]
  },
  {
   "cell_type": "code",
   "execution_count": null,
   "id": "c9d89e7e-8d14-4722-b5ad-4346dc120b6a",
   "metadata": {},
   "outputs": [],
   "source": [
    "sdf.balance.plot()\n",
    "sdf.equity.plot()"
   ]
  },
  {
   "cell_type": "code",
   "execution_count": null,
   "id": "32b2dc74-24e4-487b-bdcb-d30281e3cf12",
   "metadata": {},
   "outputs": [],
   "source": [
    "plot_fills(df, fdf, plot_whole_df=True)"
   ]
  },
  {
   "cell_type": "code",
   "execution_count": null,
   "id": "4aa9d609-ccd2-4ae5-862e-0d8758ee4953",
   "metadata": {},
   "outputs": [],
   "source": [
    "fdf.psize.plot()"
   ]
  },
  {
   "cell_type": "code",
   "execution_count": null,
   "id": "04320486-efc6-4579-81e9-989d2b6d038a",
   "metadata": {},
   "outputs": [],
   "source": [
    "period = 60 * 24 * 1 # daily\n",
    "periodics = [sdf.balance.iloc[i + period] / sdf.balance.iloc[i] - 1 for i in range(0, len(sdf) - period, period)]\n",
    "periodics = pd.Series(periodics)\n",
    "periodics.plot()"
   ]
  },
  {
   "cell_type": "code",
   "execution_count": null,
   "id": "1cf4b91e-53e0-4b31-b52c-d581706b1e5a",
   "metadata": {},
   "outputs": [],
   "source": [
    "adgs = (sdf.balance / sdf.balance.iloc[0]) ** (1 / ((sdf.timestamp - sdf.timestamp.iloc[0]) / (1000 * 60 * 60 * 24)))\n",
    "adgs.plot()"
   ]
  },
  {
   "cell_type": "code",
   "execution_count": null,
   "id": "9cad96ab-9268-4b08-9d08-e77d8b46e140",
   "metadata": {},
   "outputs": [],
   "source": [
    "sdf.price.plot()\n",
    "sdf.long_pprice.replace(0.0, np.nan).plot()"
   ]
  },
  {
   "cell_type": "code",
   "execution_count": null,
   "id": "3ff902c7-a17a-4a48-8069-55f9c1c6e05d",
   "metadata": {},
   "outputs": [],
   "source": [
    "lpprices = sdf[sdf.long_pprice != 0.0]\n",
    "pa_closeness_long = (lpprices.long_pprice - lpprices.price).abs() / lpprices.price\n",
    "pa_closeness_long.plot()"
   ]
  },
  {
   "cell_type": "code",
   "execution_count": null,
   "id": "83b0671a-54b7-4e4f-80c4-d9acb45e8322",
   "metadata": {},
   "outputs": [],
   "source": [
    "balance = config_to_test['starting_balance']\n",
    "highest_bid = df.price.iloc[-1]\n",
    "\n",
    "inverse = config_to_test['inverse']\n",
    "do_long = True\n",
    "qty_step = config_to_test['qty_step']\n",
    "price_step = config_to_test['price_step']\n",
    "min_qty = config_to_test['min_qty']\n",
    "min_cost = config_to_test['min_cost']\n",
    "c_mult = config_to_test['c_mult']\n",
    "\n",
    "grid_span = config_to_test['long']['grid_span']\n",
    "pbr_limit = config_to_test['long']['pbr_limit']\n",
    "max_n_entry_orders = config_to_test['long']['max_n_entry_orders']\n",
    "initial_qty_pct = config_to_test['long']['initial_qty_pct']\n",
    "eprice_pprice_diff = config_to_test['long']['eprice_pprice_diff']\n",
    "eprice_exp_base = config_to_test['long']['eprice_exp_base']\n",
    "secondary_pbr_allocation = config_to_test['long']['secondary_pbr_allocation']\n",
    "secondary_pprice_diff = config_to_test['long']['secondary_pprice_diff']\n",
    "\n",
    "grid = calc_whole_long_entry_grid(\n",
    "    balance, highest_bid, inverse, qty_step, price_step, min_qty, min_cost,\n",
    "    c_mult, grid_span, pbr_limit, max_n_entry_orders, initial_qty_pct,\n",
    "    eprice_pprice_diff, secondary_pbr_allocation, secondary_pprice_diff,\n",
    "    eprice_exp_base=eprice_exp_base)\n",
    "gdf = pd.DataFrame(grid, columns=['qty', 'price', 'psize', 'pprice', 'pbr'])\n",
    "    \n",
    "gdf.loc[:, 'eprice_pprice_diff'] = abs(gdf.price - gdf.pprice) / gdf.price\n",
    "gdf.loc[:,'ddown_factor'] = gdf.qty / gdf.psize.shift()\n",
    "gdf.loc[:,'bkr_price'] = gdf.apply(\n",
    "    lambda x: calc_bankruptcy_price(balance, x.psize, x.pprice, 0.0, 0.0, inverse, c_mult), axis=1)\n",
    "colors = 'rbygcmk'\n",
    "for i, e in enumerate(gdf.itertuples()):\n",
    "    plt.plot([0, 2], [e.price, e.price], f'{colors[i%len(colors)]}-')\n",
    "    plt.plot([1, 2], [e.pprice, e.pprice], f'{colors[i%len(colors)]}--')\n",
    "gdf"
   ]
  },
  {
   "cell_type": "code",
   "execution_count": null,
   "id": "d03397cb-a36d-4b93-b16e-c89e0704a898",
   "metadata": {},
   "outputs": [],
   "source": []
  },
  {
   "cell_type": "code",
   "execution_count": null,
   "id": "59ab95c9-de49-416a-b6a5-e633e2faf2c0",
   "metadata": {},
   "outputs": [],
   "source": []
  },
  {
   "cell_type": "code",
   "execution_count": null,
   "id": "25a76968-1de8-44cf-b50b-8124c2b3917c",
   "metadata": {},
   "outputs": [],
   "source": []
  }
 ],
 "metadata": {
  "kernelspec": {
   "display_name": "Python 3",
   "language": "python",
   "name": "python3"
  },
  "language_info": {
   "codemirror_mode": {
    "name": "ipython",
    "version": 3
   },
   "file_extension": ".py",
   "mimetype": "text/x-python",
   "name": "python",
   "nbconvert_exporter": "python",
   "pygments_lexer": "ipython3",
   "version": "3.8.3"
  }
 },
 "nbformat": 4,
 "nbformat_minor": 5
}
