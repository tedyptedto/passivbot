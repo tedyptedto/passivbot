{
 "cells": [
  {
   "cell_type": "code",
   "execution_count": null,
   "id": "5d04cc5b-ff14-4d8a-8b01-36d4935897ca",
   "metadata": {},
   "outputs": [],
   "source": [
    "%load_ext autoreload\n",
    "%autoreload 2"
   ]
  },
  {
   "cell_type": "code",
   "execution_count": null,
   "id": "38c240d7-c65b-457b-a10f-7a8f24dccf96",
   "metadata": {
    "tags": []
   },
   "outputs": [],
   "source": [
    "from backtest import backtest\n",
    "from plotting import plot_fills\n",
    "from downloader import Downloader\n",
    "from pure_funcs import (\n",
    "    denumpyize,\n",
    "    numpyize,\n",
    "    candidate_to_live_config,\n",
    "    calc_spans,\n",
    "    analyze_fills,\n",
    "    create_xk,\n",
    "    round_dynamic,\n",
    "    round_values,\n",
    "    sort_dict_keys,\n",
    ")\n",
    "from procedures import (\n",
    "    dump_live_config,\n",
    "    load_live_config,\n",
    "    add_argparse_args,\n",
    "    prepare_backtest_config,\n",
    "    make_get_filepath,\n",
    ")\n",
    "from njit_funcs_recursive_grid import *\n",
    "from time import time\n",
    "import sys\n",
    "import argparse\n",
    "import pprint\n",
    "import matplotlib.pyplot as plt\n",
    "import json\n",
    "import pandas as pd\n",
    "import numpy as np"
   ]
  },
  {
   "cell_type": "code",
   "execution_count": null,
   "id": "c81212aa-6395-46b5-9b57-f6a8d7faa245",
   "metadata": {},
   "outputs": [],
   "source": [
    "plt.rcParams[\"figure.figsize\"] = [16, 9]\n",
    "plt.rcParams[\"figure.facecolor\"] = \"w\"\n",
    "pd.set_option(\"precision\", 10)"
   ]
  },
  {
   "cell_type": "code",
   "execution_count": null,
   "id": "457aed4f-fa83-4cd9-bd74-d6c89b4e269d",
   "metadata": {
    "tags": []
   },
   "outputs": [],
   "source": [
    "class Args:\n",
    "    def __init__(self):\n",
    "        self.backtest_config_path = \"configs/backtest/default.hjson\"\n",
    "        self.exchange = \"binance\"\n",
    "        self.symbol = \"XMRUSDT\"\n",
    "        self.market_type = \"futures\"\n",
    "        self.user = \"binance_01\"\n",
    "        self.start_date = \"2021-05-01\"\n",
    "        self.end_date = \"2022-01-21\"\n",
    "        self.starting_balance = 10000.0\n",
    "        self.starting_configs = \"\"\n",
    "        self.base_dir = \"backtests\"\n",
    "\n",
    "\n",
    "config = await prepare_backtest_config(Args())\n",
    "dl = Downloader(config)\n",
    "sts = time()\n",
    "data = await dl.get_sampled_ticks()\n",
    "timestamps = data[:, 0]\n",
    "qtys = data[:, 1]\n",
    "prices = data[:, 2]\n",
    "config[\"n_days\"] = (timestamps[-1] - timestamps[0]) / (1000 * 60 * 60 * 24)\n",
    "\n",
    "print(f\"millis to load {len(prices)} ticks {(time() - sts) * 1000:.0f}ms\")"
   ]
  },
  {
   "cell_type": "code",
   "execution_count": null,
   "id": "f38d8fd3-ccf4-4465-837b-24abaa121cee",
   "metadata": {},
   "outputs": [],
   "source": [
    "df = pd.DataFrame({\"timestamp\": timestamps, \"qty\": qtys, \"price\": prices}).set_index(\"timestamp\")\n",
    "df.price.iloc[::100].plot(title=\"Coin Price\", xlabel=\"Time\", ylabel=\"Price\")"
   ]
  },
  {
   "cell_type": "code",
   "execution_count": null,
   "id": "7239f8ed-1096-41ba-809b-00bb188ceb97",
   "metadata": {},
   "outputs": [],
   "source": [
    "# choose a slice on which to test\n",
    "wsize_days = 365\n",
    "ts = int(data[-1][0] - 60 * 60 * 24 * 1000 * wsize_days)\n",
    "idx = np.argmax(data[:, 0] >= ts)\n",
    "dataslice = data[idx:]"
   ]
  },
  {
   "cell_type": "code",
   "execution_count": null,
   "id": "a44cb695-002e-4cd4-b652-36d40f8008c5",
   "metadata": {},
   "outputs": [],
   "source": [
    "hand_tuned = {\n",
    "    \"long\": {\n",
    "        \"enabled\": True,\n",
    "        \"ema_span_0\": 1036.4758617491368,\n",
    "        \"ema_span_1\": 1125.5167077975314,\n",
    "        \"iqty_pct\": 0.01,\n",
    "        \"iprice_ema_dist\": -0.02,\n",
    "        \"wallet_exposure_limit\": 1.0,\n",
    "        \"ddown_factor\": 0.6,\n",
    "        \"rentry_pprice_dist\": 0.015,\n",
    "        \"rentry_pprice_dist_wallet_exposure_weighting\": 15,\n",
    "        \"min_markup\": 0.02,\n",
    "        \"markup_range\": 0.02,\n",
    "        \"n_close_orders\": 7,\n",
    "        \"auto_unstuck_wallet_exposure_threshold\": 0.15,\n",
    "        \"auto_unstuck_ema_dist\": 0.02,\n",
    "    }\n",
    "}\n",
    "hand_tuned[\"short\"] = hand_tuned[\"long\"].copy()\n",
    "hand_tuned[\"short\"][\"enabled\"] = False\n",
    "config_to_test = {**config, **hand_tuned}"
   ]
  },
  {
   "cell_type": "code",
   "execution_count": null,
   "id": "74c7f771-3b72-49b2-8210-8e92ca667fd9",
   "metadata": {},
   "outputs": [],
   "source": [
    "balance = config_to_test[\"starting_balance\"]\n",
    "highest_bid = df.price.iloc[-1]\n",
    "\n",
    "inverse = config_to_test[\"inverse\"]\n",
    "do_long = True\n",
    "qty_step = config_to_test[\"qty_step\"]\n",
    "price_step = config_to_test[\"price_step\"]\n",
    "min_qty = config_to_test[\"min_qty\"]\n",
    "min_cost = config_to_test[\"min_cost\"]\n",
    "c_mult = config_to_test[\"c_mult\"]\n",
    "\n",
    "iqty_pct = config_to_test[\"long\"][\"iqty_pct\"]\n",
    "iprice_ema_dist = config_to_test[\"long\"][\"iprice_ema_dist\"]\n",
    "ddown_factor = config_to_test[\"long\"][\"ddown_factor\"]\n",
    "rentry_pprice_dist = config_to_test[\"long\"][\"rentry_pprice_dist\"]\n",
    "rentry_pprice_dist_wallet_exposure_weighting = config_to_test[\"long\"][\n",
    "    \"rentry_pprice_dist_wallet_exposure_weighting\"\n",
    "]\n",
    "wallet_exposure_limit = config_to_test[\"long\"][\"wallet_exposure_limit\"]\n",
    "auto_unstuck_ema_dist = config_to_test[\"long\"][\"auto_unstuck_ema_dist\"]\n",
    "auto_unstuck_wallet_exposure_threshold = config_to_test[\"long\"][\"auto_unstuck_wallet_exposure_threshold\"]\n",
    "\n",
    "psize = 0.0\n",
    "pprice = 0.0\n",
    "ema_band_lower = highest_bid\n",
    "\n",
    "grid = calc_long_entries(\n",
    "    balance,\n",
    "    psize,\n",
    "    pprice,\n",
    "    highest_bid,\n",
    "    ema_band_lower,\n",
    "    inverse,\n",
    "    qty_step,\n",
    "    price_step,\n",
    "    min_qty,\n",
    "    min_cost,\n",
    "    c_mult,\n",
    "    iqty_pct,\n",
    "    iprice_ema_dist,\n",
    "    ddown_factor,\n",
    "    rentry_pprice_dist,\n",
    "    rentry_pprice_dist_wallet_exposure_weighting,\n",
    "    wallet_exposure_limit,\n",
    "    auto_unstuck_ema_dist,\n",
    "    auto_unstuck_wallet_exposure_threshold,\n",
    ")\n",
    "\n",
    "gdf = pd.DataFrame(grid, columns=[\"qty\", \"price\", \"type\", \"psize\", \"pprice\", \"wallet_exposure\"])\n",
    "gdf.loc[:, \"eprice_pprice_diff\"] = abs(gdf.price - gdf.pprice) / gdf.price\n",
    "gdf.loc[:, \"ddown_factor\"] = gdf.qty / gdf.psize.shift()\n",
    "gdf.loc[:, \"bkr_price\"] = gdf.apply(\n",
    "    lambda x: calc_bankruptcy_price(balance, x.psize, x.pprice, 0.0, 0.0, inverse, c_mult),\n",
    "    axis=1,\n",
    ")\n",
    "colors = \"rbygcmk\"\n",
    "\n",
    "# Display grid on graph\n",
    "# -- = pprice = new position price\n",
    "# - = price = DCA entry\n",
    "n_ticks = 60 * 60 * 24 * 14\n",
    "timedt = pd.to_datetime(timestamps[-n_ticks:], unit=\"ms\")\n",
    "dfx = pd.DataFrame(\n",
    "    {\"timestamp\": timedt, \"qty\": qtys[-n_ticks:], \"price\": prices[-n_ticks:]}\n",
    ").set_index(\"timestamp\")\n",
    "lastdayfrom = pd.to_datetime(Args().end_date)\n",
    "# lastdayfrom = pd.Timestamp('2021-05-21')\n",
    "fig = (\n",
    "    dfx.price.loc[lastdayfrom - pd.Timedelta(days=280) : lastdayfrom]\n",
    "    .iloc[::100]\n",
    "    .plot(title=\"Grid position\", xlabel=\"Time\", ylabel=\"Price\")\n",
    ")\n",
    "for i, e in enumerate(gdf.itertuples()):\n",
    "    fig.axhline(y=e.price, color=f\"{colors[i%len(colors)]}\", linestyle=\"-\")\n",
    "    # plt.axhline(y=e.pprice, color=f\"{colors[i%len(colors)]}\", linestyle=\"--\")\n",
    "a = (1 - gdf.iloc[[0, -1]][\"price\"].iat[-1] / gdf.iloc[[0, -1]][\"price\"].iat[0]) * 100\n",
    "print(\"\\nLong Grid Span = {:.2f} %\\n\".format(round(a, 2)))\n",
    "gdf"
   ]
  },
  {
   "cell_type": "code",
   "execution_count": null,
   "id": "063edb35-27ff-4dd0-a03e-7996f2bfa9e1",
   "metadata": {},
   "outputs": [],
   "source": [
    "sts = time()\n",
    "fills, stats = backtest(config_to_test, dataslice, recursive_grid=True)\n",
    "elapsed = time() - sts\n",
    "print(f\"seconds elapsed {elapsed:.4f}\")\n",
    "fdf, sdf, analysis = analyze_fills(fills, stats, config_to_test)\n",
    "pprint.pprint(analysis)\n",
    "fdf"
   ]
  },
  {
   "cell_type": "code",
   "execution_count": null,
   "id": "1c2d6679-1ee7-4016-8c25-9c1163870bf7",
   "metadata": {},
   "outputs": [],
   "source": [
    "sdf"
   ]
  },
  {
   "cell_type": "code",
   "execution_count": null,
   "id": "c9d89e7e-8d14-4722-b5ad-4346dc120b6a",
   "metadata": {},
   "outputs": [],
   "source": [
    "sdf.balance.plot()\n",
    "sdf.equity.plot(title=\"Balance and equity\", xlabel=\"Time\", ylabel=\"Balance\")"
   ]
  },
  {
   "cell_type": "code",
   "execution_count": null,
   "id": "32b2dc74-24e4-487b-bdcb-d30281e3cf12",
   "metadata": {},
   "outputs": [],
   "source": [
    "plot_fills(df, fdf, plot_whole_df=True, title=\"Overview Fills\")"
   ]
  },
  {
   "cell_type": "code",
   "execution_count": null,
   "id": "4aa9d609-ccd2-4ae5-862e-0d8758ee4953",
   "metadata": {},
   "outputs": [],
   "source": [
    "fdf[fdf.psize > 0.0].psize.plot(\n",
    "    title=\"Position size in terms of contracts\",\n",
    "    xlabel=\"Time\",\n",
    "    ylabel=\"Long Position size\",\n",
    ")\n",
    "fdf[fdf.psize < 0.0].psize.plot(\n",
    "    title=\"Position size in terms of contracts\",\n",
    "    xlabel=\"Time\",\n",
    "    ylabel=\"Short Position size\",\n",
    ")"
   ]
  },
  {
   "cell_type": "code",
   "execution_count": null,
   "id": "9cad96ab-9268-4b08-9d08-e77d8b46e140",
   "metadata": {},
   "outputs": [],
   "source": [
    "sdf.price.plot(title=\"Average entry price\", xlabel=\"Time\", ylabel=\"Price\")\n",
    "sdf.long_pprice.replace(0.0, np.nan).plot()\n",
    "sdf.short_pprice.replace(0.0, np.nan).plot()"
   ]
  },
  {
   "cell_type": "code",
   "execution_count": null,
   "id": "3ff902c7-a17a-4a48-8069-55f9c1c6e05d",
   "metadata": {},
   "outputs": [],
   "source": [
    "lpprices = sdf[sdf.long_pprice != 0.0]\n",
    "padistance_long = (lpprices.long_pprice - lpprices.price).abs() / lpprices.price\n",
    "print(f\"Mean price action distance long {padistance_long.mean():.6f}\")\n",
    "padistance_long.plot(title=\"Price action distance\", xlabel=\"Time\", ylabel=\"Price action distance\")"
   ]
  },
  {
   "cell_type": "code",
   "execution_count": null,
   "id": "020a2772-ecf9-4885-91e1-87f859bd2440",
   "metadata": {},
   "outputs": [],
   "source": [
    "spprices = sdf[sdf.short_pprice != 0.0]\n",
    "padistance_short = (spprices.short_pprice - spprices.price).abs() / spprices.price\n",
    "print(f\"Mean price action distance short {padistance_short.mean():.6f}\")\n",
    "padistance_short.plot(title=\"Price action distance\", xlabel=\"Time\", ylabel=\"Price action distance\")"
   ]
  },
  {
   "cell_type": "code",
   "execution_count": null,
   "id": "bc9a54ff-d102-4765-9f95-1bb0c399ed72",
   "metadata": {},
   "outputs": [],
   "source": [
    "# Inspect long EMAs\n",
    "# blue: lower unstucking; red: upper unstucking; green: initial entry\n",
    "spans = [\n",
    "    config_to_test[\"long\"][\"ema_span_0\"],\n",
    "    (config_to_test[\"long\"][\"ema_span_0\"] * config_to_test[\"long\"][\"ema_span_1\"]) ** 0.5,\n",
    "    config_to_test[\"long\"][\"ema_span_1\"],\n",
    "]\n",
    "print(\n",
    "    f\"spans in minutes {spans}\",\n",
    "    f\"n_days {(df.index[-1] - df.index[0]) / 1000 / 60 / 60 / 24:.1f}\",\n",
    ")\n",
    "for i in range(3):\n",
    "    # change to seconds\n",
    "    spans[i] *= 60\n",
    "emas = pd.DataFrame({str(span): df.price.ewm(span=span, adjust=False).mean() for span in spans})\n",
    "ema_band_lower = emas.min(axis=1)\n",
    "unstucking_band_lower = ema_band_lower * (1 - config_to_test[\"long\"][\"auto_unstuck_ema_dist\"])\n",
    "ema_band_upper = emas.max(axis=1)\n",
    "unstucking_band_upper = ema_band_upper * (1 + config_to_test[\"long\"][\"auto_unstuck_ema_dist\"])\n",
    "long_ientry_band = ema_band_lower * (1 - config_to_test[\"long\"][\"iprice_ema_dist\"])\n",
    "df.iloc[::100].price.plot(style=\"y-\", title=\"Unstucking Bands and Initial Entry Band\")\n",
    "unstucking_band_lower.iloc[::100].plot(\n",
    "    style=\"b--\",\n",
    ")\n",
    "unstucking_band_upper.iloc[::100].plot(style=\"r--\")\n",
    "long_ientry_band.iloc[::100].plot(style=\"g-.\")"
   ]
  },
  {
   "cell_type": "code",
   "execution_count": null,
   "id": "649a0610-84cb-4012-997c-b1a5c6c21228",
   "metadata": {},
   "outputs": [],
   "source": [
    "# Inspect short EMAs\n",
    "# blue: lower unstucking; red: upper unstucking; green: initial entry\n",
    "spans = [\n",
    "    config_to_test[\"short\"][\"ema_span_0\"],\n",
    "    (config_to_test[\"short\"][\"ema_span_0\"] * config_to_test[\"short\"][\"ema_span_1\"]) ** 0.5,\n",
    "    config_to_test[\"short\"][\"ema_span_1\"],\n",
    "]\n",
    "print(\n",
    "    f\"spans in minutes {spans}\",\n",
    "    f\"n_days {(df.index[-1] - df.index[0]) / 1000 / 60 / 60 / 24:.1f}\",\n",
    ")\n",
    "for i in range(3):\n",
    "    # change to seconds\n",
    "    spans[i] *= 60\n",
    "emas = pd.DataFrame({str(span): df.price.ewm(span=span, adjust=False).mean() for span in spans})\n",
    "ema_band_lower = emas.min(axis=1)\n",
    "unstucking_band_lower = ema_band_lower * (1 - config_to_test[\"short\"][\"auto_unstuck_ema_dist\"])\n",
    "ema_band_upper = emas.max(axis=1)\n",
    "unstucking_band_upper = ema_band_upper * (1 + config_to_test[\"short\"][\"auto_unstuck_ema_dist\"])\n",
    "short_ientry_band = ema_band_upper * (1 + config_to_test[\"short\"][\"iprice_ema_dist\"])\n",
    "df.iloc[::100].price.plot(style=\"y-\", title=\"Unstucking Bands and Initial Entry Band\")\n",
    "unstucking_band_lower.iloc[::100].plot(style=\"b--\")\n",
    "unstucking_band_upper.iloc[::100].plot(style=\"r--\")\n",
    "short_ientry_band.iloc[::100].plot(style=\"g-.\")"
   ]
  },
  {
   "cell_type": "code",
   "execution_count": null,
   "id": "34816c80-ecb1-4625-b65a-7d71d2eed1e6",
   "metadata": {},
   "outputs": [],
   "source": []
  }
 ],
 "metadata": {
  "kernelspec": {
   "display_name": "Python 3 (ipykernel)",
   "language": "python",
   "name": "python3"
  },
  "language_info": {
   "codemirror_mode": {
    "name": "ipython",
    "version": 3
   },
   "file_extension": ".py",
   "mimetype": "text/x-python",
   "name": "python",
   "nbconvert_exporter": "python",
   "pygments_lexer": "ipython3",
   "version": "3.9.7"
  }
 },
 "nbformat": 4,
 "nbformat_minor": 5
}
