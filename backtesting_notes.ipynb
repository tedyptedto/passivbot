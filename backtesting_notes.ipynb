{
 "cells": [
  {
   "cell_type": "code",
   "execution_count": null,
   "metadata": {},
   "outputs": [],
   "source": [
    "%load_ext autoreload\n",
    "%autoreload 2"
   ]
  },
  {
   "cell_type": "code",
   "execution_count": null,
   "metadata": {},
   "outputs": [],
   "source": [
    "from backtest import *\n",
    "import matplotlib.pyplot as plt\n",
    "import pandas as pd\n",
    "import numpy as np\n",
    "from pprint import PrettyPrinter"
   ]
  },
  {
   "cell_type": "code",
   "execution_count": null,
   "metadata": {},
   "outputs": [],
   "source": [
    "plt.rcParams['figure.figsize'] = [21, 13]\n",
    "pd.set_option('precision', 10)\n",
    "pp = PrettyPrinter()"
   ]
  },
  {
   "cell_type": "code",
   "execution_count": null,
   "metadata": {},
   "outputs": [],
   "source": [
    "settings = load_settings('binance_futures', 'your_user_name')\n",
    "s = 'BTCUSDT'\n",
    "n_days = 7"
   ]
  },
  {
   "cell_type": "code",
   "execution_count": null,
   "metadata": {},
   "outputs": [],
   "source": [
    "agg_trades = await load_trades(s, n_days)"
   ]
  },
  {
   "cell_type": "code",
   "execution_count": null,
   "metadata": {},
   "outputs": [],
   "source": [
    "agg_trades.iloc[::200].price.plot()"
   ]
  },
  {
   "cell_type": "code",
   "execution_count": null,
   "metadata": {},
   "outputs": [],
   "source": [
    "adf = agg_trades"
   ]
  },
  {
   "cell_type": "code",
   "execution_count": null,
   "metadata": {},
   "outputs": [],
   "source": [
    "# modify settings\n",
    "settings = {\n",
    "    'ema_spans': [3111, 4122],\n",
    "    'markup': 0.00183,\n",
    "    'leverage': 99,\n",
    "    'spread': -0.00054,\n",
    "    'entry_amount': 0.001,\n",
    "    'enter_long': True,\n",
    "    'enter_shrt': True\n",
    "}\n"
   ]
  },
  {
   "cell_type": "code",
   "execution_count": null,
   "metadata": {},
   "outputs": [],
   "source": [
    "trades, adf = backtest(adf, settings)"
   ]
  },
  {
   "cell_type": "code",
   "execution_count": null,
   "metadata": {},
   "outputs": [],
   "source": [
    "tdf = pd.DataFrame(trades).set_index('trade_id')\n",
    "bdf = tdf[tdf.side == 'buy']\n",
    "sdf = tdf[tdf.side == 'sel']\n",
    "tdf"
   ]
  },
  {
   "cell_type": "code",
   "execution_count": null,
   "metadata": {},
   "outputs": [],
   "source": [
    "min_name = f\"min_\" + '_'.join([f'{int(span)}' for span in settings['ema_spans']])\n",
    "max_name = f\"max_\" + '_'.join([f'{int(span)}' for span in settings['ema_spans']])\n",
    "nx = 100000\n",
    "adf[[min_name, max_name]].iloc[-nx::100].plot()\n",
    "adf.price.iloc[-nx::100].plot()"
   ]
  },
  {
   "cell_type": "code",
   "execution_count": null,
   "metadata": {},
   "outputs": [],
   "source": [
    "realized_pnl_sum = tdf.realized_pnl.sum()\n",
    "fee_sum = tdf.fee.sum()\n",
    "print('realized pnl sum', realized_pnl_sum)\n",
    "print('fee sum', fee_sum)\n",
    "print('pnl - fee', realized_pnl_sum - fee_sum)\n",
    "print('pct fees paid', fee_sum / realized_pnl_sum)"
   ]
  },
  {
   "cell_type": "code",
   "execution_count": null,
   "metadata": {},
   "outputs": [],
   "source": [
    "print('pos amount counts')\n",
    "tdf.amount.value_counts()"
   ]
  },
  {
   "cell_type": "code",
   "execution_count": null,
   "metadata": {},
   "outputs": [],
   "source": [
    "tdf.n_double_downs.value_counts()"
   ]
  },
  {
   "cell_type": "code",
   "execution_count": null,
   "metadata": {},
   "outputs": [],
   "source": [
    "min_needed_margin = tdf.margin_cost.max()\n",
    "print('min needed margin', min_needed_margin)"
   ]
  },
  {
   "cell_type": "code",
   "execution_count": null,
   "metadata": {},
   "outputs": [],
   "source": [
    "(tdf.realized_pnl - tdf.fee).cumsum().plot()"
   ]
  },
  {
   "cell_type": "code",
   "execution_count": null,
   "metadata": {},
   "outputs": [],
   "source": [
    "tdf.amount.plot()"
   ]
  },
  {
   "cell_type": "code",
   "execution_count": null,
   "metadata": {},
   "outputs": [],
   "source": [
    "gain = (realized_pnl_sum - fee_sum + min_needed_margin) / min_needed_margin\n",
    "n_days = (tdf.timestamp.max() - tdf.timestamp.min()) / 1000 / 60 / 60 / 24\n",
    "adg = gain ** (1 / n_days)\n",
    "average_daily_abs_profit = realized_pnl_sum / n_days\n",
    "print('min_needed_margin', min_needed_margin)\n",
    "print('realized_pnl_sum', realized_pnl_sum)\n",
    "print('fee_sum', fee_sum)\n",
    "print('net_abs_gain', realized_pnl_sum - fee_sum)\n",
    "print('gain', gain)\n",
    "print('n_days', n_days)\n",
    "print('average daily gain', adg)\n",
    "print('average_daily_abs_profit', average_daily_abs_profit)"
   ]
  },
  {
   "cell_type": "code",
   "execution_count": null,
   "metadata": {},
   "outputs": [],
   "source": [
    "# visualize highest double downs"
   ]
  },
  {
   "cell_type": "code",
   "execution_count": null,
   "metadata": {},
   "outputs": [],
   "source": [
    "idx = tdf.amount.abs().sort_values().index[-1]\n",
    "idxloc = tdf.index.get_loc(idx)\n",
    "n_dd = tdf.n_double_downs.iloc[idxloc-1]\n",
    "istart = tdf.iloc[idxloc-n_dd - 50].name\n",
    "iend = tdf.iloc[idxloc + 50].name\n",
    "print(istart, iend, n_dd)\n",
    "tdf.iloc[idxloc-n_dd-4:idxloc+2]"
   ]
  },
  {
   "cell_type": "code",
   "execution_count": null,
   "metadata": {},
   "outputs": [],
   "source": [
    "min_name = f\"min_\" + '_'.join([f'{int(span)}' for span in settings['ema_spans']])\n",
    "max_name = f\"max_\" + '_'.join([f'{int(span)}' for span in settings['ema_spans']])\n",
    "adf.loc[istart:iend][['price', min_name, max_name]].plot(style='y')\n",
    "bdfc = bdf[(bdf.index >= istart) & (bdf.index < iend)]\n",
    "sdfc = sdf[(sdf.index >= istart) & (sdf.index < iend)]\n",
    "\n",
    "ledfc = bdfc[bdfc.type == 'entry']\n",
    "lxdfc = sdfc[sdfc.type == 'exit']\n",
    "\n",
    "sedfc = sdfc[sdfc.type == 'entry']\n",
    "sxdfc = bdfc[bdfc.type == 'exit']\n",
    "\n",
    "lxdfc.price.plot(style='r<')\n",
    "sxdfc.price.plot(style='b<')\n",
    "ledfc.price.plot(style='b>')\n",
    "sedfc.price.plot(style='r>')"
   ]
  },
  {
   "cell_type": "code",
   "execution_count": null,
   "metadata": {},
   "outputs": [],
   "source": [
    "# for testing multiple settings"
   ]
  },
  {
   "cell_type": "code",
   "execution_count": null,
   "metadata": {},
   "outputs": [],
   "source": [
    "results = jackrabbit(agg_trades)"
   ]
  },
  {
   "cell_type": "code",
   "execution_count": null,
   "metadata": {},
   "outputs": [],
   "source": [
    "rdf = pd.DataFrame(results).T\n",
    "rdf.sort_values('gain', ascending=[False])"
   ]
  },
  {
   "cell_type": "code",
   "execution_count": null,
   "metadata": {},
   "outputs": [],
   "source": []
  }
 ],
 "metadata": {
  "kernelspec": {
   "display_name": "Python 3",
   "language": "python",
   "name": "python3"
  },
  "language_info": {
   "codemirror_mode": {
    "name": "ipython",
    "version": 3
   },
   "file_extension": ".py",
   "mimetype": "text/x-python",
   "name": "python",
   "nbconvert_exporter": "python",
   "pygments_lexer": "ipython3",
   "version": "3.8.2"
  }
 },
 "nbformat": 4,
 "nbformat_minor": 4
}
