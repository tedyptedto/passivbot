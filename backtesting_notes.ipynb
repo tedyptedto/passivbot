{
 "cells": [
  {
   "cell_type": "code",
   "execution_count": null,
   "metadata": {},
   "outputs": [],
   "source": [
    "%load_ext autoreload\n",
    "%autoreload 2"
   ]
  },
  {
   "cell_type": "code",
   "execution_count": null,
   "metadata": {},
   "outputs": [],
   "source": [
    "from backtest import *\n",
    "import matplotlib.pyplot as plt\n",
    "import pandas as pd\n",
    "import numpy as np\n",
    "import pprint\n",
    "from pprint import PrettyPrinter"
   ]
  },
  {
   "cell_type": "code",
   "execution_count": null,
   "metadata": {},
   "outputs": [],
   "source": [
    "plt.rcParams['figure.figsize'] = [21, 13]\n",
    "pd.set_option('precision', 10)\n",
    "pp = PrettyPrinter()"
   ]
  },
  {
   "cell_type": "code",
   "execution_count": null,
   "metadata": {},
   "outputs": [],
   "source": [
    "# plotting method\n",
    "\n",
    "def plot_tdf_(df_, tdf_, side_: int = 0, liq_thr=0.1):\n",
    "    plt.clf()\n",
    "    df_.loc[tdf_.index[0]:tdf_.index[-1]].price.plot(style='y-')\n",
    "    if side_ >= 0:\n",
    "        longs = tdf_[tdf_.side == 'long']\n",
    "        le = longs[longs.type == 'entry']\n",
    "        lc = longs[longs.type == 'close']\n",
    "        ls = longs[longs.type == 'stop_loss']\n",
    "        ls.price.plot(style='gx')\n",
    "        le.price.plot(style='b.')\n",
    "        longs.pos_price.plot(style='b--')\n",
    "        if 'close_price' in longs.columns:\n",
    "            longs.close_price.plot(style='r--')\n",
    "        lc.price.plot(style='ro')\n",
    "    if side_ <= 0:\n",
    "        shrts = tdf_[tdf_.side == 'shrt']\n",
    "        se = shrts[shrts.type == 'entry']\n",
    "        sc = shrts[shrts.type == 'close']\n",
    "        ss = shrts[shrts.type == 'stop_loss']\n",
    "        ss.price.plot(style='gx')\n",
    "        se.price.plot(style='r.')\n",
    "        shrts.pos_price.plot(style='r--')\n",
    "        if 'close_price' in shrts.columns:\n",
    "            shrts.close_price.plot(style='b--')\n",
    "        sc.price.plot(style='bo')\n",
    "    if 'liq_price' in tdf_.columns:\n",
    "        tdf_.liq_price.where((tdf_.price - tdf_.liq_price).abs() / tdf_.price < liq_thr, np.nan).plot(style='k--')\n",
    "    return plt\n"
   ]
  },
  {
   "cell_type": "code",
   "execution_count": null,
   "metadata": {},
   "outputs": [],
   "source": [
    "exchange = 'bybit'\n",
    "symbol = 'ETHUSD'\n",
    "backtesting_results_dir = f'backtesting_results/{exchange}/{symbol}/'\n",
    "print('sessions')\n",
    "sessions = sorted(os.listdir(backtesting_results_dir))\n",
    "sessions"
   ]
  },
  {
   "cell_type": "code",
   "execution_count": null,
   "metadata": {},
   "outputs": [],
   "source": [
    "# select session, default is last of sorted sessions list\n",
    "session_name = sessions[-1]\n",
    "#session_name = 'session_001'\n",
    "print('session', session_name)\n",
    "session_dir = f\"{backtesting_results_dir}{session_name}/\"\n",
    "results_filepath = f\"{session_dir}results.txt\"\n",
    "backtesting_settings = json.load(open(session_dir + 'backtesting_settings.json'))\n",
    "with open(results_filepath) as f:\n",
    "    results = [json.loads(line) for line in f.readlines()]\n",
    "rdf = pd.DataFrame(results)\n",
    "rdfs = rdf.sort_values('gain', ascending=False)\n",
    "print('\\nn completed backtests', len(rdf))\n",
    "rdfs.head(20)"
   ]
  },
  {
   "cell_type": "code",
   "execution_count": null,
   "metadata": {},
   "outputs": [],
   "source": [
    "n_days = backtesting_settings['n_days']\n",
    "trades_list_cache_filepath = f\"{session_dir}{n_days}_days_trades_list_cache.npy\"\n",
    "print('loading trades list...')\n",
    "trades_list = np.load(trades_list_cache_filepath, allow_pickle=True)\n",
    "print('done')\n",
    "print('making dataframe...')\n",
    "df = pd.DataFrame(list(trades_list))\n",
    "print('done')"
   ]
  },
  {
   "cell_type": "code",
   "execution_count": null,
   "metadata": {},
   "outputs": [],
   "source": [
    "best = json.load(open(session_dir + 'best.json'))\n",
    "ranges = json.load(open(session_dir + 'ranges.json'))\n",
    "best = {k_: best[k_] for k_ in sorted(ranges)}\n",
    "live_settings = json.load(open(session_dir + 'best_result_live_settings.json'))\n",
    "\n",
    "# choose backtest to view.\n",
    "# idx = 0 is first, idx = 1 is second, etc\n",
    "idx = 0\n",
    "backtest_result = dict(rdfs.iloc[idx])\n",
    "tdf = pd.read_csv(f\"{session_dir}backtest_trades/{backtest_result['key']}.csv\").set_index('trade_id')\n",
    "\n",
    "best_dict = dict(rdfs.iloc[idx])\n",
    "for k in sorted(best_dict):\n",
    "    if k in backtesting_settings:\n",
    "        backtesting_settings[k] = best_dict[k]\n",
    "    if k in live_settings:\n",
    "        try:\n",
    "            live_settings[k] = float(best_dict[k])\n",
    "        except:\n",
    "            live_settings[k] = best_dict[k]\n",
    "        del best_dict[k]\n",
    "    else:\n",
    "        best_dict[k] = float(best_dict[k])\n",
    "print('live settings, selected candidate')\n",
    "print(json.dumps(live_settings, indent=4))"
   ]
  },
  {
   "cell_type": "code",
   "execution_count": null,
   "metadata": {},
   "outputs": [],
   "source": [
    "print('price with bid ask entry thresholds')\n",
    "ema = df.price.ewm(span=live_settings['indicator_settings']['tick_ema']['span'], adjust=False).mean()\n",
    "bids_ = ema * (1 - live_settings['indicator_settings']['tick_ema']['spread'])\n",
    "asks_ = ema * (1 + live_settings['indicator_settings']['tick_ema']['spread'])\n",
    "\n",
    "df.price.iloc[::100].plot()\n",
    "bids_.iloc[::100].plot()\n",
    "asks_.iloc[::100].plot()"
   ]
  },
  {
   "cell_type": "code",
   "execution_count": null,
   "metadata": {},
   "outputs": [],
   "source": [
    "# analyze results\n",
    "longs = tdf[tdf.side == 'long']\n",
    "shrts = tdf[tdf.side == 'shrt']\n",
    "le = longs[longs.type == 'entry']\n",
    "lc = longs[longs.type == 'close']\n",
    "se = shrts[shrts.type == 'entry']\n",
    "sc = shrts[shrts.type == 'close']\n",
    "\n",
    "def gain_conv(x):\n",
    "    return x * 100 - 100\n",
    "\n",
    "biggest_pos_size = tdf.pos_size.abs().max()\n",
    "pnl_sum = tdf.pnl.sum()\n",
    "stop_loss_closes = tdf[tdf.type == 'stop_loss']\n",
    "loss_sum = stop_loss_closes.pnl.sum()\n",
    "gain = (backtesting_settings['starting_balance'] + pnl_sum) / backtesting_settings['starting_balance']\n",
    "closest_liq = ((tdf.price - tdf.liq_price).abs() / tdf.price).min()\n",
    "n_stop_loss = len(stop_loss_closes)\n",
    "n_days = backtesting_settings['n_days']\n",
    "average_daily_gain = gain ** (1 / n_days)\n",
    "closes = tdf[tdf.type == 'close']\n",
    "lines = []\n",
    "lines.append(f'net pnl {pnl_sum:.6f}')\n",
    "lines.append(f'loss sum {loss_sum:.6f}')\n",
    "lines.append(f'gain {gain * 100 - 100:.2f}%')\n",
    "lines.append(f'n_days {n_days}')\n",
    "lines.append(f'average_daily_gain {(average_daily_gain - 1) * 100:.2f}%')\n",
    "lines.append(f'n trades {len(tdf)}')\n",
    "lines.append(f'n closes {len(closes)}')\n",
    "lines.append(f'n stop loss closes {n_stop_loss}')\n",
    "lines.append(f'biggest_pos_size {biggest_pos_size:.10f}')\n",
    "lines.append(f'closest liq {closest_liq * 100:.4f}%')\n",
    "lines.append(f\"starting balance {backtesting_settings['starting_balance']}\")\n",
    "lines.append(f\"long: {backtesting_settings['do_long']}, short: {backtesting_settings['do_shrt']}\")\n",
    "\n",
    "with open(f'{session_dir}backtest_result.txt', 'w') as f:\n",
    "    for line in lines:\n",
    "        print(line)\n",
    "        f.write(line + '\\n')\n"
   ]
  },
  {
   "cell_type": "code",
   "execution_count": null,
   "metadata": {},
   "outputs": [],
   "source": [
    "# plots are saved in backtesting_results/{exchange}/{symbol}/{session_name}/\n",
    "n_parts = 7\n",
    "for z in range(n_parts):\n",
    "    start_ = z / n_parts\n",
    "    end_ = (z + 1) / n_parts\n",
    "    print(start_, end_)\n",
    "    fig = plot_tdf_(df, tdf.iloc[int(len(tdf) * start_):int(len(tdf) * end_)], liq_thr=0.1)\n",
    "    fig.savefig(f'{session_dir}backtest_{z + 1}of{n_parts}.png')\n",
    "fig = plot_tdf_(df, tdf, liq_thr=0.1)\n",
    "fig.savefig(f'{session_dir}whole_backtest.png')\n"
   ]
  },
  {
   "cell_type": "code",
   "execution_count": null,
   "metadata": {},
   "outputs": [],
   "source": [
    "counter = 0\n",
    "idxs = []\n",
    "for row in tdf.itertuples():\n",
    "    if row.type == 'stop_loss':\n",
    "        counter += 1\n",
    "    else:\n",
    "        if counter > 0:\n",
    "            idxs.append(row.Index)\n",
    "        counter = 0\n",
    "pnlcumsum = tdf.pnl.cumsum()\n",
    "plt.clf()\n",
    "pnlcumsum.plot()\n",
    "if idxs:\n",
    "    pnlcumsum.loc[idxs].plot(style='ro')\n",
    "plt.savefig(f'{session_dir}pnlcumsum_plot.png')"
   ]
  },
  {
   "cell_type": "code",
   "execution_count": null,
   "metadata": {},
   "outputs": [],
   "source": [
    "plt.clf()\n",
    "tdf.pos_size.plot()\n",
    "plt.savefig(f'{session_dir}pos_sizes_plot.png')"
   ]
  },
  {
   "cell_type": "code",
   "execution_count": null,
   "metadata": {},
   "outputs": [],
   "source": [
    "adg_ = tdf.average_daily_gain\n",
    "print('min max', adg_.min(), adg_.max())\n",
    "adg_.index = tdf.progress\n",
    "plt.clf()\n",
    "adg_.iloc[int(len(tdf) * 0.1):].plot()\n",
    "plt.savefig(f'{session_dir}average_daily_gain_plot.png')"
   ]
  },
  {
   "cell_type": "code",
   "execution_count": null,
   "metadata": {},
   "outputs": [],
   "source": [
    "# visualize behavior\n",
    "# execute below cell repeatedly (up arrow, shift enter) to see backtest chunk by chunk\n",
    "# adjust step to set zoom level\n",
    "step = 240\n",
    "i = -step"
   ]
  },
  {
   "cell_type": "code",
   "execution_count": null,
   "metadata": {},
   "outputs": [],
   "source": [
    "i += step\n",
    "tdfc = tdf.iloc[i:i+step]\n",
    "plot_tdf_(df, tdf.iloc[i:i+step], liq_thr=0.01)"
   ]
  },
  {
   "cell_type": "code",
   "execution_count": null,
   "metadata": {},
   "outputs": [],
   "source": [
    "tdfcj = tdfc.join(pd.Series(tdfc.price.diff(), name='price_diff'))\n",
    "tdfcj.head(60)"
   ]
  },
  {
   "cell_type": "code",
   "execution_count": null,
   "metadata": {},
   "outputs": [],
   "source": [
    "tdfcj.tail(60)"
   ]
  },
  {
   "cell_type": "code",
   "execution_count": null,
   "metadata": {},
   "outputs": [],
   "source": [
    "closest_liqs = ((tdf.liq_price - tdf.price).abs() / tdf.price).sort_values()\n",
    "closest_liqs.head()"
   ]
  },
  {
   "cell_type": "code",
   "execution_count": null,
   "metadata": {},
   "outputs": [],
   "source": [
    "i = 0\n",
    "iloc_ = tdf.index.get_loc(closest_liqs.index[i])\n",
    "iminus = 20\n",
    "iplus = 150\n",
    "tdfc = tdf.iloc[max(0, iloc_-iminus):min(iloc_+iplus, len(tdf) - 1)]\n",
    "plot_tdf_(df, tdfc, liq_thr=0.1)"
   ]
  },
  {
   "cell_type": "code",
   "execution_count": null,
   "metadata": {},
   "outputs": [],
   "source": [
    "tdfc.head(60)"
   ]
  },
  {
   "cell_type": "code",
   "execution_count": null,
   "metadata": {},
   "outputs": [],
   "source": []
  },
  {
   "cell_type": "code",
   "execution_count": null,
   "metadata": {},
   "outputs": [],
   "source": []
  },
  {
   "cell_type": "code",
   "execution_count": null,
   "metadata": {},
   "outputs": [],
   "source": []
  }
 ],
 "metadata": {
  "kernelspec": {
   "display_name": "Python 3",
   "language": "python",
   "name": "python3"
  },
  "language_info": {
   "codemirror_mode": {
    "name": "ipython",
    "version": 3
   },
   "file_extension": ".py",
   "mimetype": "text/x-python",
   "name": "python",
   "nbconvert_exporter": "python",
   "pygments_lexer": "ipython3",
   "version": "3.8.2"
  }
 },
 "nbformat": 4,
 "nbformat_minor": 4
}
