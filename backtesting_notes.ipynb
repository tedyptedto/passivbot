{
 "cells": [
  {
   "cell_type": "code",
   "execution_count": null,
   "metadata": {},
   "outputs": [],
   "source": [
    "%load_ext autoreload\n",
    "%autoreload 2"
   ]
  },
  {
   "cell_type": "code",
   "execution_count": null,
   "metadata": {},
   "outputs": [],
   "source": [
    "from backtest import *\n",
    "import matplotlib.pyplot as plt\n",
    "import pandas as pd\n",
    "import numpy as np\n",
    "from pprint import PrettyPrinter"
   ]
  },
  {
   "cell_type": "code",
   "execution_count": null,
   "metadata": {},
   "outputs": [],
   "source": [
    "plt.rcParams['figure.figsize'] = [21, 13]\n",
    "pd.set_option('precision', 10)\n",
    "pp = PrettyPrinter()"
   ]
  },
  {
   "cell_type": "code",
   "execution_count": null,
   "metadata": {},
   "outputs": [],
   "source": [
    "exchange = 'bybit'\n",
    "user = 'your_user_name'\n",
    "settings = load_settings(exchange, user)\n",
    "s = 'BTCUSD'\n",
    "n_days = 7"
   ]
  },
  {
   "cell_type": "code",
   "execution_count": null,
   "metadata": {},
   "outputs": [],
   "source": [
    "#load cache if any\n",
    "#agg_trades = pd.read_csv('btcusdt_agg_trades_bybit_14_days_2021-01-03.csv').set_index('trade_id')"
   ]
  },
  {
   "cell_type": "code",
   "execution_count": null,
   "metadata": {},
   "outputs": [],
   "source": [
    "agg_trades = await load_trades(exchange, user, s, n_days)"
   ]
  },
  {
   "cell_type": "code",
   "execution_count": null,
   "metadata": {},
   "outputs": [],
   "source": [
    "adf = agg_trades"
   ]
  },
  {
   "cell_type": "code",
   "execution_count": null,
   "metadata": {},
   "outputs": [],
   "source": [
    "adf = adf[adf.price != adf.price.shift(1)]\n",
    "len(adf), 'n_days', (adf.timestamp.iloc[-1] - adf.timestamp.iloc[0]) / 1000 / 60 / 60 / 24"
   ]
  },
  {
   "cell_type": "code",
   "execution_count": null,
   "metadata": {},
   "outputs": [],
   "source": [
    "# look at jackrabbit results\n",
    "rdf = pd.concat([pd.read_csv('jackrabbit_results_grid/2021-01-03T14:05:24.csv')])\n",
    "rdf.columns = ['ema_spans', 'ema_spread', 'entry_qty_equity_multiplier', 'entry_qty_scaling_factor',\n",
    "               'grid_spacing', 'leverage', 'markup'] + list(rdf.columns[7:])\n",
    "rdfs = rdf.sort_values('pnl_sum', ascending=[False])\n",
    "rdfs.head(20)\n"
   ]
  },
  {
   "cell_type": "code",
   "execution_count": null,
   "metadata": {},
   "outputs": [],
   "source": [
    "settings = {\n",
    "    'ema_spans': [37328.0, 51671.0],\n",
    "    'ema_spread': -0.000468,\n",
    "    'entry_qty_equity_multiplier': 0.00192,\n",
    "    'entry_qty_scaling_factor': 0.413,\n",
    "    'grid_spacing': 0.0047,\n",
    "    'initial_equity': 0.001,\n",
    "    'leverage': 84.0,\n",
    "    'maker_fee': -0.00025,\n",
    "    'markup': 0.00723,\n",
    "    'min_qty': 1.0,\n",
    "    'price_step': 0.5,\n",
    "    'qty_step': 1.0,\n",
    "    'symbol': 'BTCUSD'\n",
    "}"
   ]
  },
  {
   "cell_type": "code",
   "execution_count": null,
   "metadata": {},
   "outputs": [],
   "source": [
    "# set best jackrabbit result as settings\n",
    "'''\n",
    "bs = dict(rdfs.iloc[0])\n",
    "for k in bs:\n",
    "    if k in settings:\n",
    "        if type(bs[k]) == str:\n",
    "            settings[k] = eval(bs[k].strip())\n",
    "        else:\n",
    "            settings[k] = round(bs[k], 10)\n",
    "        print(k, settings[k])\n",
    "settings\n",
    "'''"
   ]
  },
  {
   "cell_type": "code",
   "execution_count": null,
   "metadata": {},
   "outputs": [],
   "source": [
    "def plot_tdf_(df_, tdf_, side_: int = 0):\n",
    "    df_.loc[tdf_.index[0]:tdf_.index[-1]].price.plot(style='y-')\n",
    "    if side_ >= 0:\n",
    "        longs = tdf_[tdf_.side == 'long']\n",
    "        le = longs[longs.type == 'entry']\n",
    "        lc = longs[longs.type == 'close']\n",
    "        ll = longs[longs.type == 'liq']\n",
    "        le.price.plot(style='b.')\n",
    "        le.pos_price.plot(style='r-')\n",
    "        lc.price.plot(style='ro')\n",
    "        ll.price.plot(style='gx')\n",
    "    if side_ <= 0:\n",
    "        shrts = tdf_[tdf_.side == 'shrt']\n",
    "        se = shrts[shrts.type == 'entry']\n",
    "        sc = shrts[shrts.type == 'close']\n",
    "        sl = shrts[shrts.type == 'liq']\n",
    "        se.price.plot(style='r.')\n",
    "        se.pos_price.plot(style='b-')\n",
    "        sc.price.plot(style='bo')\n",
    "        sl.price.plot(style='gx')"
   ]
  },
  {
   "cell_type": "code",
   "execution_count": null,
   "metadata": {},
   "outputs": [],
   "source": [
    "df = prep_df(adf, settings)\n",
    "print(len(df), len(df) / len(adf))\n",
    "df[['price', 'bid_thr', 'ask_thr']].iloc[::100].plot()"
   ]
  },
  {
   "cell_type": "code",
   "execution_count": null,
   "metadata": {},
   "outputs": [],
   "source": [
    "trades = backtest(df, settings)"
   ]
  },
  {
   "cell_type": "code",
   "execution_count": null,
   "metadata": {},
   "outputs": [],
   "source": [
    "tdf = pd.DataFrame(trades).set_index('trade_id')\n",
    "longs = tdf[tdf.side == 'long']\n",
    "shrts = tdf[tdf.side == 'shrt']\n",
    "le = longs[longs.type == 'entry']\n",
    "lc = longs[longs.type == 'close']\n",
    "ll = longs[longs.type == 'liq']\n",
    "se = shrts[shrts.type == 'entry']\n",
    "sc = shrts[shrts.type == 'close']\n",
    "sl = shrts[shrts.type == 'liq']\n",
    "\n",
    "margin_max = tdf.margin_cost.max()\n",
    "pnl_sum = tdf.pnl.sum()\n",
    "gain = (settings['initial_equity'] + pnl_sum) / settings['initial_equity']\n",
    "n_days = (adf.timestamp.iloc[-1] - adf.timestamp.iloc[0]) / 1000 / 60 / 60 / 24\n",
    "average_daily_gain = gain ** (1 / n_days)\n",
    "liqs = tdf[tdf.type == 'liq']\n",
    "closes = tdf[tdf.type == 'close']\n",
    "print('margin_max', margin_max)\n",
    "print('pnl_sum', pnl_sum)\n",
    "print('gain', gain)\n",
    "print('n_days', n_days)\n",
    "print('average_daily_gain', average_daily_gain)\n",
    "print('n trades', len(tdf))\n",
    "print('n closes', len(closes))\n",
    "print('n liqs', len(liqs))"
   ]
  },
  {
   "cell_type": "code",
   "execution_count": null,
   "metadata": {},
   "outputs": [],
   "source": [
    "tdf.head(40)"
   ]
  },
  {
   "cell_type": "code",
   "execution_count": null,
   "metadata": {},
   "outputs": [],
   "source": [
    "tdf.qty.plot()"
   ]
  },
  {
   "cell_type": "code",
   "execution_count": null,
   "metadata": {},
   "outputs": [],
   "source": [
    "tdf.equity_available.plot()"
   ]
  },
  {
   "cell_type": "code",
   "execution_count": null,
   "metadata": {},
   "outputs": [],
   "source": [
    "tdf.pnl.cumsum().plot()"
   ]
  },
  {
   "cell_type": "code",
   "execution_count": null,
   "metadata": {},
   "outputs": [],
   "source": [
    "liqs"
   ]
  },
  {
   "cell_type": "code",
   "execution_count": null,
   "metadata": {},
   "outputs": [],
   "source": [
    "# inspect liquidations\n",
    "liq_i = 0\n",
    "liq_iloc = tdf.index.get_loc(liqs.index[liq_i])\n",
    "iminus = 10\n",
    "iplus = 10\n",
    "tdfc = tdf.iloc[max(0, liq_iloc-iminus):min(liq_iloc+iplus, len(tdf) - 1)]\n",
    "plot_tdf_(df, tdfc, 1 if liqs.iloc[liq_i].side == 'long' else -1)"
   ]
  },
  {
   "cell_type": "code",
   "execution_count": null,
   "metadata": {},
   "outputs": [],
   "source": [
    "# inspect biggest orders\n",
    "big_i = 0\n",
    "big_iloc = tdf.index.get_loc(tdf.qty.abs().sort_values().iloc[-big_i])\n",
    "iminus = 100\n",
    "iplus = 100\n",
    "tdfc = tdf.iloc[max(0, big_iloc-iminus):min(big_iloc+iplus, len(tdf) - 1)]\n",
    "plot_tdf_(df, tdfc)#, 1 if tdf.iloc[liq_i].side == 'long' else -1)"
   ]
  },
  {
   "cell_type": "code",
   "execution_count": null,
   "metadata": {},
   "outputs": [],
   "source": [
    "plot_tdf_(df, tdf)"
   ]
  },
  {
   "cell_type": "code",
   "execution_count": null,
   "metadata": {},
   "outputs": [],
   "source": []
  }
 ],
 "metadata": {
  "kernelspec": {
   "display_name": "Python 3",
   "language": "python",
   "name": "python3"
  },
  "language_info": {
   "codemirror_mode": {
    "name": "ipython",
    "version": 3
   },
   "file_extension": ".py",
   "mimetype": "text/x-python",
   "name": "python",
   "nbconvert_exporter": "python",
   "pygments_lexer": "ipython3",
   "version": "3.8.2"
  }
 },
 "nbformat": 4,
 "nbformat_minor": 4
}
