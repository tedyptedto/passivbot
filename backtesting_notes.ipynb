{
 "cells": [
  {
   "cell_type": "code",
   "execution_count": null,
   "metadata": {},
   "outputs": [],
   "source": [
    "%load_ext autoreload\n",
    "%autoreload 2"
   ]
  },
  {
   "cell_type": "code",
   "execution_count": null,
   "metadata": {},
   "outputs": [],
   "source": [
    "from backtest import *\n",
    "import matplotlib.pyplot as plt\n",
    "import pandas as pd\n",
    "import numpy as np\n",
    "import pprint\n",
    "from pprint import PrettyPrinter"
   ]
  },
  {
   "cell_type": "code",
   "execution_count": null,
   "metadata": {},
   "outputs": [],
   "source": [
    "plt.rcParams['figure.figsize'] = [21, 13]\n",
    "pd.set_option('precision', 10)\n",
    "pp = PrettyPrinter()"
   ]
  },
  {
   "cell_type": "code",
   "execution_count": null,
   "metadata": {},
   "outputs": [],
   "source": [
    "exchange = 'bybit'\n",
    "user = 'your_user_name'\n",
    "settings = load_settings(exchange, user)\n",
    "s = 'BTCUSD'\n",
    "n_days = 3"
   ]
  },
  {
   "cell_type": "code",
   "execution_count": null,
   "metadata": {
    "scrolled": true
   },
   "outputs": [],
   "source": [
    "#load cache if any\n",
    "agg_trades = pd.read_csv('BTCUSD_agg_trades_bybit_28.0_days_2021-01-12.csv').set_index('trade_id')\n",
    "adf = agg_trades"
   ]
  },
  {
   "cell_type": "code",
   "execution_count": null,
   "metadata": {},
   "outputs": [],
   "source": [
    "#otherwise\n",
    "#agg_trades = await load_trades(exchange, user, s, n_days)\n",
    "#adf = agg_trades"
   ]
  },
  {
   "cell_type": "code",
   "execution_count": null,
   "metadata": {},
   "outputs": [],
   "source": [
    "# look at jackrabbit results, if any\n",
    "\n",
    "rdf = pd.concat([pd.read_csv('jackrabbit_results_grid/2021-01-12T11:44:50_24_inverse.csv')])\n",
    "#column_names = ['grid_step', 'markups']\n",
    "column_names = ['grid_coefficient', 'grid_spacing', 'markups', 'n_close_orders']\n",
    "#column_names = ['default_qty', 'grid_step', 'margin_limit', 'markups', 'n_close_orders']\n",
    "\n",
    "rdf.columns = column_names + list(rdf.columns[len(column_names):])\n",
    "rdfs = rdf.sort_values('gain', ascending=[False])\n",
    "rdfs = rdfs[~rdfs.gain.duplicated()]\n",
    "rdfs.loc[:, 'pnl_over_max_margin_cost'] = rdfs.pnl_sum / rdfs.max_margin_cost\n",
    "#rdfs = rdfs[rdfs.loss_sum == 0.0]\n",
    "rdfs.head(30)\n"
   ]
  },
  {
   "cell_type": "code",
   "execution_count": null,
   "metadata": {},
   "outputs": [],
   "source": [
    "# plotting method\n",
    "\n",
    "def plot_tdf_(df_, tdf_, side_: int = 0, liq_thr=0.1):\n",
    "    df_.loc[tdf_.index[0]:tdf_.index[-1]].price.plot(style='y-')\n",
    "    if side_ >= 0:\n",
    "        longs = tdf_[tdf_.side == 'long']\n",
    "        le = longs[longs.type == 'entry']\n",
    "        lc = longs[longs.type == 'close']\n",
    "        le.price.plot(style='b.')\n",
    "        longs.pos_price.plot(style='b--')\n",
    "        if 'close_price' in longs.columns:\n",
    "            longs.close_price.plot(style='r--')\n",
    "        lc.price.plot(style='ro')\n",
    "    if side_ <= 0:\n",
    "        shrts = tdf_[tdf_.side == 'shrt']\n",
    "        se = shrts[shrts.type == 'entry']\n",
    "        sc = shrts[shrts.type == 'close']\n",
    "        se.price.plot(style='r.')\n",
    "        shrts.pos_price.plot(style='r--')\n",
    "        if 'close_price' in shrts.columns:\n",
    "            shrts.close_price.plot(style='b--')\n",
    "        sc.price.plot(style='bo')\n",
    "    if 'liq_price' in tdf_.columns:\n",
    "        tdf_.liq_price.where((tdf_.price - tdf_.liq_price).abs() / tdf_.price < liq_thr, np.nan).plot(style='k--')\n"
   ]
  },
  {
   "cell_type": "code",
   "execution_count": null,
   "metadata": {},
   "outputs": [],
   "source": [
    "# crop trades if desired\n",
    "\n",
    "age_limit = (time() - 60 * 60 * 24 * 4) * 1000\n",
    "adf = adf[adf.timestamp > age_limit]\n",
    "n_days = (adf.timestamp.iloc[-1] - adf.timestamp.iloc[0]) / 1000 / 60 / 60 / 24\n",
    "n_days\n"
   ]
  },
  {
   "cell_type": "code",
   "execution_count": null,
   "metadata": {},
   "outputs": [],
   "source": [
    "{'n_closes': 14520, 'pnl_sum': 0.0019708674546522966, 'loss_sum': 0.0, 'max_margin_cost': 0.00014454813469976551, 'average_daily_gain': 1.029694460329125, 'gain': 2.015911059099122, 'n_trades': 30557, 'closest_liq': 0.06959398293567425, 'biggest_pos_size': 441.0} "
   ]
  },
  {
   "cell_type": "code",
   "execution_count": null,
   "metadata": {},
   "outputs": [],
   "source": [
    "# prep df for backtesting\n",
    "n_days = (adf.timestamp.iloc[-1] - adf.timestamp.iloc[0]) / 1000 / 60 / 60 / 24\n",
    "print('ndays', n_days)\n",
    "df = prep_df(adf)\n",
    "print(len(df), len(df) / len(adf))\n",
    "df.price.iloc[::100].plot()"
   ]
  },
  {
   "cell_type": "code",
   "execution_count": null,
   "metadata": {},
   "outputs": [],
   "source": [
    "# bybit\n",
    "settings = {\n",
    "    'inverse': True,\n",
    "    'maker_fee': -0.00025,\n",
    "    'price_step': 0.5,\n",
    "    'qty_step': 1.0,\n",
    "    'symbol': 'BTCUSD',\n",
    "    'n_entry_orders': 10,\n",
    "    'leverage': 100,\n",
    "    'min_qty': 1.0,\n",
    "\n",
    "    'break_on_loss': False,\n",
    "    'compounding': False,\n",
    "    'min_markup': 0.0002,\n",
    "    'margin_limit': 0.0019,\n",
    "    'default_qty': 2.0,\n",
    "    \n",
    "    'max_markup': 0.0159,\n",
    "    'n_close_orders': 17,\n",
    "    'liq_diff_threshold': 0.01,\n",
    "    'stop_loss_pos_reduction': 0.02,\n",
    "    \n",
    "    'dynamic_grid': True, # true for dynamic grid style, false for static grid style\n",
    "    \n",
    "    # dynamic specific settings\n",
    "    'grid_coefficient': 0.0,\n",
    "    'grid_spacing': 0.0034,\n",
    "    \n",
    "    # static specific settings\n",
    "    'grid_step': 116.5,\n",
    "}"
   ]
  },
  {
   "cell_type": "code",
   "execution_count": null,
   "metadata": {},
   "outputs": [],
   "source": [
    "print('approx default grid step', df.price.mean() * settings['grid_spacing'])\n",
    "sort_dict_keys(settings)"
   ]
  },
  {
   "cell_type": "code",
   "execution_count": null,
   "metadata": {},
   "outputs": [],
   "source": [
    "start_time = time()\n",
    "trades = backtest(df, settings)\n",
    "print(f'seconds elapsed {time() - start_time:.2f}')"
   ]
  },
  {
   "cell_type": "code",
   "execution_count": null,
   "metadata": {},
   "outputs": [],
   "source": [
    "# analyze results\n",
    "tdf = pd.DataFrame(trades).set_index('trade_id')\n",
    "longs = tdf[tdf.side == 'long']\n",
    "shrts = tdf[tdf.side == 'shrt']\n",
    "le = longs[longs.type == 'entry']\n",
    "lc = longs[longs.type == 'close']\n",
    "se = shrts[shrts.type == 'entry']\n",
    "sc = shrts[shrts.type == 'close']\n",
    "\n",
    "margin_max = (tdf.pos_size.abs() / tdf.pos_price).max() / settings['leverage']\n",
    "biggest_pos_size = tdf.pos_size.abs().max()\n",
    "pnl_sum = tdf.pnl.sum()\n",
    "loss_sum = tdf[tdf.pnl < 0.0].pnl.sum()\n",
    "gain = (settings['margin_limit'] + pnl_sum) / settings['margin_limit']\n",
    "closest_liq = ((tdf.price - tdf.liq_price).abs() / tdf.price).min()\n",
    "n_days = (adf.timestamp.iloc[-1] - adf.timestamp.iloc[0]) / 1000 / 60 / 60 / 24\n",
    "average_daily_gain = gain ** (1 / n_days)\n",
    "closes = tdf[tdf.type == 'close']\n",
    "print('margin_max', margin_max)\n",
    "print('biggest qty', tdf.qty.abs().max())\n",
    "print('pnl_sum', pnl_sum)\n",
    "print('loss sum', loss_sum)\n",
    "print('gain', gain)\n",
    "print('n_days', n_days)\n",
    "print('average_daily_gain', average_daily_gain)\n",
    "print('n trades', len(tdf))\n",
    "print('n closes', len(closes))\n",
    "print('biggest_pos_size', biggest_pos_size)\n",
    "print('closest liq', closest_liq)"
   ]
  },
  {
   "cell_type": "code",
   "execution_count": null,
   "metadata": {},
   "outputs": [],
   "source": [
    "plot_tdf_(df, tdf, liq_thr=0.08)"
   ]
  },
  {
   "cell_type": "code",
   "execution_count": null,
   "metadata": {},
   "outputs": [],
   "source": [
    "# visualize behavior\n",
    "step = 120\n",
    "i = -step"
   ]
  },
  {
   "cell_type": "code",
   "execution_count": null,
   "metadata": {},
   "outputs": [],
   "source": [
    "i += step\n",
    "tdfc = tdf.iloc[i:i+step]\n",
    "plot_tdf_(df, tdf.iloc[i:i+step], liq_thr=0.06)"
   ]
  },
  {
   "cell_type": "code",
   "execution_count": null,
   "metadata": {},
   "outputs": [],
   "source": [
    "tdfcj = tdfc.join(pd.Series(tdfc.price.diff(), name='price_diff'))\n",
    "tdfcj.head(60)"
   ]
  },
  {
   "cell_type": "code",
   "execution_count": null,
   "metadata": {},
   "outputs": [],
   "source": [
    "tdfcj.tail(60)"
   ]
  },
  {
   "cell_type": "code",
   "execution_count": null,
   "metadata": {},
   "outputs": [],
   "source": [
    "tdf.pnl.cumsum().plot()"
   ]
  },
  {
   "cell_type": "code",
   "execution_count": null,
   "metadata": {},
   "outputs": [],
   "source": [
    "tdf.pos_size.plot()"
   ]
  },
  {
   "cell_type": "code",
   "execution_count": null,
   "metadata": {},
   "outputs": [],
   "source": [
    "closest_liqs = ((tdf.liq_price - tdf.price).abs() / tdf.price).sort_values()\n",
    "closest_liqs.head()"
   ]
  },
  {
   "cell_type": "code",
   "execution_count": null,
   "metadata": {},
   "outputs": [],
   "source": [
    "i = 0\n",
    "iloc_ = tdf.index.get_loc(closest_liqs.index[i])\n",
    "iminus = 400\n",
    "iplus = 20\n",
    "tdfc = tdf.iloc[max(0, iloc_-iminus):min(iloc_+iplus, len(tdf) - 1)]\n",
    "plot_tdf_(df, tdfc)"
   ]
  },
  {
   "cell_type": "code",
   "execution_count": null,
   "metadata": {},
   "outputs": [],
   "source": [
    "# inspect biggest trades\n",
    "qty_abs = tdf.qty.abs().sort_values(ascending=False)\n",
    "qty_abs.head(10)"
   ]
  },
  {
   "cell_type": "code",
   "execution_count": null,
   "metadata": {},
   "outputs": [],
   "source": [
    "i = 0\n",
    "iloc_ = tdf.index.get_loc(qty_abs.index[i])\n",
    "iminus = 400\n",
    "iplus = 20\n",
    "tdfc = tdf.iloc[max(0, iloc_-iminus):min(iloc_+iplus, len(tdf) - 1)]\n",
    "plot_tdf_(df, tdfc)"
   ]
  },
  {
   "cell_type": "code",
   "execution_count": null,
   "metadata": {},
   "outputs": [],
   "source": [
    "ik = -1\n",
    "stepp = 60"
   ]
  },
  {
   "cell_type": "code",
   "execution_count": null,
   "metadata": {},
   "outputs": [],
   "source": [
    "ik += 1\n",
    "tdfc.iloc[stepp * ik:stepp * (ik + 1)]"
   ]
  },
  {
   "cell_type": "code",
   "execution_count": null,
   "metadata": {},
   "outputs": [],
   "source": []
  },
  {
   "cell_type": "code",
   "execution_count": null,
   "metadata": {},
   "outputs": [],
   "source": []
  }
 ],
 "metadata": {
  "kernelspec": {
   "display_name": "Python 3",
   "language": "python",
   "name": "python3"
  },
  "language_info": {
   "codemirror_mode": {
    "name": "ipython",
    "version": 3
   },
   "file_extension": ".py",
   "mimetype": "text/x-python",
   "name": "python",
   "nbconvert_exporter": "python",
   "pygments_lexer": "ipython3",
   "version": "3.8.2"
  }
 },
 "nbformat": 4,
 "nbformat_minor": 4
}
