{
 "cells": [
  {
   "cell_type": "code",
   "execution_count": null,
   "metadata": {},
   "outputs": [],
   "source": [
    "%load_ext autoreload\n",
    "%autoreload 2"
   ]
  },
  {
   "cell_type": "code",
   "execution_count": null,
   "metadata": {},
   "outputs": [],
   "source": [
    "from backtest import *\n",
    "import matplotlib.pyplot as plt\n",
    "import pandas as pd\n",
    "import numpy as np\n",
    "from pprint import PrettyPrinter"
   ]
  },
  {
   "cell_type": "code",
   "execution_count": null,
   "metadata": {},
   "outputs": [],
   "source": [
    "plt.rcParams['figure.figsize'] = [21, 13]\n",
    "pd.set_option('precision', 10)\n",
    "pp = PrettyPrinter()"
   ]
  },
  {
   "cell_type": "code",
   "execution_count": null,
   "metadata": {},
   "outputs": [],
   "source": [
    "exchange = 'bybit'\n",
    "user = 'your_user_na me'\n",
    "settings = load_settings(exchange, user)\n",
    "s = 'BTCUSD'\n",
    "n_days = 21"
   ]
  },
  {
   "cell_type": "code",
   "execution_count": null,
   "metadata": {},
   "outputs": [],
   "source": [
    "#load cache if any\n",
    "#agg_trades = pd.read_csv('btcusdt_agg_trades_bybit_7_days_2021-01-05.csv').set_index('trade_id')\n",
    "#adf = agg_trades"
   ]
  },
  {
   "cell_type": "code",
   "execution_count": null,
   "metadata": {},
   "outputs": [],
   "source": [
    "#otherwise\n",
    "#agg_trades = await load_trades(exchange, user, s, n_days)"
   ]
  },
  {
   "cell_type": "code",
   "execution_count": null,
   "metadata": {},
   "outputs": [],
   "source": [
    "# look at jackrabbit results\n",
    "rdf = pd.concat([pd.read_csv('jackrabbit_results_grid/2021-01-06T13:02:45.csv')])\n",
    "column_names = ['ddown_factor', 'grid_spacing', 'grid_spacing_coefficient',\n",
    "               'initial_equity', 'markup']\n",
    "rdf.columns = column_names + list(rdf.columns[len(column_names):])\n",
    "#rdfs = rdf.sort_values('pnl_sum', ascending=[False])\n",
    "rdfs = rdf.sort_values('gain', ascending=[False])\n",
    "rdfs = rdfs[~rdfs.gain.duplicated()]\n",
    "rdfs = rdfs[rdfs.n_closes > 0].head(30)\n",
    "rdfs"
   ]
  },
  {
   "cell_type": "code",
   "execution_count": null,
   "metadata": {},
   "outputs": [],
   "source": [
    "# set best jackrabbit result as settings\n",
    "bs = dict(rdfs.iloc[0])\n",
    "for k in bs:\n",
    "    if k in settings:\n",
    "        settings[k] = round(float(float(bs[k])), 10)\n",
    "        print(k, settings[k])\n",
    "settings = sort_dict_keys(settings)\n",
    "settings"
   ]
  },
  {
   "cell_type": "code",
   "execution_count": null,
   "metadata": {},
   "outputs": [],
   "source": [
    "# plotting method\n",
    "\n",
    "def plot_tdf_(df_, tdf_, side_: int = 0):\n",
    "    df_.loc[tdf_.index[0]:tdf_.index[-1]].price.plot(style='y-')\n",
    "    if side_ >= 0:\n",
    "        longs = tdf_[tdf_.side == 'long']\n",
    "        le = longs[longs.type == 'entry']\n",
    "        lc = longs[longs.type == 'close']\n",
    "        ll = longs[longs.type == 'liq']\n",
    "        le.price.plot(style='b.')\n",
    "        longs.pos_price.plot(style='b--')\n",
    "        longs.close_price.plot(style='r--')\n",
    "        longs.liq_price.plot(style='k--')\n",
    "        lc.price.plot(style='ro')\n",
    "        ll.price.plot(style='gx')\n",
    "    if side_ <= 0:\n",
    "        shrts = tdf_[tdf_.side == 'shrt']\n",
    "        se = shrts[shrts.type == 'entry']\n",
    "        sc = shrts[shrts.type == 'close']\n",
    "        sl = shrts[shrts.type == 'liq']\n",
    "        se.price.plot(style='r.')\n",
    "        shrts.pos_price.plot(style='r--')\n",
    "        shrts.close_price.plot(style='b--')\n",
    "        shrts.liq_price.plot(style='k--')\n",
    "        sc.price.plot(style='bo')\n",
    "        sl.price.plot(style='gx')"
   ]
  },
  {
   "cell_type": "code",
   "execution_count": null,
   "metadata": {},
   "outputs": [],
   "source": [
    "# prep df for backtesting\n",
    "df = prep_df(adf)\n",
    "print(len(df), len(df) / len(adf))\n",
    "df.price.iloc[::100].plot()"
   ]
  },
  {
   "cell_type": "code",
   "execution_count": null,
   "metadata": {},
   "outputs": [],
   "source": [
    "settings = {\n",
    "    'compounding': False,\n",
    "    'ddown_factor': 0.01,\n",
    "    'grid_spacing': 0.003,\n",
    "    'grid_spacing_coefficient': 20.0,\n",
    "    'initial_equity': 0.001,\n",
    "    'isolated_mode': False,\n",
    "    'leverage': 100.0,\n",
    "    'liq_modifier': 0.001,\n",
    "    'maker_fee': -0.00025,\n",
    "    'markup': 0.0019,\n",
    "    'min_qty': 1.0,\n",
    "    'n_days': 0,\n",
    "    'price_step': 0.5,\n",
    "    'qty_step': 1.0,\n",
    "    'symbol': 'BTCUSD'\n",
    "}\n",
    "price_ = df.iloc[0].price\n",
    "n_days = (adf.timestamp.iloc[-1] - adf.timestamp.iloc[0]) / 1000 / 60 / 60 / 24\n",
    "settings['n_days'] = n_days\n",
    "print('price', price_)\n",
    "print('approx price_step', price_ * settings['grid_spacing'])\n",
    "settings"
   ]
  },
  {
   "cell_type": "code",
   "execution_count": null,
   "metadata": {},
   "outputs": [],
   "source": [
    "# dump settings\n",
    "#json.dump(settings, open(f'settings/bybit/{user}.json', 'w'), indent=4, sort_keys=True)"
   ]
  },
  {
   "cell_type": "code",
   "execution_count": null,
   "metadata": {},
   "outputs": [],
   "source": [
    "# backtest\n",
    "start_time = time()\n",
    "trades = backtest(df, settings)\n",
    "print('time elapsed', time() - start_time)"
   ]
  },
  {
   "cell_type": "code",
   "execution_count": null,
   "metadata": {},
   "outputs": [],
   "source": [
    "# analyze results\n",
    "tdf = pd.DataFrame(trades).set_index('trade_id')\n",
    "longs = tdf[tdf.side == 'long']\n",
    "shrts = tdf[tdf.side == 'shrt']\n",
    "le = longs[longs.type == 'entry']\n",
    "lc = longs[longs.type == 'close']\n",
    "ll = longs[longs.type == 'liq']\n",
    "se = shrts[shrts.type == 'entry']\n",
    "sc = shrts[shrts.type == 'close']\n",
    "sl = shrts[shrts.type == 'liq']\n",
    "\n",
    "margin_max = tdf.margin_cost.max()\n",
    "pnl_sum = tdf.pnl.sum()\n",
    "gain = (margin_max + pnl_sum) / margin_max\n",
    "n_days = (adf.timestamp.iloc[-1] - adf.timestamp.iloc[0]) / 1000 / 60 / 60 / 24\n",
    "average_daily_gain = gain ** (1 / n_days)\n",
    "liqs = tdf[tdf.type == 'liq']\n",
    "closes = tdf[tdf.type == 'close']\n",
    "print('margin_max', margin_max)\n",
    "print('biggest qty', tdf.qty.abs().max())\n",
    "print('pnl_sum', pnl_sum)\n",
    "print('gain', gain)\n",
    "print('n_days', n_days)\n",
    "print('average_daily_gain', average_daily_gain)\n",
    "print('n trades', len(tdf))\n",
    "print('n closes', len(closes))\n",
    "print('n liqs', len(liqs))"
   ]
  },
  {
   "cell_type": "code",
   "execution_count": null,
   "metadata": {},
   "outputs": [],
   "source": [
    "# visualize behavior\n",
    "step = 200\n",
    "i = -step"
   ]
  },
  {
   "cell_type": "code",
   "execution_count": null,
   "metadata": {},
   "outputs": [],
   "source": [
    "i += step\n",
    "plot_tdf_(df, tdf.iloc[i:i+step])"
   ]
  },
  {
   "cell_type": "code",
   "execution_count": null,
   "metadata": {},
   "outputs": [],
   "source": [
    "tdf.iloc[i:i+step].tail(40)"
   ]
  },
  {
   "cell_type": "code",
   "execution_count": null,
   "metadata": {},
   "outputs": [],
   "source": [
    "(tdf.qty / tdf.equity).plot()"
   ]
  },
  {
   "cell_type": "code",
   "execution_count": null,
   "metadata": {},
   "outputs": [],
   "source": [
    "tdf.equity_available.plot()"
   ]
  },
  {
   "cell_type": "code",
   "execution_count": null,
   "metadata": {},
   "outputs": [],
   "source": [
    "# cumulative pnl\n",
    "tdf.pnl.cumsum().plot()"
   ]
  },
  {
   "cell_type": "code",
   "execution_count": null,
   "metadata": {},
   "outputs": [],
   "source": [
    "# liquidations\n",
    "liqs"
   ]
  },
  {
   "cell_type": "code",
   "execution_count": null,
   "metadata": {},
   "outputs": [],
   "source": [
    "# inspect liquidations\n",
    "liq_i = 0\n",
    "liq_iloc = tdf.index.get_loc(liqs.index[liq_i])\n",
    "iminus = 200\n",
    "iplus = 200\n",
    "tdfc = tdf.iloc[max(0, liq_iloc-iminus):min(liq_iloc+iplus, len(tdf) - 1)]\n",
    "plot_tdf_(df, tdfc)"
   ]
  },
  {
   "cell_type": "code",
   "execution_count": null,
   "metadata": {},
   "outputs": [],
   "source": [
    "tdfc"
   ]
  },
  {
   "cell_type": "code",
   "execution_count": null,
   "metadata": {},
   "outputs": [],
   "source": [
    "qty_abs = tdf.qty.abs().sort_values(ascending=False)\n",
    "qty_abs.head(10)"
   ]
  },
  {
   "cell_type": "code",
   "execution_count": null,
   "metadata": {},
   "outputs": [],
   "source": [
    "# inspect biggest trades\n",
    "i = 0\n",
    "iloc_ = tdf.index.get_loc(qty_abs.index[i])\n",
    "iminus = 400\n",
    "iplus = 20\n",
    "tdfc = tdf.iloc[max(0, iloc_-iminus):min(iloc_+iplus, len(tdf) - 1)]\n",
    "plot_tdf_(df, tdfc)"
   ]
  },
  {
   "cell_type": "code",
   "execution_count": null,
   "metadata": {},
   "outputs": [],
   "source": [
    "tdfc"
   ]
  },
  {
   "cell_type": "code",
   "execution_count": null,
   "metadata": {},
   "outputs": [],
   "source": []
  }
 ],
 "metadata": {
  "kernelspec": {
   "display_name": "Python 3",
   "language": "python",
   "name": "python3"
  },
  "language_info": {
   "codemirror_mode": {
    "name": "ipython",
    "version": 3
   },
   "file_extension": ".py",
   "mimetype": "text/x-python",
   "name": "python",
   "nbconvert_exporter": "python",
   "pygments_lexer": "ipython3",
   "version": "3.8.2"
  }
 },
 "nbformat": 4,
 "nbformat_minor": 4
}
