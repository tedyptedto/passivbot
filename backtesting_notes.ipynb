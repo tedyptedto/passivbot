{
 "cells": [
  {
   "cell_type": "code",
   "execution_count": null,
   "metadata": {},
   "outputs": [],
   "source": [
    "%load_ext autoreload\n",
    "%autoreload 2"
   ]
  },
  {
   "cell_type": "code",
   "execution_count": null,
   "metadata": {},
   "outputs": [],
   "source": [
    "from backtest import *\n",
    "import matplotlib.pyplot as plt\n",
    "import pandas as pd\n",
    "import numpy as np\n",
    "import pprint\n",
    "from pprint import PrettyPrinter"
   ]
  },
  {
   "cell_type": "code",
   "execution_count": null,
   "metadata": {},
   "outputs": [],
   "source": [
    "plt.rcParams['figure.figsize'] = [21, 13]\n",
    "pd.set_option('precision', 10)\n",
    "pp = PrettyPrinter()"
   ]
  },
  {
   "cell_type": "code",
   "execution_count": null,
   "metadata": {},
   "outputs": [],
   "source": [
    "# plotting method\n",
    "\n",
    "def plot_tdf_(df_, tdf_, side_: int = 0, liq_thr=0.1):\n",
    "    df_.loc[tdf_.index[0]:tdf_.index[-1]].price.plot(style='y-')\n",
    "    if side_ >= 0:\n",
    "        longs = tdf_[tdf_.side == 'long']\n",
    "        le = longs[longs.type == 'entry']\n",
    "        lc = longs[longs.type == 'close']\n",
    "        ls = longs[longs.type == 'stop_loss']\n",
    "        ls.price.plot(style='gx')\n",
    "        le.price.plot(style='b.')\n",
    "        longs.pos_price.plot(style='b--')\n",
    "        if 'close_price' in longs.columns:\n",
    "            longs.close_price.plot(style='r--')\n",
    "        lc.price.plot(style='ro')\n",
    "    if side_ <= 0:\n",
    "        shrts = tdf_[tdf_.side == 'shrt']\n",
    "        se = shrts[shrts.type == 'entry']\n",
    "        sc = shrts[shrts.type == 'close']\n",
    "        ss = shrts[shrts.type == 'stop_loss']\n",
    "        ss.price.plot(style='gx')\n",
    "        se.price.plot(style='r.')\n",
    "        shrts.pos_price.plot(style='r--')\n",
    "        if 'close_price' in shrts.columns:\n",
    "            shrts.close_price.plot(style='b--')\n",
    "        sc.price.plot(style='bo')\n",
    "    if 'liq_price' in tdf_.columns:\n",
    "        tdf_.liq_price.where((tdf_.price - tdf_.liq_price).abs() / tdf_.price < liq_thr, np.nan).plot(style='k--')\n"
   ]
  },
  {
   "cell_type": "code",
   "execution_count": null,
   "metadata": {},
   "outputs": [],
   "source": [
    "exchange = 'binance'\n",
    "symbol = 'XMRUSDT'\n",
    "backtesting_results_dir = f'backtesting_results/{exchange}/{symbol}/'\n",
    "print('sessions')\n",
    "sessions = sorted(os.listdir(backtesting_results_dir))\n",
    "sessions"
   ]
  },
  {
   "cell_type": "code",
   "execution_count": null,
   "metadata": {},
   "outputs": [],
   "source": [
    "# select session, default is last of sorted sessions list\n",
    "session_name = sessions[-1]\n",
    "print('session', session_name)\n",
    "session_dir = f\"{backtesting_results_dir}{session_name}/\"\n",
    "results_filepath = f\"{session_dir}results.txt\"\n",
    "settings = json.load(open(session_dir + 'backtesting_settings.json'))\n",
    "with open(results_filepath) as f:\n",
    "    results = [json.loads(line) for line in f.readlines()]\n",
    "rdf = pd.DataFrame(results)\n",
    "print('\\nn completed backtests', len(rdf))\n",
    "rdf.sort_values('gain', ascending=False)"
   ]
  },
  {
   "cell_type": "code",
   "execution_count": null,
   "metadata": {},
   "outputs": [],
   "source": [
    "n_days = settings['n_days']\n",
    "trades_list_cache_filepath = f\"{session_dir}{n_days}_days_trades_list_cache.npy\"\n",
    "print('loading trades list...')\n",
    "trades_list = np.load(trades_list_cache_filepath, allow_pickle=True)\n",
    "print('done')\n",
    "df = pd.DataFrame(list(trades_list))"
   ]
  },
  {
   "cell_type": "code",
   "execution_count": null,
   "metadata": {},
   "outputs": [],
   "source": [
    "live_settings = json.load(open(session_dir + 'best_result_live_settings.json'))\n",
    "print('live settings, best candidate')\n",
    "print(json.dumps(live_settings, indent=4))"
   ]
  },
  {
   "cell_type": "code",
   "execution_count": null,
   "metadata": {},
   "outputs": [],
   "source": [
    "df.price.iloc[::100].plot()"
   ]
  },
  {
   "cell_type": "code",
   "execution_count": null,
   "metadata": {},
   "outputs": [],
   "source": [
    "rdfs = rdf.sort_values('gain', ascending=False)\n",
    "rdfs.head(20)"
   ]
  },
  {
   "cell_type": "code",
   "execution_count": null,
   "metadata": {},
   "outputs": [],
   "source": [
    "best = json.load(open(session_dir + 'best.json'))\n",
    "ranges = json.load(open(session_dir + 'ranges.json'))\n",
    "best = {k_: best[k_] for k_ in sorted(ranges)}\n",
    "# choose backtest to view.\n",
    "# iloc[0] is first, iloc[1] is second, etc\n",
    "backtest_result = dict(rdfs.iloc[0])\n",
    "best = {k: backtest_result[k] for k in best}\n",
    "\n",
    "tdf = pd.read_csv(f\"{session_dir}backtest_trades/{backtest_result['key']}.csv\").set_index('trade_id')\n",
    "for k in backtest_result:\n",
    "    if k in settings:\n",
    "        settings[k] = backtest_result[k]\n",
    "        print(k, settings[k])\n",
    "settings"
   ]
  },
  {
   "cell_type": "code",
   "execution_count": null,
   "metadata": {},
   "outputs": [],
   "source": [
    "# analyze results\n",
    "longs = tdf[tdf.side == 'long']\n",
    "shrts = tdf[tdf.side == 'shrt']\n",
    "le = longs[longs.type == 'entry']\n",
    "lc = longs[longs.type == 'close']\n",
    "se = shrts[shrts.type == 'entry']\n",
    "sc = shrts[shrts.type == 'close']\n",
    "\n",
    "biggest_pos_size = tdf.pos_size.abs().max()\n",
    "pnl_sum = tdf.pnl.sum()\n",
    "stop_loss_closes = tdf[tdf.type == 'stop_loss']\n",
    "loss_sum = stop_loss_closes.pnl.sum()\n",
    "gain = (settings['starting_balance'] + pnl_sum) / settings['starting_balance']\n",
    "closest_liq = ((tdf.price - tdf.liq_price).abs() / tdf.price).min()\n",
    "n_stop_loss = len(stop_loss_closes)\n",
    "n_days = settings['n_days']\n",
    "average_daily_gain = gain ** (1 / n_days)\n",
    "closes = tdf[tdf.type == 'close']\n",
    "print('net pnl', round(pnl_sum, 6))\n",
    "print('loss sum', round(loss_sum, 6))\n",
    "print(f'gain {gain * 100 - 100:.2f}%')\n",
    "print('n_days', n_days)\n",
    "print(f'average_daily_gain {(average_daily_gain - 1) * 100:.2f}%')\n",
    "print('n trades', len(tdf))\n",
    "print('n closes', len(closes))\n",
    "print('n stop loss closes', n_stop_loss)\n",
    "print('biggest_pos_size', biggest_pos_size)\n",
    "print(f'closest liq {closest_liq * 100:.4f}%')\n"
   ]
  },
  {
   "cell_type": "code",
   "execution_count": null,
   "metadata": {},
   "outputs": [],
   "source": [
    "start_ = 0.0\n",
    "end_ = 1.0\n",
    "plot_tdf_(df, tdf.iloc[int(len(tdf) * start_):int(len(tdf) * end_)])"
   ]
  },
  {
   "cell_type": "code",
   "execution_count": null,
   "metadata": {},
   "outputs": [],
   "source": [
    "tdf.pnl.cumsum().plot()"
   ]
  },
  {
   "cell_type": "code",
   "execution_count": null,
   "metadata": {},
   "outputs": [],
   "source": [
    "tdf.pos_size.plot()"
   ]
  },
  {
   "cell_type": "code",
   "execution_count": null,
   "metadata": {},
   "outputs": [],
   "source": [
    "# visualize behavior\n",
    "step = 120\n",
    "i = -step"
   ]
  },
  {
   "cell_type": "code",
   "execution_count": null,
   "metadata": {},
   "outputs": [],
   "source": [
    "i += step\n",
    "tdfc = tdf.iloc[i:i+step]\n",
    "plot_tdf_(df, tdf.iloc[i:i+step], liq_thr=0.05)"
   ]
  },
  {
   "cell_type": "code",
   "execution_count": null,
   "metadata": {},
   "outputs": [],
   "source": [
    "tdfcj = tdfc.join(pd.Series(tdfc.price.diff(), name='price_diff'))\n",
    "tdfcj.head(60)"
   ]
  },
  {
   "cell_type": "code",
   "execution_count": null,
   "metadata": {},
   "outputs": [],
   "source": [
    "tdfcj.tail(60)"
   ]
  },
  {
   "cell_type": "code",
   "execution_count": null,
   "metadata": {},
   "outputs": [],
   "source": [
    "closest_liqs = ((tdf.liq_price - tdf.price).abs() / tdf.price).sort_values()\n",
    "closest_liqs.head()"
   ]
  },
  {
   "cell_type": "code",
   "execution_count": null,
   "metadata": {},
   "outputs": [],
   "source": [
    "i = 0\n",
    "iloc_ = tdf.index.get_loc(closest_liqs.index[i])\n",
    "iminus = 20\n",
    "iplus = 50\n",
    "tdfc = tdf.iloc[max(0, iloc_-iminus):min(iloc_+iplus, len(tdf) - 1)]\n",
    "plot_tdf_(df, tdfc)"
   ]
  },
  {
   "cell_type": "code",
   "execution_count": null,
   "metadata": {},
   "outputs": [],
   "source": [
    "tdfc.head(60)"
   ]
  },
  {
   "cell_type": "code",
   "execution_count": null,
   "metadata": {},
   "outputs": [],
   "source": [
    "# inspect biggest pos sizes\n",
    "pos_size_abs = tdf.pos_size.abs().sort_values(ascending=False)\n",
    "pos_size_abs.head(10)"
   ]
  },
  {
   "cell_type": "code",
   "execution_count": null,
   "metadata": {},
   "outputs": [],
   "source": [
    "i = 0\n",
    "iloc_ = tdf.index.get_loc(pos_size_abs.index[i])\n",
    "iminus = 400\n",
    "iplus = 20\n",
    "tdfc = tdf.iloc[max(0, iloc_-iminus):min(iloc_+iplus, len(tdf) - 1)]\n",
    "plot_tdf_(df, tdfc)"
   ]
  },
  {
   "cell_type": "code",
   "execution_count": null,
   "metadata": {},
   "outputs": [],
   "source": [
    "ik = -1\n",
    "stepp = 60"
   ]
  },
  {
   "cell_type": "code",
   "execution_count": null,
   "metadata": {},
   "outputs": [],
   "source": [
    "ik += 1\n",
    "tdfc.iloc[stepp * ik:stepp * (ik + 1)]"
   ]
  },
  {
   "cell_type": "code",
   "execution_count": null,
   "metadata": {},
   "outputs": [],
   "source": [
    "tdf.tail(30)"
   ]
  },
  {
   "cell_type": "code",
   "execution_count": null,
   "metadata": {},
   "outputs": [],
   "source": []
  }
 ],
 "metadata": {
  "kernelspec": {
   "display_name": "Python 3",
   "language": "python",
   "name": "python3"
  },
  "language_info": {
   "codemirror_mode": {
    "name": "ipython",
    "version": 3
   },
   "file_extension": ".py",
   "mimetype": "text/x-python",
   "name": "python",
   "nbconvert_exporter": "python",
   "pygments_lexer": "ipython3",
   "version": "3.8.2"
  }
 },
 "nbformat": 4,
 "nbformat_minor": 4
}
