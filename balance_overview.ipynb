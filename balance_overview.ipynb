{
 "cells": [
  {
   "cell_type": "code",
   "execution_count": null,
   "metadata": {},
   "outputs": [],
   "source": [
    "%load_ext autoreload\n",
    "%autoreload 2"
   ]
  },
  {
   "cell_type": "code",
   "execution_count": null,
   "metadata": {},
   "outputs": [],
   "source": [
    "from procedures import create_binance_bot, create_binance_bot_spot\n",
    "from pure_funcs import get_template_live_config, ts_to_date\n",
    "from njit_funcs import round_dynamic\n",
    "from time import time\n",
    "import pandas as pd\n",
    "import matplotlib.pyplot as plt"
   ]
  },
  {
   "cell_type": "code",
   "execution_count": null,
   "metadata": {},
   "outputs": [],
   "source": [
    "plt.rcParams['figure.figsize'] = [21, 13]\n",
    "pd.set_option('precision', 10)"
   ]
  },
  {
   "cell_type": "code",
   "execution_count": null,
   "metadata": {},
   "outputs": [],
   "source": [
    "config = get_template_live_config()\n",
    "config['symbol'] = 'XMRUSDT' # dummy symbol\n",
    "config['exchange'] = 'binance'\n",
    "config['market_type'] = 'futures'\n",
    "config['user'] = 'user_name'\n",
    "try:\n",
    "    await bot.session.close()\n",
    "except:\n",
    "    pass\n",
    "if config['market_type'] == 'spot':\n",
    "    bot = await create_binance_bot_spot(config)\n",
    "else:\n",
    "    bot = await create_binance_bot(config)\n",
    "\n",
    "await bot.update_position()\n",
    "balance = bot.position['wallet_balance']\n",
    "\n",
    "n_days = 30\n",
    "start_time = (time() - 60 * 60 * 24 * n_days) * 1000\n",
    "income = await bot.get_all_income(start_time)\n",
    "idf = pd.DataFrame(income)\n",
    "idf.loc[:,'datetime'] = idf.timestamp.apply(ts_to_date)\n",
    "idf.index = idf.timestamp\n",
    "idf"
   ]
  },
  {
   "cell_type": "code",
   "execution_count": null,
   "metadata": {},
   "outputs": [],
   "source": [
    "print(f'current balance {round_dynamic(balance, 5)}')\n",
    "print(f'abs adg {round_dynamic(idf.income.sum() / n_days, 4)} {idf.iloc[-1][\"token\"]}')\n",
    "print(f'pct adg {((balance + idf.income.sum()) / balance) ** (1 / n_days) - 1:.5f}')\n",
    "\n",
    "idf.income.cumsum().plot()"
   ]
  },
  {
   "cell_type": "code",
   "execution_count": null,
   "metadata": {},
   "outputs": [],
   "source": [
    "idf.tail(20)"
   ]
  },
  {
   "cell_type": "code",
   "execution_count": null,
   "metadata": {},
   "outputs": [],
   "source": [
    "day = 1000 * 60 * 60 * 24\n",
    "days = idf.timestamp // day * day\n",
    "groups = idf.groupby(days)\n",
    "daily_income = groups.income.sum()\n",
    "cumulative = daily_income.cumsum()\n",
    "starting_balance = balance - cumulative.iloc[-1]\n",
    "plus_balance = cumulative + starting_balance\n",
    "daily_pct_change = plus_balance / plus_balance.shift() - 1\n",
    "bdf = pd.DataFrame({'abs_income': daily_income.values,\n",
    "                    'gain': daily_pct_change.values,\n",
    "                    'cumulative': plus_balance.values}, index=[ts_to_date(x) for x in days.unique()])\n",
    "bdf"
   ]
  },
  {
   "cell_type": "code",
   "execution_count": null,
   "metadata": {},
   "outputs": [],
   "source": [
    "bdf.gain.plot()"
   ]
  },
  {
   "cell_type": "code",
   "execution_count": null,
   "metadata": {},
   "outputs": [],
   "source": []
  }
 ],
 "metadata": {
  "kernelspec": {
   "display_name": "Python 3",
   "language": "python",
   "name": "python3"
  },
  "language_info": {
   "codemirror_mode": {
    "name": "ipython",
    "version": 3
   },
   "file_extension": ".py",
   "mimetype": "text/x-python",
   "name": "python",
   "nbconvert_exporter": "python",
   "pygments_lexer": "ipython3",
   "version": "3.8.3"
  }
 },
 "nbformat": 4,
 "nbformat_minor": 4
}
