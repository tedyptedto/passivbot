{
 "cells": [
  {
   "cell_type": "code",
   "execution_count": null,
   "id": "5d04cc5b-ff14-4d8a-8b01-36d4935897ca",
   "metadata": {},
   "outputs": [],
   "source": [
    "%load_ext autoreload\n",
    "%autoreload 2"
   ]
  },
  {
   "cell_type": "code",
   "execution_count": null,
   "id": "38c240d7-c65b-457b-a10f-7a8f24dccf96",
   "metadata": {
    "tags": []
   },
   "outputs": [],
   "source": [
    "from backtest import backtest\n",
    "from plotting import plot_fills, make_table\n",
    "from downloader import load_hlc_cache\n",
    "from pure_funcs import (\n",
    "    denumpyize,\n",
    "    numpyize,\n",
    "    candidate_to_live_config,\n",
    "    calc_spans,\n",
    "    analyze_fills,\n",
    "    round_dynamic,\n",
    "    round_values,\n",
    "    sort_dict_keys,\n",
    ")\n",
    "from procedures import (\n",
    "    dump_live_config,\n",
    "    load_live_config,\n",
    "    add_argparse_args,\n",
    "    prepare_backtest_config,\n",
    "    make_get_filepath,\n",
    ")\n",
    "from time import time\n",
    "import sys\n",
    "import argparse\n",
    "import pprint\n",
    "import matplotlib.pyplot as plt\n",
    "import json\n",
    "import pandas as pd\n",
    "import numpy as np"
   ]
  },
  {
   "cell_type": "code",
   "execution_count": null,
   "id": "c81212aa-6395-46b5-9b57-f6a8d7faa245",
   "metadata": {},
   "outputs": [],
   "source": [
    "plt.rcParams[\"figure.figsize\"] = [24, 13.5]\n",
    "plt.rcParams[\"figure.facecolor\"] = \"w\"\n",
    "pd.set_option(\"display.precision\", 10)"
   ]
  },
  {
   "cell_type": "code",
   "execution_count": null,
   "id": "457aed4f-fa83-4cd9-bd74-d6c89b4e269d",
   "metadata": {
    "tags": []
   },
   "outputs": [],
   "source": [
    "class Args:\n",
    "    def __init__(self):\n",
    "        self.backtest_config_path = \"configs/backtest/default.hjson\"\n",
    "        self.exchange = \"binance\"\n",
    "        self.symbol = \"XMRUSDT\"\n",
    "        self.market_type = \"futures\"\n",
    "        self.user = \"binance_01\"\n",
    "        self.start_date = \"2021-05-01\"\n",
    "        self.end_date = \"2023-03-10\"\n",
    "        self.starting_balance = 10000.0\n",
    "        self.starting_configs = \"\"\n",
    "        self.base_dir = \"backtests\"\n",
    "\n",
    "\n",
    "config = await prepare_backtest_config(Args())\n",
    "config[\"adg_n_subdivisions\"] = 10  # see configs/backtest/default.hjson for details\n",
    "config[\"inverse\"] = False\n",
    "\n",
    "sts = time()\n",
    "data = load_hlc_cache(\n",
    "    config[\"symbol\"],\n",
    "    config[\"inverse\"],\n",
    "    config[\"start_date\"],\n",
    "    config[\"end_date\"],\n",
    "    base_dir=config[\"base_dir\"],\n",
    "    spot=config[\"spot\"],\n",
    "    exchange=config[\"exchange\"],\n",
    ")\n",
    "prices = data[:, 3]\n",
    "highs = data[:, 1]\n",
    "lows = data[:, 2]\n",
    "closes = data[:, 3]\n",
    "timestamps = data[:, 0]\n",
    "config[\"n_days\"] = (timestamps[-1] - timestamps[0]) / (1000 * 60 * 60 * 24)\n",
    "\n",
    "print(f\"millis to load {len(prices)} ticks {(time() - sts) * 1000:.0f}ms\")"
   ]
  },
  {
   "cell_type": "code",
   "execution_count": null,
   "id": "f38d8fd3-ccf4-4465-837b-24abaa121cee",
   "metadata": {},
   "outputs": [],
   "source": [
    "df = pd.DataFrame({\"timestamp\": timestamps, \"price\": prices}).set_index(\"timestamp\")\n",
    "df.price.iloc[::100].plot(title=\"Coin Price\", xlabel=\"Time\", ylabel=\"Price\")"
   ]
  },
  {
   "cell_type": "code",
   "execution_count": null,
   "id": "a44cb695-002e-4cd4-b652-36d40f8008c5",
   "metadata": {},
   "outputs": [],
   "source": [
    "hand_tuned = {\n",
    "    \"config_name\": \"emas_0days\",\n",
    "    \"long\": {\n",
    "        \"delay_between_fills_minutes_close\": 703.3,\n",
    "        \"delay_between_fills_minutes_entry\": 187.5,\n",
    "        \"delay_weight_close\": 3.989,\n",
    "        \"delay_weight_entry\": 8.921,\n",
    "        \"ema_dist_entry\": 0.0008584,\n",
    "        \"ema_dist_close\": 0.007752,\n",
    "        \"ema_span_0\": 954.0,\n",
    "        \"ema_span_1\": 124.3,\n",
    "        \"enabled\": True,\n",
    "        \"markup_range\": 0.06996,\n",
    "        \"min_markup\": 0.02848,\n",
    "        \"n_close_orders\": 14,\n",
    "        \"qty_pct_close\": 0.09392,\n",
    "        \"qty_pct_entry\": 0.01674,\n",
    "        \"wallet_exposure_limit\": 1.0,\n",
    "        \"we_multiplier_close\": 7.798,\n",
    "        \"we_multiplier_entry\": 6.95,\n",
    "    },\n",
    "    \"short\": {\n",
    "        \"delay_between_fills_minutes_close\": 1172.0,\n",
    "        \"delay_between_fills_minutes_entry\": 1351.0,\n",
    "        \"delay_weight_close\": 2.832,\n",
    "        \"delay_weight_entry\": 15.12,\n",
    "        \"ema_dist_entry\": 0.004033,\n",
    "        \"ema_dist_close\": 0.005519,\n",
    "        \"ema_span_0\": 1251.0,\n",
    "        \"ema_span_1\": 1830.0,\n",
    "        \"enabled\": True,\n",
    "        \"markup_range\": 0.06225,\n",
    "        \"min_markup\": 0.06723,\n",
    "        \"n_close_orders\": 5,\n",
    "        \"qty_pct_close\": 0.06165,\n",
    "        \"qty_pct_entry\": 0.01561,\n",
    "        \"wallet_exposure_limit\": 1.0,\n",
    "        \"we_multiplier_close\": 9.278,\n",
    "        \"we_multiplier_entry\": 49.73,\n",
    "    },\n",
    "}\n",
    "\n",
    "config_to_test = {**config, **hand_tuned}"
   ]
  },
  {
   "cell_type": "code",
   "execution_count": null,
   "id": "063edb35-27ff-4dd0-a03e-7996f2bfa9e1",
   "metadata": {},
   "outputs": [],
   "source": [
    "sts = time()\n",
    "fills_long, fills_short, stats = backtest(config_to_test, data)\n",
    "elapsed = time() - sts\n",
    "print(f\"seconds elapsed {elapsed:.4f}\")\n",
    "longs, shorts, sdf, analysis = analyze_fills(fills_long, fills_short, stats, config_to_test)\n",
    "table = make_table({**config_to_test, **analysis})\n",
    "print(table)"
   ]
  },
  {
   "cell_type": "code",
   "execution_count": null,
   "id": "1c2d6679-1ee7-4016-8c25-9c1163870bf7",
   "metadata": {},
   "outputs": [],
   "source": [
    "sdf"
   ]
  },
  {
   "cell_type": "code",
   "execution_count": null,
   "id": "c9d89e7e-8d14-4722-b5ad-4346dc120b6a",
   "metadata": {},
   "outputs": [],
   "source": [
    "sdf.balance_long.plot()\n",
    "sdf.equity_long.plot(title=\"Balance and equity long\", xlabel=\"Time\", ylabel=\"Balance\")"
   ]
  },
  {
   "cell_type": "code",
   "execution_count": null,
   "id": "53c3110a-f9d4-4df7-9335-67900e47529f",
   "metadata": {},
   "outputs": [],
   "source": [
    "sdf.balance_short.plot()\n",
    "sdf.equity_short.plot(title=\"Balance and equity short\", xlabel=\"Time\", ylabel=\"Balance\")"
   ]
  },
  {
   "cell_type": "code",
   "execution_count": null,
   "id": "32b2dc74-24e4-487b-bdcb-d30281e3cf12",
   "metadata": {},
   "outputs": [],
   "source": [
    "if len(longs) > 0:\n",
    "    plot_fills(df, longs, plot_whole_df=True, title=\"Overview Fills Long\")"
   ]
  },
  {
   "cell_type": "code",
   "execution_count": null,
   "id": "7df6ee86-4e63-4e14-bb9f-fb9abf9a06e2",
   "metadata": {},
   "outputs": [],
   "source": [
    "if len(shorts) > 0:\n",
    "    plot_fills(df, shorts, plot_whole_df=True, title=\"Overview Fills Short\")"
   ]
  },
  {
   "cell_type": "code",
   "execution_count": null,
   "id": "4aa9d609-ccd2-4ae5-862e-0d8758ee4953",
   "metadata": {},
   "outputs": [],
   "source": [
    "wes = pd.DataFrame(\n",
    "    {\"WE_short\": (sdf.wallet_exposure_short.abs() * -1), \"WE_long\": sdf.wallet_exposure_long}\n",
    ")\n",
    "wes.plot(title=\"Wallet exposures\", xlabel=\"Time\", ylabel=\"Wallet Exposure\")"
   ]
  },
  {
   "cell_type": "code",
   "execution_count": null,
   "id": "9cad96ab-9268-4b08-9d08-e77d8b46e140",
   "metadata": {},
   "outputs": [],
   "source": [
    "sdf.price.plot(title=\"Average entry price\", xlabel=\"Time\", ylabel=\"Price\")\n",
    "sdf[sdf.psize_long != 0].pprice_long.replace(0.0, np.nan).plot()\n",
    "sdf[sdf.psize_short != 0].pprice_short.replace(0.0, np.nan).plot()"
   ]
  },
  {
   "cell_type": "code",
   "execution_count": null,
   "id": "3ff902c7-a17a-4a48-8069-55f9c1c6e05d",
   "metadata": {},
   "outputs": [],
   "source": [
    "lpprices = sdf[sdf.psize_long != 0.0]\n",
    "PADistance_long = (lpprices.pprice_long - lpprices.price).abs() / lpprices.price\n",
    "print(f\"Price action distance long mean {PADistance_long.mean():.6f} std {PADistance_long.std():.6f}\")\n",
    "PADistance_long.plot(title=\"Price action distance\", xlabel=\"Time\", ylabel=\"Price action distance\")"
   ]
  },
  {
   "cell_type": "code",
   "execution_count": null,
   "id": "020a2772-ecf9-4885-91e1-87f859bd2440",
   "metadata": {},
   "outputs": [],
   "source": [
    "spprices = sdf[sdf.psize_short != 0.0]\n",
    "PADistance_short = (spprices.pprice_short - spprices.price).abs() / spprices.price\n",
    "print(f\"Mean price action distance short {PADistance_short.mean():.6f}\")\n",
    "PADistance_short.plot(title=\"Price action distance\", xlabel=\"Time\", ylabel=\"Price action distance\")"
   ]
  },
  {
   "cell_type": "code",
   "execution_count": null,
   "id": "d8450bf0-0eeb-4ac7-8ba9-7ed385c8656f",
   "metadata": {},
   "outputs": [],
   "source": [
    "spans_long = sorted(\n",
    "    [\n",
    "        config_to_test[\"long\"][\"ema_span_0\"],\n",
    "        (config_to_test[\"long\"][\"ema_span_0\"] * config_to_test[\"long\"][\"ema_span_1\"]) ** 0.5,\n",
    "        config_to_test[\"long\"][\"ema_span_1\"],\n",
    "    ]\n",
    ")\n",
    "emas_long = pd.DataFrame(\n",
    "    {f\"ema_{span}\": df.price.ewm(span=span, adjust=False).mean() for span in spans_long},\n",
    "    index=df.index,\n",
    ")\n",
    "ema_bands_long = pd.DataFrame(\n",
    "    {\n",
    "        \"ema_band_lower\": emas_long.min(axis=1) * (1 - config_to_test[\"long\"][\"ema_dist_entry\"]),\n",
    "        \"ema_band_upper\": emas_long.max(axis=1) * (1 + config_to_test[\"long\"][\"ema_dist_close\"]),\n",
    "    },\n",
    "    index=df.index,\n",
    ")\n",
    "df_emas_long = df.join(ema_bands_long)\n",
    "df_emas_long.price.plot(style=\"y-\")\n",
    "df_emas_long.ema_band_lower.plot(style=\"b--\")\n",
    "df_emas_long.ema_band_upper.plot(style=\"r--\")"
   ]
  },
  {
   "cell_type": "code",
   "execution_count": null,
   "id": "4aaf8c0f-0921-4850-8a78-bbbaee24e70c",
   "metadata": {},
   "outputs": [],
   "source": [
    "spans_short = sorted(\n",
    "    [\n",
    "        config_to_test[\"short\"][\"ema_span_0\"],\n",
    "        (config_to_test[\"short\"][\"ema_span_0\"] * config_to_test[\"short\"][\"ema_span_1\"]) ** 0.5,\n",
    "        config_to_test[\"short\"][\"ema_span_1\"],\n",
    "    ]\n",
    ")\n",
    "emas_short = pd.DataFrame(\n",
    "    {f\"ema_{span}\": df.price.ewm(span=span, adjust=False).mean() for span in spans_short},\n",
    "    index=df.index,\n",
    ")\n",
    "ema_bands_short = pd.DataFrame(\n",
    "    {\n",
    "        \"ema_band_lower\": emas_short.min(axis=1) * (1 - config_to_test[\"short\"][\"ema_dist_close\"]),\n",
    "        \"ema_band_upper\": emas_short.max(axis=1) * (1 + config_to_test[\"short\"][\"ema_dist_entry\"]),\n",
    "    },\n",
    "    index=df.index,\n",
    ")\n",
    "df_emas_short = df.join(ema_bands_short)\n",
    "df_emas_short.price.plot(style=\"y-\")\n",
    "df_emas_short.ema_band_lower.plot(style=\"b--\")\n",
    "df_emas_short.ema_band_upper.plot(style=\"r--\")"
   ]
  },
  {
   "cell_type": "code",
   "execution_count": null,
   "id": "288301c3-fbec-4546-8fd2-ce2fa7da9a9a",
   "metadata": {},
   "outputs": [],
   "source": []
  }
 ],
 "metadata": {
  "kernelspec": {
   "display_name": "Python 3 (ipykernel)",
   "language": "python",
   "name": "python3"
  },
  "language_info": {
   "codemirror_mode": {
    "name": "ipython",
    "version": 3
   },
   "file_extension": ".py",
   "mimetype": "text/x-python",
   "name": "python",
   "nbconvert_exporter": "python",
   "pygments_lexer": "ipython3",
   "version": "3.9.16"
  }
 },
 "nbformat": 4,
 "nbformat_minor": 5
}
